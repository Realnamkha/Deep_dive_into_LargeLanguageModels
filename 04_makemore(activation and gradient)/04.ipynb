{
 "cells": [
  {
   "cell_type": "code",
   "execution_count": 1,
   "id": "f5b149ef-a9ff-401c-ba30-c83887ba60c3",
   "metadata": {},
   "outputs": [],
   "source": [
    "import torch\n",
    "import torch.nn.functional as F\n",
    "import matplotlib.pyplot as plt # for making figures\n",
    "%matplotlib inline"
   ]
  },
  {
   "cell_type": "code",
   "execution_count": 2,
   "id": "f6204fab-3407-4747-bc3d-75d1f6b505b6",
   "metadata": {},
   "outputs": [
    {
     "data": {
      "text/plain": [
       "['emma', 'olivia', 'ava', 'isabella', 'sophia', 'charlotte', 'mia', 'amelia']"
      ]
     },
     "execution_count": 2,
     "metadata": {},
     "output_type": "execute_result"
    }
   ],
   "source": [
    "# read in all the words\n",
    "words = open('../names.txt', 'r').read().splitlines()\n",
    "words[:8]"
   ]
  },
  {
   "cell_type": "code",
   "execution_count": 3,
   "id": "ac886705-c5b5-4f29-ae6e-8f2a3ba9fb17",
   "metadata": {},
   "outputs": [
    {
     "data": {
      "text/plain": [
       "32033"
      ]
     },
     "execution_count": 3,
     "metadata": {},
     "output_type": "execute_result"
    }
   ],
   "source": [
    "len(words)"
   ]
  },
  {
   "cell_type": "code",
   "execution_count": 4,
   "id": "bfdb3e31-3364-494f-acda-d83dc5a5dbb5",
   "metadata": {},
   "outputs": [
    {
     "name": "stdout",
     "output_type": "stream",
     "text": [
      "{1: 'a', 2: 'b', 3: 'c', 4: 'd', 5: 'e', 6: 'f', 7: 'g', 8: 'h', 9: 'i', 10: 'j', 11: 'k', 12: 'l', 13: 'm', 14: 'n', 15: 'o', 16: 'p', 17: 'q', 18: 'r', 19: 's', 20: 't', 21: 'u', 22: 'v', 23: 'w', 24: 'x', 25: 'y', 26: 'z', 0: '.'}\n",
      "27\n"
     ]
    }
   ],
   "source": [
    "# build the vocabulary of characters and mappings to/from integers\n",
    "chars = sorted(list(set(''.join(words))))\n",
    "stoi = {s:i+1 for i,s in enumerate(chars)}\n",
    "stoi['.'] = 0\n",
    "itos = {i:s for s,i in stoi.items()}\n",
    "vocab_size = len(itos)\n",
    "print(itos)\n",
    "print(vocab_size)"
   ]
  },
  {
   "cell_type": "code",
   "execution_count": 5,
   "id": "8f605f51-ec3a-4cf1-9fc7-b57af834ec0d",
   "metadata": {},
   "outputs": [
    {
     "name": "stdout",
     "output_type": "stream",
     "text": [
      "torch.Size([182625, 3]) torch.Size([182625])\n",
      "torch.Size([22655, 3]) torch.Size([22655])\n",
      "torch.Size([22866, 3]) torch.Size([22866])\n"
     ]
    }
   ],
   "source": [
    "# building the dataset\n",
    "# build the dataset\n",
    "block_size = 3 # context length: how many characters do we take to predict the next one?\n",
    "\n",
    "def build_dataset(words):  \n",
    "  X, Y = [], []\n",
    "  \n",
    "  for w in words:\n",
    "    context = [0] * block_size\n",
    "    for ch in w + '.':\n",
    "      ix = stoi[ch]\n",
    "      X.append(context)\n",
    "      Y.append(ix)\n",
    "      context = context[1:] + [ix] # crop and append\n",
    "\n",
    "  X = torch.tensor(X)\n",
    "  Y = torch.tensor(Y)\n",
    "  print(X.shape, Y.shape)\n",
    "  return X, Y\n",
    "\n",
    "import random\n",
    "random.seed(42)\n",
    "random.shuffle(words)\n",
    "n1 = int(0.8*len(words))\n",
    "n2 = int(0.9*len(words))\n",
    "\n",
    "Xtr,  Ytr  = build_dataset(words[:n1])     # 80%\n",
    "Xdev, Ydev = build_dataset(words[n1:n2])   # 10%\n",
    "Xte,  Yte  = build_dataset(words[n2:])     # 10%"
   ]
  },
  {
   "cell_type": "code",
   "execution_count": 6,
   "id": "9d91594b-5d67-4e52-81b3-078444b2a49d",
   "metadata": {},
   "outputs": [
    {
     "name": "stdout",
     "output_type": "stream",
     "text": [
      "12097\n"
     ]
    }
   ],
   "source": [
    "# MLP revisited\n",
    "n_embd = 10 # the dimensionality of the character embedding vectors\n",
    "n_hidden = 200 # the number of neurons in the hidden layer of the MLP\n",
    "\n",
    "g = torch.Generator().manual_seed(2147483647) # for reproducibility\n",
    "C  = torch.randn((vocab_size, n_embd),            generator=g)\n",
    "W1 = torch.randn((n_embd * block_size, n_hidden), generator=g) * (5/3)/((n_embd * block_size)**0.5) #kaining init\n",
    "b1 = torch.randn(n_hidden,                        generator=g) * 0.01\n",
    "W2 = torch.randn((n_hidden, vocab_size),          generator=g) * 0.01 # to make initial logits close to zero\n",
    "b2 = torch.randn(vocab_size,                      generator=g) * 0\n",
    "\n",
    "# BatchNorm parameters\n",
    "bngain = torch.ones((1, n_hidden))\n",
    "bnbias = torch.zeros((1, n_hidden))\n",
    "bnmean_running = torch.zeros((1, n_hidden))\n",
    "bnstd_running = torch.ones((1, n_hidden))\n",
    "\n",
    "parameters = [C, W1, W2, b2, bngain, bnbias]\n",
    "print(sum(p.nelement() for p in parameters)) # number of parameters in total\n",
    "for p in parameters:\n",
    "  p.requires_grad = True"
   ]
  },
  {
   "cell_type": "code",
   "execution_count": 11,
   "id": "6bc47dd8-65a9-496c-9baa-38d4723c3320",
   "metadata": {},
   "outputs": [
    {
     "data": {
      "text/plain": [
       "torch.Size([32, 200])"
      ]
     },
     "execution_count": 11,
     "metadata": {},
     "output_type": "execute_result"
    }
   ],
   "source": [
    "hpreact.shape"
   ]
  },
  {
   "cell_type": "code",
   "execution_count": 12,
   "id": "9ebc56ca-fa79-478c-8579-0bbb581f7c68",
   "metadata": {},
   "outputs": [
    {
     "data": {
      "text/plain": [
       "torch.Size([1, 200])"
      ]
     },
     "execution_count": 12,
     "metadata": {},
     "output_type": "execute_result"
    }
   ],
   "source": [
    "hpreact.mean(0,keepdim=True).shape"
   ]
  },
  {
   "cell_type": "code",
   "execution_count": 13,
   "id": "f4f3d8ab-680d-4e52-9329-918d13895ea7",
   "metadata": {},
   "outputs": [
    {
     "data": {
      "text/plain": [
       "tensor([[1.3558, 1.0380, 1.1400, 0.7320, 1.1605, 1.4651, 1.9289, 1.5232, 1.4252,\n",
       "         1.2851, 1.3524, 1.3369, 1.4715, 1.2483, 1.3107, 1.6235, 1.0967, 1.4431,\n",
       "         1.1748, 1.5887, 1.3626, 1.0880, 1.2424, 1.0703, 1.3868, 0.7471, 1.2735,\n",
       "         1.5220, 1.1894, 1.1599, 1.0580, 1.1935, 0.9980, 1.1445, 1.1674, 1.0424,\n",
       "         1.4455, 1.2111, 0.8829, 0.9107, 1.0582, 1.2010, 1.4223, 1.0079, 1.1919,\n",
       "         1.5200, 1.3413, 1.4154, 1.4260, 1.6018, 1.2796, 1.2320, 1.2853, 1.0116,\n",
       "         1.5774, 1.3184, 1.0811, 1.3938, 1.2372, 0.9800, 1.3435, 1.4111, 1.1743,\n",
       "         1.2943, 1.3199, 1.2122, 1.2723, 1.7611, 1.0524, 1.2356, 1.2222, 1.1966,\n",
       "         1.3707, 1.3427, 1.1280, 1.1597, 1.3492, 1.4842, 0.9296, 1.2549, 1.2170,\n",
       "         0.9955, 0.9919, 1.0357, 1.0273, 1.4719, 1.2842, 1.2582, 3.0079, 1.5895,\n",
       "         1.5322, 1.3161, 1.2326, 0.9735, 0.9273, 1.4207, 1.0574, 1.0702, 1.1402,\n",
       "         1.2404, 1.3857, 1.1218, 0.9742, 1.1455, 1.1647, 1.5384, 1.2634, 1.4989,\n",
       "         0.8944, 1.0888, 1.7632, 1.5184, 1.0470, 1.3284, 2.0938, 1.4110, 1.3043,\n",
       "         1.5619, 1.0663, 1.4041, 1.3674, 1.1600, 1.1344, 1.3273, 1.3774, 1.2491,\n",
       "         1.4555, 1.3624, 1.3002, 1.2154, 1.3626, 1.7142, 1.0393, 0.9160, 1.3328,\n",
       "         1.1225, 1.5732, 2.5059, 1.2315, 1.5103, 1.4958, 1.1640, 1.6278, 0.1063,\n",
       "         1.2406, 1.4614, 1.1617, 1.1006, 1.3180, 1.0775, 0.9131, 1.2546, 1.3034,\n",
       "         1.2011, 1.0781, 1.6342, 1.2681, 1.0273, 1.0669, 1.0569, 1.5107, 1.1568,\n",
       "         1.2359, 1.2458, 1.3943, 1.0123, 0.9738, 1.3897, 1.1964, 1.3022, 1.1548,\n",
       "         1.2758, 1.2654, 1.2059, 1.6835, 1.0160, 1.5980, 1.2600, 1.5117, 1.1061,\n",
       "         1.5317, 1.1611, 1.5457, 1.2553, 1.2892, 1.3014, 1.3558, 1.2894, 0.1606,\n",
       "         1.2318, 1.0880, 1.5450, 1.2085, 1.0835, 1.4232, 1.5452, 1.1854, 1.4709,\n",
       "         1.3358, 1.0469]], grad_fn=<StdBackward0>)"
      ]
     },
     "execution_count": 13,
     "metadata": {},
     "output_type": "execute_result"
    }
   ],
   "source": [
    "hpreact.std(0,keepdim=True)"
   ]
  },
  {
   "cell_type": "code",
   "execution_count": 9,
   "id": "f95c08ca-dbc0-4e3f-8815-fc52c160cc5d",
   "metadata": {},
   "outputs": [
    {
     "name": "stdout",
     "output_type": "stream",
     "text": [
      "      0/ 200000: 3.3147\n",
      "  10000/ 200000: 2.1984\n",
      "  20000/ 200000: 2.3375\n",
      "  30000/ 200000: 2.4359\n",
      "  40000/ 200000: 2.0119\n",
      "  50000/ 200000: 2.2595\n",
      "  60000/ 200000: 2.4775\n",
      "  70000/ 200000: 2.1020\n",
      "  80000/ 200000: 2.2788\n",
      "  90000/ 200000: 2.1862\n",
      " 100000/ 200000: 1.9474\n",
      " 110000/ 200000: 2.3010\n",
      " 120000/ 200000: 1.9837\n",
      " 130000/ 200000: 2.4523\n",
      " 140000/ 200000: 2.3839\n",
      " 150000/ 200000: 2.1987\n",
      " 160000/ 200000: 1.9733\n",
      " 170000/ 200000: 1.8668\n",
      " 180000/ 200000: 1.9973\n",
      " 190000/ 200000: 1.8347\n"
     ]
    }
   ],
   "source": [
    "# same optimization as last time\n",
    "max_steps = 200000\n",
    "batch_size = 32\n",
    "lossi = []\n",
    "\n",
    "for i in range(max_steps):\n",
    "  \n",
    "  # minibatch construct\n",
    "  ix = torch.randint(0, Xtr.shape[0], (batch_size,), generator=g)\n",
    "  Xb, Yb = Xtr[ix], Ytr[ix] # batch X,Y\n",
    "  \n",
    "  # forward pass\n",
    "  emb = C[Xb] # embed the characters into vectors\n",
    "  embcat = emb.view(emb.shape[0], -1) # concatenate the vectors\n",
    "  # Linear layer\n",
    "  hpreact = embcat @ W1 #+ b1 # hidden layer pre-activation //we need to make this roughly gaussian\n",
    "  # BatchNorm layer\n",
    "  # -------------------------------------------------------------\n",
    "  bnmeani = hpreact.mean(0, keepdim=True)\n",
    "  bnstdi = hpreact.std(0, keepdim=True)\n",
    "  hpreact = bngain * (hpreact - bnmeani) / bnstdi + bnbias\n",
    "  with torch.no_grad():\n",
    "    bnmean_running = 0.999 * bnmean_running + 0.001 * bnmeani #receive update in the direction\n",
    "    bnstd_running = 0.999 * bnstd_running + 0.001 * bnstdi\n",
    "  # -------------------------------------------------------------\n",
    "  # Non-linearity\n",
    "  h = torch.tanh(hpreact) # hidden layer\n",
    "  logits = h @ W2 + b2 # output layer\n",
    "  loss = F.cross_entropy(logits, Yb) # loss function\n",
    "  \n",
    "  # backward pass\n",
    "  for p in parameters:\n",
    "    p.grad = None\n",
    "  loss.backward()\n",
    "  \n",
    "  # update\n",
    "  lr = 0.1 if i < 100000 else 0.01 # step learning rate decay\n",
    "  for p in parameters:\n",
    "    p.data += -lr * p.grad\n",
    "\n",
    "  # track stats\n",
    "  if i % 10000 == 0: # print every once in a while\n",
    "    print(f'{i:7d}/{max_steps:7d}: {loss.item():.4f}')\n",
    "  lossi.append(loss.log10().item())"
   ]
  },
  {
   "cell_type": "code",
   "execution_count": 10,
   "id": "9e4fe908-03d7-46f6-97b1-abc2406ec13b",
   "metadata": {},
   "outputs": [
    {
     "data": {
      "text/plain": [
       "tensor([-2.9433,  1.7033, -0.1491, -0.6337, -0.2506,  1.9912, -1.0583, -1.1586,\n",
       "        -0.0168,  2.3001, -2.0891, -1.5072,  2.9150,  1.6254,  2.9859,  0.7832,\n",
       "        -0.6382, -3.9366,  1.3895,  1.1865,  0.8465, -1.4758,  0.3449, -2.4001,\n",
       "        -2.2058,  2.5447, -0.3120], grad_fn=<SelectBackward0>)"
      ]
     },
     "execution_count": 10,
     "metadata": {},
     "output_type": "execute_result"
    }
   ],
   "source": [
    "logits[0]"
   ]
  },
  {
   "cell_type": "code",
   "execution_count": null,
   "id": "d072851a-b210-421f-abf4-e3d40f6e92bc",
   "metadata": {},
   "outputs": [],
   "source": []
  },
  {
   "cell_type": "code",
   "execution_count": null,
   "id": "8b9f36e6-f205-43bf-bff7-eb2a0652d2ac",
   "metadata": {},
   "outputs": [],
   "source": []
  },
  {
   "cell_type": "code",
   "execution_count": 14,
   "id": "b17ae4e7-5814-4d78-95c5-ca9f495041bf",
   "metadata": {},
   "outputs": [
    {
     "name": "stdout",
     "output_type": "stream",
     "text": [
      "torch.Size([32])\n",
      "torch.Size([182625, 3])\n",
      "torch.Size([32, 3])\n",
      "torch.Size([32, 30])\n"
     ]
    }
   ],
   "source": [
    "for i in range(1):\n",
    "  \n",
    "  # minibatch construct\n",
    "  ix = torch.randint(0, Xtr.shape[0], (32,), generator=g)\n",
    "  print(ix.shape)\n",
    "  print(Xtr.shape)\n",
    "  Xb, Yb = Xtr[ix], Ytr[ix]\n",
    "  print(Xb.shape)\n",
    "  emb = C[Xb]\n",
    "  embcat = emb.view(emb.shape[0], -1)\n",
    "  print(embcat.shape)"
   ]
  },
  {
   "cell_type": "code",
   "execution_count": 9,
   "id": "13c7f488-4cee-4bb7-8979-a7669f6beacf",
   "metadata": {},
   "outputs": [],
   "source": [
    "### fixing the initialization issue"
   ]
  },
  {
   "cell_type": "code",
   "execution_count": 10,
   "id": "4112cffc-1643-4f64-9a78-d46f05454b5a",
   "metadata": {},
   "outputs": [
    {
     "data": {
      "text/plain": [
       "(tensor([0.2500, 0.2500, 0.2500, 0.2500]), tensor(1.3863))"
      ]
     },
     "execution_count": 10,
     "metadata": {},
     "output_type": "execute_result"
    }
   ],
   "source": [
    "logits  = torch.tensor([0.0,0.0,0.0,0.0])\n",
    "probs = torch.softmax(logits,dim=0)\n",
    "loss = -probs[2].log()\n",
    "probs,loss"
   ]
  },
  {
   "cell_type": "code",
   "execution_count": 11,
   "id": "7fad4713-1088-417b-8802-4b65b6212e02",
   "metadata": {},
   "outputs": [
    {
     "data": {
      "text/plain": [
       "[<matplotlib.lines.Line2D at 0x116f8a290>]"
      ]
     },
     "execution_count": 11,
     "metadata": {},
     "output_type": "execute_result"
    },
    {
     "data": {
      "image/png": "[encoded data removed]",
      "text/plain": [
       "<Figure size 640x480 with 1 Axes>"
      ]
     },
     "metadata": {},
     "output_type": "display_data"
    }
   ],
   "source": [
    "plt.plot(lossi)"
   ]
  },
  {
   "cell_type": "code",
   "execution_count": 34,
   "id": "4214efc3-937b-4fe8-b2fd-95193e38843c",
   "metadata": {},
   "outputs": [],
   "source": [
    "# calibrate the batch norm at the end of training\n",
    "# with torch.no_grad():\n",
    "#     emb = C[Xtr]\n",
    "#     embcat = emb.view(emb.shape[0],-1)\n",
    "#     hpreact = embcat @ W1 + b1\n",
    "#     # measure the mean/std over the entire training set\n",
    "#     bnmean = hpreact.mean(0,keepdim=True)\n",
    "#     bnstd = hpreact.std(0,keepdim=True)"
   ]
  },
  {
   "cell_type": "code",
   "execution_count": 15,
   "id": "d2976bac-96cb-4e44-98d2-93a723a4e5cc",
   "metadata": {},
   "outputs": [
    {
     "name": "stdout",
     "output_type": "stream",
     "text": [
      "train 2.06659197807312\n",
      "val 2.1050572395324707\n"
     ]
    }
   ],
   "source": [
    "@torch.no_grad() # this decorator disables gradient tracking\n",
    "def split_loss(split):\n",
    "  x,y = {\n",
    "    'train': (Xtr, Ytr),\n",
    "    'val': (Xdev, Ydev),\n",
    "    'test': (Xte, Yte),\n",
    "  }[split]\n",
    "  emb = C[x] # (N, block_size, n_embd)\n",
    "  embcat = emb.view(emb.shape[0], -1) # concat into (N, block_size * n_embd)\n",
    "  hpreact = embcat @ W1 # + b1\n",
    "  #hpreact = bngain * (hpreact - hpreact.mean(0, keepdim=True)) / hpreact.std(0, keepdim=True) + bnbias\n",
    "  hpreact = bngain * (hpreact - bnmean_running) / bnstd_running + bnbias\n",
    "  h = torch.tanh(hpreact) # (N, n_hidden)\n",
    "  logits = h @ W2 + b2 # (N, vocab_size)\n",
    "  loss = F.cross_entropy(logits, y)\n",
    "  print(split, loss.item())\n",
    "\n",
    "split_loss('train')\n",
    "split_loss('val')"
   ]
  },
  {
   "cell_type": "markdown",
   "id": "52414c32-094e-414e-9105-25c5ec2acbf4",
   "metadata": {},
   "source": [
    "# fixing the tanh"
   ]
  },
  {
   "cell_type": "raw",
   "id": "eac6c5ae-a141-4580-88e0-f7d791d90678",
   "metadata": {},
   "source": [
    "plot the graph of h(tanh) and see the distribution if it is all close to -1 and 1"
   ]
  },
  {
   "cell_type": "raw",
   "id": "0f083530-5063-4a3c-98a8-5c22a8cc199b",
   "metadata": {},
   "source": [
    "When the tanh is near -1 and 1 then gradient is zero so output gradient gets destroyed/squashed\n",
    "we wanr hpreact close to 0 and multiply weight by 0.001"
   ]
  },
  {
   "cell_type": "code",
   "execution_count": 15,
   "id": "99a447af-a51a-4262-b772-fa9a2a258d18",
   "metadata": {},
   "outputs": [
    {
     "data": {
      "text/plain": [
       "(array([  1.,   0.,   0.,   0.,   2.,   1.,   1.,   2.,   4.,  11.,  14.,\n",
       "         18.,  13.,  19.,  42.,  54.,  66.,  84., 103., 123., 170., 216.,\n",
       "        262., 273., 347., 423., 524., 599., 537., 456., 416., 323., 247.,\n",
       "        240., 185., 148., 129.,  81.,  82.,  57.,  39.,  29.,  19.,  16.,\n",
       "         11.,   5.,   3.,   2.,   1.,   2.]),\n",
       " array([-6.35469627, -6.12598268, -5.89726908, -5.66855548, -5.43984188,\n",
       "        -5.21112828, -4.98241468, -4.75370109, -4.52498749, -4.29627389,\n",
       "        -4.06756029, -3.83884669, -3.61013309, -3.3814195 , -3.1527059 ,\n",
       "        -2.9239923 , -2.6952787 , -2.4665651 , -2.23785151, -2.00913791,\n",
       "        -1.78042431, -1.55171071, -1.32299711, -1.09428351, -0.86556992,\n",
       "        -0.63685632, -0.40814272, -0.17942912,  0.04928448,  0.27799808,\n",
       "         0.50671167,  0.73542527,  0.96413887,  1.19285247,  1.42156607,\n",
       "         1.65027966,  1.87899326,  2.10770686,  2.33642046,  2.56513406,\n",
       "         2.79384766,  3.02256125,  3.25127485,  3.47998845,  3.70870205,\n",
       "         3.93741565,  4.16612925,  4.39484284,  4.62355644,  4.85227004,\n",
       "         5.08098364]),\n",
       " <BarContainer object of 50 artists>)"
      ]
     },
     "execution_count": 15,
     "metadata": {},
     "output_type": "execute_result"
    },
    {
     "data": {
      "image/png": "[encoded data removed]",
      "text/plain": [
       "<Figure size 640x480 with 1 Axes>"
      ]
     },
     "metadata": {},
     "output_type": "display_data"
    }
   ],
   "source": [
    "plt.hist(hpreact.view(-1).tolist(),50)"
   ]
  },
  {
   "cell_type": "code",
   "execution_count": 16,
   "id": "43e2eef3-bfef-475c-be6d-b52e4e11fb9b",
   "metadata": {},
   "outputs": [
    {
     "data": {
      "text/plain": [
       "(array([463., 241., 185., 165., 147., 111.,  97., 124.,  93., 102., 107.,\n",
       "         76., 107.,  95., 108., 113.,  89.,  96., 112.,  93., 118.,  85.,\n",
       "         67., 132., 111., 112., 106., 107.,  85.,  92., 103.,  80.,  93.,\n",
       "         91.,  81.,  93., 120.,  82., 118., 110., 103., 103., 110., 114.,\n",
       "        114., 135., 166., 171., 242., 432.]),\n",
       " array([-9.99993980e-01, -9.59995645e-01, -9.19997311e-01, -8.79998976e-01,\n",
       "        -8.40000641e-01, -8.00002307e-01, -7.60003972e-01, -7.20005637e-01,\n",
       "        -6.80007303e-01, -6.40008968e-01, -6.00010633e-01, -5.60012299e-01,\n",
       "        -5.20013964e-01, -4.80015630e-01, -4.40017295e-01, -4.00018960e-01,\n",
       "        -3.60020626e-01, -3.20022291e-01, -2.80023956e-01, -2.40025622e-01,\n",
       "        -2.00027287e-01, -1.60028952e-01, -1.20030618e-01, -8.00322831e-02,\n",
       "        -4.00339484e-02, -3.56137753e-05,  3.99627209e-02,  7.99610555e-02,\n",
       "         1.19959390e-01,  1.59957725e-01,  1.99956059e-01,  2.39954394e-01,\n",
       "         2.79952729e-01,  3.19951063e-01,  3.59949398e-01,  3.99947733e-01,\n",
       "         4.39946067e-01,  4.79944402e-01,  5.19942737e-01,  5.59941071e-01,\n",
       "         5.99939406e-01,  6.39937741e-01,  6.79936075e-01,  7.19934410e-01,\n",
       "         7.59932745e-01,  7.99931079e-01,  8.39929414e-01,  8.79927748e-01,\n",
       "         9.19926083e-01,  9.59924418e-01,  9.99922752e-01]),\n",
       " <BarContainer object of 50 artists>)"
      ]
     },
     "execution_count": 16,
     "metadata": {},
     "output_type": "execute_result"
    },
    {
     "data": {
      "image/png": "[encoded data removed]",
      "text/plain": [
       "<Figure size 640x480 with 1 Axes>"
      ]
     },
     "metadata": {},
     "output_type": "display_data"
    }
   ],
   "source": [
    "plt.hist(h.view(-1).tolist(),50)"
   ]
  },
  {
   "cell_type": "code",
   "execution_count": 17,
   "id": "196a45de-aef3-409c-87f0-1997617c131a",
   "metadata": {},
   "outputs": [],
   "source": [
    "### Calculating the init scale"
   ]
  },
  {
   "cell_type": "code",
   "execution_count": 22,
   "id": "d5a1862b-33e0-4bf2-94fc-d7888a88487f",
   "metadata": {},
   "outputs": [
    {
     "data": {
      "text/plain": [
       "tensor(0.1007)"
      ]
     },
     "execution_count": 22,
     "metadata": {},
     "output_type": "execute_result"
    }
   ],
   "source": [
    "(torch.randn(1000) * 0.1).std()"
   ]
  },
  {
   "cell_type": "code",
   "execution_count": 24,
   "id": "c397023b-1ab6-489e-9b3a-50d1527684de",
   "metadata": {},
   "outputs": [
    {
     "data": {
      "text/plain": [
       "0.3042903097250923"
      ]
     },
     "execution_count": 24,
     "metadata": {},
     "output_type": "execute_result"
    }
   ],
   "source": [
    "5/3 / (30**0.5) # tanh gain must be added"
   ]
  },
  {
   "cell_type": "code",
   "execution_count": 19,
   "id": "e275c7d7-130a-4d8a-8dc7-c9798f913210",
   "metadata": {},
   "outputs": [
    {
     "name": "stdout",
     "output_type": "stream",
     "text": [
      "tensor(0.0057) tensor(0.9982)\n",
      "tensor(-0.0002) tensor(0.9822)\n"
     ]
    },
    {
     "data": {
      "image/png": "[encoded data removed]",
      "text/plain": [
       "<Figure size 2000x500 with 2 Axes>"
      ]
     },
     "metadata": {},
     "output_type": "display_data"
    }
   ],
   "source": [
    "x = torch.randn(1000,10)\n",
    "w = torch.randn(10,200)/ 10**0.5     # if we scale up,guassian gets bigger and bigger so does standard deviation.\n",
    "y = x @ w\n",
    "print(x.mean(),x.std())\n",
    "print(y.mean(),y.std())\n",
    "plt.figure(figsize = (20,5))\n",
    "plt.subplot(121)\n",
    "plt.hist(x.view(-1).tolist(),50,density=True);\n",
    "plt.subplot(122)\n",
    "plt.hist(y.view(-1).tolist(),50,density=True);"
   ]
  },
  {
   "cell_type": "code",
   "execution_count": null,
   "id": "5bef4606-5ee2-46ca-9c87-6a6a07848f94",
   "metadata": {},
   "outputs": [],
   "source": []
  }
 ],
 "metadata": {
  "kernelspec": {
   "display_name": "Python 3 (ipykernel)",
   "language": "python",
   "name": "python3"
  },
  "language_info": {
   "codemirror_mode": {
    "name": "ipython",
    "version": 3
   },
   "file_extension": ".py",
   "mimetype": "text/x-python",
   "name": "python",
   "nbconvert_exporter": "python",
   "pygments_lexer": "ipython3",
   "version": "3.11.7"
  }
 },
 "nbformat": 4,
 "nbformat_minor": 5
}
