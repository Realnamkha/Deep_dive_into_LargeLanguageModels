{
 "cells": [
  {
   "cell_type": "markdown",
   "id": "06df74a3-366e-4f0d-b8ac-ca2695348189",
   "metadata": {},
   "source": [
    "Why Use Embeddings Instead of One-Hot Encoding?\n",
    "Dimensionality Reduction\n",
    "\n",
    "One-hot encoding creates a sparse vector with a size equal to the vocabulary (V).\n",
    "\n",
    "If V = 65 (like in your character-level model), then each one-hot vector is of size 65, mostly filled with zeros.\n",
    "\n",
    "Instead, an embedding layer maps each character to a smaller, dense vector (e.g., size n_embd = 32), reducing computational cost.\n",
    "\n",
    "Capturing Contextual Meaning \n",
    "\n",
    "In one-hot encoding, there's no notion of similarity between characters/words.\n",
    "\n",
    "In an embedding space, similar characters/words (e.g., \"c\" and \"k\" or \"dog\" and \"puppy\") get closer vector representations.\n",
    "\n",
    "Scalability for N-grams 🚀\n",
    "\n",
    "Previously, your model only considered one previous character (ix in xenc).\n",
    "\n",
    "Extending to n-grams means storing a V^n probability table, which blows up in size.\n",
    "\n",
    "Instead, embeddings allow us to compress the information into a fixed-size vector, avoiding this explosion."
   ]
  },
  {
   "cell_type": "markdown",
   "id": "02b61c0e-b213-4f8e-8dc8-3c0ff50a4c01",
   "metadata": {},
   "source": [
    "- Every index plucks out a row from indexing table(16999,30).So it reduces to 30 dimension\n",
    "- Suppose we have 3 index so it makes 90 neurons in total.\n",
    "- Now we have hidden layer(size hyperparamater)\n",
    "- Supoose we have 100 neurons in hidden layer,all of them will be fully connected to 90 char or neurons.\n",
    "- The output layer has 17000 neurons.\n",
    "- Softmax is applied and normalized.\n",
    "- we have label and that index is used to pluck out probability and minimize loss."
   ]
  },
  {
   "cell_type": "code",
   "execution_count": 1,
   "id": "0a923666-7eb1-4aa0-8b44-638707c163dc",
   "metadata": {},
   "outputs": [],
   "source": [
    "import torch\n",
    "import torch.nn.functional as F\n",
    "import matplotlib.pyplot as plt\n",
    "%matplotlib inline"
   ]
  },
  {
   "cell_type": "code",
   "execution_count": 2,
   "id": "ec0a88f3-3287-44cc-93cf-13c8fe1d7891",
   "metadata": {},
   "outputs": [
    {
     "data": {
      "text/plain": [
       "['emma', 'olivia', 'ava', 'isabella', 'sophia', 'charlotte', 'mia', 'amelia']"
      ]
     },
     "execution_count": 2,
     "metadata": {},
     "output_type": "execute_result"
    }
   ],
   "source": [
    "words = open('../names.txt', 'r').read().splitlines()\n",
    "words[:8]"
   ]
  },
  {
   "cell_type": "code",
   "execution_count": 3,
   "id": "706a2b99-29b8-453d-8b49-889d4b8ff5a6",
   "metadata": {},
   "outputs": [
    {
     "data": {
      "text/plain": [
       "32033"
      ]
     },
     "execution_count": 3,
     "metadata": {},
     "output_type": "execute_result"
    }
   ],
   "source": [
    "len(words)"
   ]
  },
  {
   "cell_type": "code",
   "execution_count": 4,
   "id": "f59e5f43-2847-4aef-a6f4-b03f4ee4ea11",
   "metadata": {},
   "outputs": [
    {
     "name": "stdout",
     "output_type": "stream",
     "text": [
      "{1: 'a', 2: 'b', 3: 'c', 4: 'd', 5: 'e', 6: 'f', 7: 'g', 8: 'h', 9: 'i', 10: 'j', 11: 'k', 12: 'l', 13: 'm', 14: 'n', 15: 'o', 16: 'p', 17: 'q', 18: 'r', 19: 's', 20: 't', 21: 'u', 22: 'v', 23: 'w', 24: 'x', 25: 'y', 26: 'z', 0: '.'}\n"
     ]
    }
   ],
   "source": [
    "chars = sorted(list(set(\"\".join(words))))\n",
    "stoi = {s:i+1 for i,s in enumerate(chars)}\n",
    "stoi['.'] = 0\n",
    "itos = {i:s for s,i in stoi.items()}\n",
    "print(itos)"
   ]
  },
  {
   "cell_type": "code",
   "execution_count": 5,
   "id": "6d570f3d-a911-4f89-a1c8-0e4035bfa175",
   "metadata": {},
   "outputs": [
    {
     "name": "stdout",
     "output_type": "stream",
     "text": [
      "emma\n",
      "... ---> e\n",
      "..e ---> m\n",
      ".em ---> m\n",
      "emm ---> a\n",
      "mma ---> .\n",
      "olivia\n",
      "... ---> o\n",
      "..o ---> l\n",
      ".ol ---> i\n",
      "oli ---> v\n",
      "liv ---> i\n",
      "ivi ---> a\n",
      "via ---> .\n",
      "ava\n",
      "... ---> a\n",
      "..a ---> v\n",
      ".av ---> a\n",
      "ava ---> .\n",
      "isabella\n",
      "... ---> i\n",
      "..i ---> s\n",
      ".is ---> a\n",
      "isa ---> b\n",
      "sab ---> e\n",
      "abe ---> l\n",
      "bel ---> l\n",
      "ell ---> a\n",
      "lla ---> .\n",
      "sophia\n",
      "... ---> s\n",
      "..s ---> o\n",
      ".so ---> p\n",
      "sop ---> h\n",
      "oph ---> i\n",
      "phi ---> a\n",
      "hia ---> .\n"
     ]
    }
   ],
   "source": [
    "# build the dataset\n",
    "\n",
    "block_size = 3 # context length: how many characters do we take to predict the next one?\n",
    "X, Y = [], []\n",
    "for w in words[:5]:\n",
    "  print(w)\n",
    "  context = [0] * block_size\n",
    "  for ch in w + '.':\n",
    "    ix = stoi[ch]\n",
    "    X.append(context)\n",
    "    Y.append(ix)\n",
    "    print(''.join(itos[i] for i in context), '--->', itos[ix])\n",
    "    context = context[1:] + [ix] # crop and append\n",
    "  \n",
    "X = torch.tensor(X)\n",
    "Y = torch.tensor(Y)"
   ]
  },
  {
   "cell_type": "code",
   "execution_count": 6,
   "id": "13ecdb6c-7c3e-4a30-bf79-b939fd4819f4",
   "metadata": {},
   "outputs": [
    {
     "data": {
      "text/plain": [
       "(torch.Size([32, 3]), torch.int64, torch.Size([32]), torch.int64)"
      ]
     },
     "execution_count": 6,
     "metadata": {},
     "output_type": "execute_result"
    }
   ],
   "source": [
    "X.shape, X.dtype, Y.shape, Y.dtype # each input to neural network is 3"
   ]
  },
  {
   "cell_type": "code",
   "execution_count": 7,
   "id": "3d747a97-f5c8-4030-a6a8-301d20303596",
   "metadata": {},
   "outputs": [
    {
     "data": {
      "text/plain": [
       "tensor([[ 0,  0,  0],\n",
       "        [ 0,  0,  5],\n",
       "        [ 0,  5, 13],\n",
       "        [ 5, 13, 13],\n",
       "        [13, 13,  1],\n",
       "        [ 0,  0,  0],\n",
       "        [ 0,  0, 15],\n",
       "        [ 0, 15, 12],\n",
       "        [15, 12,  9],\n",
       "        [12,  9, 22],\n",
       "        [ 9, 22,  9],\n",
       "        [22,  9,  1],\n",
       "        [ 0,  0,  0],\n",
       "        [ 0,  0,  1],\n",
       "        [ 0,  1, 22],\n",
       "        [ 1, 22,  1],\n",
       "        [ 0,  0,  0],\n",
       "        [ 0,  0,  9],\n",
       "        [ 0,  9, 19],\n",
       "        [ 9, 19,  1],\n",
       "        [19,  1,  2],\n",
       "        [ 1,  2,  5],\n",
       "        [ 2,  5, 12],\n",
       "        [ 5, 12, 12],\n",
       "        [12, 12,  1],\n",
       "        [ 0,  0,  0],\n",
       "        [ 0,  0, 19],\n",
       "        [ 0, 19, 15],\n",
       "        [19, 15, 16],\n",
       "        [15, 16,  8],\n",
       "        [16,  8,  9],\n",
       "        [ 8,  9,  1]])"
      ]
     },
     "execution_count": 7,
     "metadata": {},
     "output_type": "execute_result"
    }
   ],
   "source": [
    "X"
   ]
  },
  {
   "cell_type": "markdown",
   "id": "3a0f8e7a-0cce-4fc6-9ff8-1384847ada8c",
   "metadata": {},
   "source": [
    "### Implementing embedding look up table"
   ]
  },
  {
   "cell_type": "code",
   "execution_count": 24,
   "id": "d12fabf7-ad31-415a-9dde-0a514909da3a",
   "metadata": {},
   "outputs": [],
   "source": [
    "# We try to embbded the 27 characters to a two dimensional space"
   ]
  },
  {
   "cell_type": "code",
   "execution_count": 9,
   "id": "1c0cb94f-ea94-4529-a938-381807c4682b",
   "metadata": {},
   "outputs": [
    {
     "data": {
      "text/plain": [
       "torch.Size([27, 2])"
      ]
     },
     "execution_count": 9,
     "metadata": {},
     "output_type": "execute_result"
    }
   ],
   "source": [
    "C = torch.randn((27,2))\n",
    "C.shape"
   ]
  },
  {
   "cell_type": "code",
   "execution_count": 10,
   "id": "c58f90a0-9f78-492d-b212-a2a47b3125de",
   "metadata": {},
   "outputs": [
    {
     "data": {
      "text/plain": [
       "tensor([ 0.2070, -0.9735])"
      ]
     },
     "execution_count": 10,
     "metadata": {},
     "output_type": "execute_result"
    }
   ],
   "source": [
    "C[5]"
   ]
  },
  {
   "cell_type": "code",
   "execution_count": 11,
   "id": "da2311cd-7088-47d5-a3c4-b260c18b52af",
   "metadata": {},
   "outputs": [
    {
     "data": {
      "text/plain": [
       "tensor([ 0.2070, -0.9735])"
      ]
     },
     "execution_count": 11,
     "metadata": {},
     "output_type": "execute_result"
    }
   ],
   "source": [
    "F.one_hot(torch.tensor(5),num_classes=27).float() @ C # it just masks the other field except one i.e it plucks row index 4"
   ]
  },
  {
   "cell_type": "code",
   "execution_count": 12,
   "id": "37470357-f3a6-4507-a20c-d16caec5ca9c",
   "metadata": {},
   "outputs": [
    {
     "data": {
      "text/plain": [
       "tensor([[ 0.2070, -0.9735],\n",
       "        [-1.9146,  2.3186],\n",
       "        [ 0.2048, -0.8892],\n",
       "        [ 0.2048, -0.8892],\n",
       "        [ 0.2048, -0.8892],\n",
       "        [ 0.2048, -0.8892]])"
      ]
     },
     "execution_count": 12,
     "metadata": {},
     "output_type": "execute_result"
    }
   ],
   "source": [
    "C[torch.tensor([5,6,7,7,7,7])] # indexing with one-dimensional tensor of integer"
   ]
  },
  {
   "cell_type": "code",
   "execution_count": 10,
   "id": "bb85e4e4-6d1b-4368-894b-864f0904e63f",
   "metadata": {},
   "outputs": [
    {
     "data": {
      "text/plain": [
       "tensor([[[-0.8726, -0.5499],\n",
       "         [-0.8726, -0.5499],\n",
       "         [-0.8726, -0.5499]],\n",
       "\n",
       "        [[-0.8726, -0.5499],\n",
       "         [-0.8726, -0.5499],\n",
       "         [-0.0331,  0.0857]],\n",
       "\n",
       "        [[-0.8726, -0.5499],\n",
       "         [-0.0331,  0.0857],\n",
       "         [-0.0073,  0.2012]],\n",
       "\n",
       "        [[-0.0331,  0.0857],\n",
       "         [-0.0073,  0.2012],\n",
       "         [-0.0073,  0.2012]],\n",
       "\n",
       "        [[-0.0073,  0.2012],\n",
       "         [-0.0073,  0.2012],\n",
       "         [ 0.1977,  1.9438]],\n",
       "\n",
       "        [[-0.8726, -0.5499],\n",
       "         [-0.8726, -0.5499],\n",
       "         [-0.8726, -0.5499]],\n",
       "\n",
       "        [[-0.8726, -0.5499],\n",
       "         [-0.8726, -0.5499],\n",
       "         [ 0.1271, -0.4038]],\n",
       "\n",
       "        [[-0.8726, -0.5499],\n",
       "         [ 0.1271, -0.4038],\n",
       "         [-1.2727,  0.7977]],\n",
       "\n",
       "        [[ 0.1271, -0.4038],\n",
       "         [-1.2727,  0.7977],\n",
       "         [-0.5165,  0.0927]],\n",
       "\n",
       "        [[-1.2727,  0.7977],\n",
       "         [-0.5165,  0.0927],\n",
       "         [-0.8364,  0.5141]],\n",
       "\n",
       "        [[-0.5165,  0.0927],\n",
       "         [-0.8364,  0.5141],\n",
       "         [-0.5165,  0.0927]],\n",
       "\n",
       "        [[-0.8364,  0.5141],\n",
       "         [-0.5165,  0.0927],\n",
       "         [ 0.1977,  1.9438]],\n",
       "\n",
       "        [[-0.8726, -0.5499],\n",
       "         [-0.8726, -0.5499],\n",
       "         [-0.8726, -0.5499]],\n",
       "\n",
       "        [[-0.8726, -0.5499],\n",
       "         [-0.8726, -0.5499],\n",
       "         [ 0.1977,  1.9438]],\n",
       "\n",
       "        [[-0.8726, -0.5499],\n",
       "         [ 0.1977,  1.9438],\n",
       "         [-0.8364,  0.5141]],\n",
       "\n",
       "        [[ 0.1977,  1.9438],\n",
       "         [-0.8364,  0.5141],\n",
       "         [ 0.1977,  1.9438]],\n",
       "\n",
       "        [[-0.8726, -0.5499],\n",
       "         [-0.8726, -0.5499],\n",
       "         [-0.8726, -0.5499]],\n",
       "\n",
       "        [[-0.8726, -0.5499],\n",
       "         [-0.8726, -0.5499],\n",
       "         [-0.5165,  0.0927]],\n",
       "\n",
       "        [[-0.8726, -0.5499],\n",
       "         [-0.5165,  0.0927],\n",
       "         [ 4.2786,  0.8770]],\n",
       "\n",
       "        [[-0.5165,  0.0927],\n",
       "         [ 4.2786,  0.8770],\n",
       "         [ 0.1977,  1.9438]],\n",
       "\n",
       "        [[ 4.2786,  0.8770],\n",
       "         [ 0.1977,  1.9438],\n",
       "         [ 0.9253, -1.1813]],\n",
       "\n",
       "        [[ 0.1977,  1.9438],\n",
       "         [ 0.9253, -1.1813],\n",
       "         [-0.0331,  0.0857]],\n",
       "\n",
       "        [[ 0.9253, -1.1813],\n",
       "         [-0.0331,  0.0857],\n",
       "         [-1.2727,  0.7977]],\n",
       "\n",
       "        [[-0.0331,  0.0857],\n",
       "         [-1.2727,  0.7977],\n",
       "         [-1.2727,  0.7977]],\n",
       "\n",
       "        [[-1.2727,  0.7977],\n",
       "         [-1.2727,  0.7977],\n",
       "         [ 0.1977,  1.9438]],\n",
       "\n",
       "        [[-0.8726, -0.5499],\n",
       "         [-0.8726, -0.5499],\n",
       "         [-0.8726, -0.5499]],\n",
       "\n",
       "        [[-0.8726, -0.5499],\n",
       "         [-0.8726, -0.5499],\n",
       "         [ 4.2786,  0.8770]],\n",
       "\n",
       "        [[-0.8726, -0.5499],\n",
       "         [ 4.2786,  0.8770],\n",
       "         [ 0.1271, -0.4038]],\n",
       "\n",
       "        [[ 4.2786,  0.8770],\n",
       "         [ 0.1271, -0.4038],\n",
       "         [ 0.3446,  1.0414]],\n",
       "\n",
       "        [[ 0.1271, -0.4038],\n",
       "         [ 0.3446,  1.0414],\n",
       "         [-1.0040,  0.9402]],\n",
       "\n",
       "        [[ 0.3446,  1.0414],\n",
       "         [-1.0040,  0.9402],\n",
       "         [-0.5165,  0.0927]],\n",
       "\n",
       "        [[-1.0040,  0.9402],\n",
       "         [-0.5165,  0.0927],\n",
       "         [ 0.1977,  1.9438]]])"
      ]
     },
     "execution_count": 10,
     "metadata": {},
     "output_type": "execute_result"
    }
   ],
   "source": [
    "C[X]# for every X, we have retrived the embedding. #32,3,2"
   ]
  },
  {
   "cell_type": "markdown",
   "id": "9727614e-8e5c-4990-b275-82623a8dde2c",
   "metadata": {},
   "source": [
    "For every 3 elements in the columns of the X,it has trasnsformed each element into 2 dimensional integer."
   ]
  },
  {
   "cell_type": "code",
   "execution_count": 14,
   "id": "56cb3e0e-dca2-495c-801e-9f27a03d7065",
   "metadata": {},
   "outputs": [
    {
     "data": {
      "text/plain": [
       "tensor(5)"
      ]
     },
     "execution_count": 14,
     "metadata": {},
     "output_type": "execute_result"
    }
   ],
   "source": [
    "X[1,2]"
   ]
  },
  {
   "cell_type": "code",
   "execution_count": 17,
   "id": "267dabad-bfab-43ac-b641-2204e03e31f4",
   "metadata": {},
   "outputs": [
    {
     "data": {
      "text/plain": [
       "tensor([ 0.2070, -0.9735])"
      ]
     },
     "execution_count": 17,
     "metadata": {},
     "output_type": "execute_result"
    }
   ],
   "source": [
    "C[X][1,2] #== C[5] C[X][1,2] means from C[x] select 1 and then go inside 1 to select 2"
   ]
  },
  {
   "cell_type": "code",
   "execution_count": null,
   "id": "5a4ae018-03d3-4623-b472-5e533f7cd585",
   "metadata": {},
   "outputs": [],
   "source": []
  },
  {
   "cell_type": "code",
   "execution_count": 13,
   "id": "3fbd4369-a7af-4c2f-8879-357377c07bbd",
   "metadata": {},
   "outputs": [
    {
     "data": {
      "text/plain": [
       "tensor([0.2450, 1.8401])"
      ]
     },
     "execution_count": 13,
     "metadata": {},
     "output_type": "execute_result"
    }
   ],
   "source": [
    "C[5]"
   ]
  },
  {
   "cell_type": "code",
   "execution_count": 11,
   "id": "cc3c95c7-2c04-4d1a-9114-47e54b033b75",
   "metadata": {},
   "outputs": [
    {
     "data": {
      "text/plain": [
       "torch.Size([32, 3, 2])"
      ]
     },
     "execution_count": 11,
     "metadata": {},
     "output_type": "execute_result"
    }
   ],
   "source": [
    "emb = C[X]\n",
    "emb.shape"
   ]
  },
  {
   "cell_type": "markdown",
   "id": "3c8d14dd-c928-493a-9928-dd836a94a337",
   "metadata": {},
   "source": [
    "### Implementing the hidden layer"
   ]
  },
  {
   "cell_type": "code",
   "execution_count": 12,
   "id": "acde2cd7-c131-46ec-9d18-89f8a9f475ea",
   "metadata": {},
   "outputs": [],
   "source": [
    "w1 = torch.randn((6,100)) # no of inputs = 3*2 as we have 2-d embedding and we have 3 of them(100 nuerons initliaze)\n",
    "b1 = torch.randn(100)"
   ]
  },
  {
   "cell_type": "code",
   "execution_count": 13,
   "id": "a604e196-181c-4957-aa4e-0b6375b63046",
   "metadata": {},
   "outputs": [
    {
     "data": {
      "text/plain": [
       "torch.Size([6, 100])"
      ]
     },
     "execution_count": 13,
     "metadata": {},
     "output_type": "execute_result"
    }
   ],
   "source": [
    "w1.shape"
   ]
  },
  {
   "cell_type": "code",
   "execution_count": 53,
   "id": "3d4fb3d0-a639-4711-b316-1760d5f24df9",
   "metadata": {},
   "outputs": [],
   "source": [
    "#emb @ w1 + b1 # (32,3,2) @ (6,100)"
   ]
  },
  {
   "cell_type": "code",
   "execution_count": null,
   "id": "c8bb09f3-40d9-4306-a765-b66a4cb2d463",
   "metadata": {},
   "outputs": [],
   "source": []
  },
  {
   "cell_type": "markdown",
   "id": "633aa1fe-4119-409c-8bcf-326aa195a411",
   "metadata": {},
   "source": [
    "- emb[:,0,:] : It selects along all the samples, 0 selects only the first embeddings and : selects across all the first embedding"
   ]
  },
  {
   "cell_type": "code",
   "execution_count": 36,
   "id": "1f7ac0cb-ee09-481b-b74f-3de3a15b1838",
   "metadata": {},
   "outputs": [
    {
     "data": {
      "text/plain": [
       "torch.Size([32, 6])"
      ]
     },
     "execution_count": 36,
     "metadata": {},
     "output_type": "execute_result"
    }
   ],
   "source": [
    "torch.cat([emb[:,0,:],emb[:,1,:],emb[:,2,:]],1).shape # not generalized"
   ]
  },
  {
   "cell_type": "code",
   "execution_count": 37,
   "id": "d03c6c00-a7d2-4b89-9f93-8ca8faa48144",
   "metadata": {},
   "outputs": [
    {
     "data": {
      "text/plain": [
       "torch.Size([32, 6])"
      ]
     },
     "execution_count": 37,
     "metadata": {},
     "output_type": "execute_result"
    }
   ],
   "source": [
    "torch.cat(torch.unbind(emb,1),1).shape"
   ]
  },
  {
   "cell_type": "code",
   "execution_count": 38,
   "id": "ed55d94b-832b-4ea8-a2b9-684298c68cf9",
   "metadata": {},
   "outputs": [
    {
     "data": {
      "text/plain": [
       "torch.Size([18])"
      ]
     },
     "execution_count": 38,
     "metadata": {},
     "output_type": "execute_result"
    }
   ],
   "source": [
    "a = torch.arange(18)\n",
    "a.shape"
   ]
  },
  {
   "cell_type": "code",
   "execution_count": 39,
   "id": "6b3c635c-f1bd-44a8-b26f-74095f28e456",
   "metadata": {},
   "outputs": [
    {
     "data": {
      "text/plain": [
       "tensor([[ 0,  1],\n",
       "        [ 2,  3],\n",
       "        [ 4,  5],\n",
       "        [ 6,  7],\n",
       "        [ 8,  9],\n",
       "        [10, 11],\n",
       "        [12, 13],\n",
       "        [14, 15],\n",
       "        [16, 17]])"
      ]
     },
     "execution_count": 39,
     "metadata": {},
     "output_type": "execute_result"
    }
   ],
   "source": [
    "a.view(9,2) # as long as total number of elements multiplies to be same,it works"
   ]
  },
  {
   "cell_type": "code",
   "execution_count": 40,
   "id": "1edd2994-bf8a-4744-bc6e-d89f1b84a22f",
   "metadata": {},
   "outputs": [
    {
     "data": {
      "text/plain": [
       "<bound method Tensor.storage of tensor([ 0,  1,  2,  3,  4,  5,  6,  7,  8,  9, 10, 11, 12, 13, 14, 15, 16, 17])>"
      ]
     },
     "execution_count": 40,
     "metadata": {},
     "output_type": "execute_result"
    }
   ],
   "source": [
    "a.storage # tensor is always represented as 1d in memory"
   ]
  },
  {
   "cell_type": "code",
   "execution_count": 14,
   "id": "9f7b6b57-fcc3-42fe-8dcb-9ad9b77a56ac",
   "metadata": {},
   "outputs": [
    {
     "data": {
      "text/plain": [
       "torch.Size([32, 3, 2])"
      ]
     },
     "execution_count": 14,
     "metadata": {},
     "output_type": "execute_result"
    }
   ],
   "source": [
    "emb.shape"
   ]
  },
  {
   "cell_type": "code",
   "execution_count": 42,
   "id": "245ebbdf-8e6e-44a4-a71f-9b96a310f8e5",
   "metadata": {},
   "outputs": [
    {
     "data": {
      "text/plain": [
       "tensor([[ 0.9720, -2.4192,  0.9720, -2.4192,  0.9720, -2.4192],\n",
       "        [ 0.9720, -2.4192,  0.9720, -2.4192, -0.4730,  0.9017],\n",
       "        [ 0.9720, -2.4192, -0.4730,  0.9017,  1.5411, -1.0274],\n",
       "        [-0.4730,  0.9017,  1.5411, -1.0274,  1.5411, -1.0274],\n",
       "        [ 1.5411, -1.0274,  1.5411, -1.0274,  0.1552,  0.1962],\n",
       "        [ 0.9720, -2.4192,  0.9720, -2.4192,  0.9720, -2.4192],\n",
       "        [ 0.9720, -2.4192,  0.9720, -2.4192, -1.7019,  0.1018],\n",
       "        [ 0.9720, -2.4192, -1.7019,  0.1018,  0.7051, -1.1771],\n",
       "        [-1.7019,  0.1018,  0.7051, -1.1771,  1.4660,  0.9443],\n",
       "        [ 0.7051, -1.1771,  1.4660,  0.9443, -0.8060,  2.0918],\n",
       "        [ 1.4660,  0.9443, -0.8060,  2.0918,  1.4660,  0.9443],\n",
       "        [-0.8060,  2.0918,  1.4660,  0.9443,  0.1552,  0.1962],\n",
       "        [ 0.9720, -2.4192,  0.9720, -2.4192,  0.9720, -2.4192],\n",
       "        [ 0.9720, -2.4192,  0.9720, -2.4192,  0.1552,  0.1962],\n",
       "        [ 0.9720, -2.4192,  0.1552,  0.1962, -0.8060,  2.0918],\n",
       "        [ 0.1552,  0.1962, -0.8060,  2.0918,  0.1552,  0.1962],\n",
       "        [ 0.9720, -2.4192,  0.9720, -2.4192,  0.9720, -2.4192],\n",
       "        [ 0.9720, -2.4192,  0.9720, -2.4192,  1.4660,  0.9443],\n",
       "        [ 0.9720, -2.4192,  1.4660,  0.9443,  0.5987,  0.6880],\n",
       "        [ 1.4660,  0.9443,  0.5987,  0.6880,  0.1552,  0.1962],\n",
       "        [ 0.5987,  0.6880,  0.1552,  0.1962,  0.2100,  1.5289],\n",
       "        [ 0.1552,  0.1962,  0.2100,  1.5289, -0.4730,  0.9017],\n",
       "        [ 0.2100,  1.5289, -0.4730,  0.9017,  0.7051, -1.1771],\n",
       "        [-0.4730,  0.9017,  0.7051, -1.1771,  0.7051, -1.1771],\n",
       "        [ 0.7051, -1.1771,  0.7051, -1.1771,  0.1552,  0.1962],\n",
       "        [ 0.9720, -2.4192,  0.9720, -2.4192,  0.9720, -2.4192],\n",
       "        [ 0.9720, -2.4192,  0.9720, -2.4192,  0.5987,  0.6880],\n",
       "        [ 0.9720, -2.4192,  0.5987,  0.6880, -1.7019,  0.1018],\n",
       "        [ 0.5987,  0.6880, -1.7019,  0.1018,  1.7076,  0.3849],\n",
       "        [-1.7019,  0.1018,  1.7076,  0.3849,  0.9033,  0.0156],\n",
       "        [ 1.7076,  0.3849,  0.9033,  0.0156,  1.4660,  0.9443],\n",
       "        [ 0.9033,  0.0156,  1.4660,  0.9443,  0.1552,  0.1962]])"
      ]
     },
     "execution_count": 42,
     "metadata": {},
     "output_type": "execute_result"
    }
   ],
   "source": [
    "emb.view(32,6)"
   ]
  },
  {
   "cell_type": "code",
   "execution_count": 15,
   "id": "d2a55ce5-caca-4851-8140-33408342b342",
   "metadata": {},
   "outputs": [],
   "source": [
    "h = torch.tanh(emb.view(-1,6) @ w1 + b1)"
   ]
  },
  {
   "cell_type": "code",
   "execution_count": 16,
   "id": "d6f200b8-cd31-4563-9a8a-a16f9dc057df",
   "metadata": {},
   "outputs": [
    {
     "data": {
      "text/plain": [
       "torch.Size([32, 100])"
      ]
     },
     "execution_count": 16,
     "metadata": {},
     "output_type": "execute_result"
    }
   ],
   "source": [
    "h.shape"
   ]
  },
  {
   "cell_type": "code",
   "execution_count": 17,
   "id": "db4e5bb2-d08d-4123-855c-8fc90cfa4f89",
   "metadata": {},
   "outputs": [
    {
     "data": {
      "text/plain": [
       "tensor([[-0.3214, -0.3279,  0.6641,  ..., -0.9999,  0.9600,  0.9577],\n",
       "        [ 0.9329,  0.0841,  0.6225,  ..., -0.9993,  0.9880,  0.9670],\n",
       "        [ 0.3634,  0.3189, -0.8167,  ..., -0.9783,  0.9737,  0.9577],\n",
       "        ...,\n",
       "        [-0.9705,  0.9991, -0.9906,  ...,  0.1356, -0.8934,  0.2026],\n",
       "        [ 0.6681,  0.9998, -0.4126,  ..., -0.9923, -0.9863, -0.8585],\n",
       "        [ 1.0000,  0.9986,  0.3270,  ..., -0.5685,  0.9944,  0.9990]])"
      ]
     },
     "execution_count": 17,
     "metadata": {},
     "output_type": "execute_result"
    }
   ],
   "source": [
    "h"
   ]
  },
  {
   "cell_type": "markdown",
   "id": "af4d9b4d-8734-42a6-adc6-a8a30ad3cbd1",
   "metadata": {},
   "source": [
    "### Implementing the output layer"
   ]
  },
  {
   "cell_type": "code",
   "execution_count": 18,
   "id": "a4c473e7-6e8f-4d63-b1ac-ba9e491c91ed",
   "metadata": {},
   "outputs": [],
   "source": [
    "w2 = torch.randn((100,27))\n",
    "b2 = torch.randn(27)"
   ]
  },
  {
   "cell_type": "markdown",
   "id": "9ee684fd-a586-4c56-8de3-9c8de975596f",
   "metadata": {},
   "source": [
    "### Implementing negative log likelihood"
   ]
  },
  {
   "cell_type": "code",
   "execution_count": 19,
   "id": "cd2e3540-fe1f-43f5-8a64-10cf907cf1a2",
   "metadata": {},
   "outputs": [
    {
     "data": {
      "text/plain": [
       "torch.Size([32, 27])"
      ]
     },
     "execution_count": 19,
     "metadata": {},
     "output_type": "execute_result"
    }
   ],
   "source": [
    "logits = h @ w2\n",
    "logits.shape"
   ]
  },
  {
   "cell_type": "code",
   "execution_count": 20,
   "id": "aa5faf80-b224-42ef-bb76-b90a3fb42380",
   "metadata": {},
   "outputs": [
    {
     "data": {
      "text/plain": [
       "tensor([[1.4768e+00, 1.8402e+01, 2.2384e+05, 7.0665e+08, 9.2456e-04, 1.8970e+06,\n",
       "         1.6708e-05, 8.9668e-01, 1.6109e-04, 5.8136e+03, 3.7191e-03, 1.4365e+04,\n",
       "         6.2697e+01, 1.8008e-04, 1.7595e+03, 7.9851e-04, 2.3203e+06, 9.0967e-05,\n",
       "         3.8528e-01, 1.9372e+03, 1.1066e-01, 5.1447e+01, 1.9396e+03, 1.1201e-04,\n",
       "         1.1710e+00, 1.2940e+02, 4.0050e+01],\n",
       "        [9.1593e-04, 4.6645e+00, 2.2421e+01, 5.5603e+05, 1.0818e-06, 1.0684e+07,\n",
       "         1.3952e-06, 3.3833e+01, 6.7492e+00, 5.6753e+02, 2.4259e-03, 1.5046e+02,\n",
       "         2.7681e+00, 1.5724e+00, 1.3608e+01, 7.6193e-05, 2.6608e+06, 1.9496e-03,\n",
       "         3.8284e-01, 3.0656e+01, 1.4736e-04, 5.2576e+03, 1.4291e+00, 4.6208e-05,\n",
       "         1.1305e+01, 1.4523e+02, 4.6028e+01],\n",
       "        [2.1399e-01, 4.3687e+01, 2.5258e+00, 1.1303e+06, 1.5529e+01, 4.2608e+05,\n",
       "         3.7965e-03, 1.8755e-02, 5.8384e-02, 6.9588e+01, 1.4767e-03, 1.9625e+01,\n",
       "         3.6825e+00, 1.1523e+01, 2.1253e-01, 1.1404e-03, 2.1686e+05, 4.6470e-03,\n",
       "         2.1776e-01, 4.2131e+01, 6.1928e-04, 3.3265e+02, 2.0465e-01, 2.9974e-03,\n",
       "         2.3941e+03, 2.5225e+03, 2.0829e+01],\n",
       "        [1.0257e-03, 9.6762e+02, 9.6099e-01, 7.0480e-02, 3.6739e+00, 2.5167e+00,\n",
       "         8.1323e-01, 2.2175e-03, 3.2382e-02, 1.3340e+02, 2.4638e-04, 1.9908e+02,\n",
       "         3.1832e-01, 2.1325e+01, 1.6810e+01, 1.1838e-04, 6.3937e-02, 7.0305e+00,\n",
       "         1.4687e-01, 4.3667e-01, 2.0077e-05, 5.1606e+03, 7.1300e+01, 3.9826e-01,\n",
       "         2.2058e+06, 2.5322e+03, 4.1900e+04],\n",
       "        [1.0287e+00, 2.1195e+01, 1.2789e+01, 9.4730e-06, 2.2390e+02, 2.2187e+02,\n",
       "         4.2385e+01, 4.6190e+02, 1.3019e+04, 1.2284e+04, 1.3306e-02, 6.9989e+06,\n",
       "         6.9448e-03, 7.5054e+08, 1.9131e-02, 2.8389e-05, 3.2073e-01, 1.1654e-01,\n",
       "         5.1521e-01, 1.0799e-01, 1.7438e-09, 8.0984e-02, 6.3545e+00, 5.1164e-02,\n",
       "         1.5754e+04, 8.1701e+01, 1.6751e+02],\n",
       "        [1.4768e+00, 1.8402e+01, 2.2384e+05, 7.0665e+08, 9.2456e-04, 1.8970e+06,\n",
       "         1.6708e-05, 8.9668e-01, 1.6109e-04, 5.8136e+03, 3.7191e-03, 1.4365e+04,\n",
       "         6.2697e+01, 1.8008e-04, 1.7595e+03, 7.9851e-04, 2.3203e+06, 9.0967e-05,\n",
       "         3.8528e-01, 1.9372e+03, 1.1066e-01, 5.1447e+01, 1.9396e+03, 1.1201e-04,\n",
       "         1.1710e+00, 1.2940e+02, 4.0050e+01],\n",
       "        [6.3725e-04, 2.1078e+01, 1.3085e+02, 1.3463e+07, 1.3015e-04, 1.8259e+06,\n",
       "         4.7921e-07, 8.9589e-01, 2.9472e-01, 1.1287e+03, 7.7147e-03, 2.2343e+01,\n",
       "         3.5716e+02, 1.1465e-02, 5.6033e+01, 2.2091e-03, 3.8288e+05, 2.6903e-04,\n",
       "         2.1898e-01, 1.4101e+02, 4.4961e-02, 6.0891e+03, 5.2121e-02, 3.1967e-03,\n",
       "         8.3376e+01, 1.5035e+01, 1.6486e+00],\n",
       "        [4.9645e+02, 1.4729e+00, 3.5419e+02, 4.0700e+02, 3.1186e-03, 4.5587e+08,\n",
       "         6.8599e-02, 3.2719e-01, 1.2493e-04, 7.6454e+02, 1.3668e-03, 4.0551e+02,\n",
       "         7.7754e-06, 4.1774e-01, 2.2431e-01, 1.7482e-09, 1.0726e+05, 1.7175e-03,\n",
       "         4.0309e-02, 1.1619e+02, 2.3504e-04, 1.1033e+02, 5.0392e+03, 2.2088e-06,\n",
       "         6.7267e+00, 1.1523e-01, 3.0989e+02],\n",
       "        [5.3934e-04, 1.3379e+06, 4.9050e+03, 4.2257e+03, 3.9844e-03, 1.3235e+06,\n",
       "         4.1694e-04, 3.1207e+01, 2.3341e-06, 1.3016e-02, 1.7642e-01, 8.1523e+07,\n",
       "         3.5169e-03, 3.7045e-01, 1.3839e+04, 5.7638e-02, 3.0452e+04, 7.3863e+00,\n",
       "         2.7402e-04, 2.8931e-02, 4.2290e-05, 7.6730e+02, 3.0414e+01, 6.8327e-07,\n",
       "         1.4621e+03, 3.8623e+06, 7.8079e+06],\n",
       "        [4.6861e-06, 5.7722e+00, 4.6239e-01, 6.5158e+02, 4.4293e-03, 1.8869e+01,\n",
       "         1.0479e-02, 1.6657e-01, 8.3134e-01, 1.0155e+06, 8.9297e-06, 2.4051e-01,\n",
       "         3.3829e-01, 1.8284e-04, 9.8963e-01, 4.2190e-06, 1.9606e+06, 5.7693e-05,\n",
       "         4.3640e+01, 1.8994e+02, 4.1817e-09, 1.6906e-01, 2.8810e+03, 4.7367e-03,\n",
       "         2.5164e+02, 1.8449e+01, 7.2657e+03],\n",
       "        [1.0223e-05, 7.5206e+02, 2.3887e+00, 1.1291e+04, 2.9938e-03, 1.9518e+05,\n",
       "         7.4217e-03, 6.2566e+00, 9.3548e-04, 5.4997e+00, 4.1244e-05, 1.2974e+03,\n",
       "         5.4022e+00, 8.2204e-04, 1.5229e+03, 2.5080e-04, 5.0900e+04, 8.5905e-02,\n",
       "         3.4951e-02, 4.7165e-01, 2.3884e-05, 4.0062e+02, 3.4310e+02, 2.5219e-05,\n",
       "         5.8261e+02, 3.9872e+05, 2.2123e+05],\n",
       "        [2.3170e-04, 2.6861e+01, 2.5529e-01, 1.7165e-04, 2.8738e+00, 2.8913e+02,\n",
       "         2.4394e-02, 1.8066e+04, 1.1046e+03, 1.5885e+05, 1.5620e+01, 6.4167e+04,\n",
       "         2.1524e-03, 5.6583e+07, 5.3423e+00, 2.8116e-03, 2.4909e+02, 3.0049e-04,\n",
       "         2.7325e+01, 4.9239e+00, 1.1219e-13, 5.3745e-03, 2.7547e+01, 8.6619e-02,\n",
       "         3.6380e+01, 2.3715e-01, 6.3986e+01],\n",
       "        [1.4768e+00, 1.8402e+01, 2.2384e+05, 7.0665e+08, 9.2456e-04, 1.8970e+06,\n",
       "         1.6708e-05, 8.9668e-01, 1.6109e-04, 5.8136e+03, 3.7191e-03, 1.4365e+04,\n",
       "         6.2697e+01, 1.8008e-04, 1.7595e+03, 7.9851e-04, 2.3203e+06, 9.0967e-05,\n",
       "         3.8528e-01, 1.9372e+03, 1.1066e-01, 5.1447e+01, 1.9396e+03, 1.1201e-04,\n",
       "         1.1710e+00, 1.2940e+02, 4.0050e+01],\n",
       "        [5.4552e-03, 1.5416e+01, 6.6225e+03, 5.2985e-02, 1.8378e-03, 8.0627e+05,\n",
       "         4.9120e-04, 5.6325e+05, 1.0001e+02, 2.5302e+02, 1.0010e+03, 6.4623e+05,\n",
       "         5.0791e-04, 1.2402e+09, 3.6330e-01, 4.2775e-02, 2.6105e+04, 3.7439e-02,\n",
       "         2.3745e-02, 7.7726e-01, 2.5657e-10, 1.4939e-03, 9.6127e-02, 1.5662e-06,\n",
       "         5.9567e-03, 3.6152e-01, 3.4873e+01],\n",
       "        [4.8661e-01, 2.6166e+04, 2.7076e-01, 2.5455e+06, 1.7376e+05, 1.9959e+05,\n",
       "         1.9120e-03, 4.2157e-05, 3.9653e-06, 1.5292e-05, 1.2209e-03, 7.2035e+01,\n",
       "         9.0561e-02, 1.3789e-04, 9.6756e-04, 9.8271e-03, 3.0203e+03, 2.7565e+02,\n",
       "         7.3328e-05, 1.2878e+03, 9.1135e-03, 1.5188e+02, 9.0104e+01, 1.0561e-04,\n",
       "         2.1018e+06, 1.2094e+07, 4.7975e+05],\n",
       "        [1.3291e-07, 3.6897e+01, 1.5084e+02, 1.0099e-10, 3.8285e+01, 1.5645e+00,\n",
       "         8.8475e-02, 2.3873e+01, 5.0037e+05, 5.3554e+04, 1.5860e-02, 6.3452e+00,\n",
       "         1.0588e-03, 2.3645e+08, 5.4569e-02, 3.5341e-03, 1.0672e+01, 2.4983e-02,\n",
       "         2.5544e+02, 3.4986e-04, 4.9413e-12, 1.1915e-03, 2.3011e+00, 9.3285e+01,\n",
       "         9.7009e+01, 6.7240e-02, 1.3974e+02],\n",
       "        [1.4768e+00, 1.8402e+01, 2.2384e+05, 7.0665e+08, 9.2456e-04, 1.8970e+06,\n",
       "         1.6708e-05, 8.9668e-01, 1.6109e-04, 5.8136e+03, 3.7191e-03, 1.4365e+04,\n",
       "         6.2697e+01, 1.8008e-04, 1.7595e+03, 7.9851e-04, 2.3203e+06, 9.0967e-05,\n",
       "         3.8528e-01, 1.9372e+03, 1.1066e-01, 5.1447e+01, 1.9396e+03, 1.1201e-04,\n",
       "         1.1710e+00, 1.2940e+02, 4.0050e+01],\n",
       "        [4.5846e-02, 1.9226e+00, 5.2136e+03, 6.3267e+06, 2.3083e-06, 2.7310e+07,\n",
       "         5.9285e-05, 2.6413e+01, 7.9991e-02, 2.4746e+03, 6.8703e-04, 1.5013e+03,\n",
       "         3.0987e+00, 6.6393e-02, 6.5531e+01, 1.6035e-05, 7.1769e+06, 6.3486e-04,\n",
       "         4.5096e+00, 7.4731e+01, 1.2583e-04, 4.9779e+02, 1.2554e+01, 5.9285e-06,\n",
       "         1.8935e+00, 1.1519e+02, 2.2035e+02],\n",
       "        [1.0478e-03, 2.2949e-01, 3.4330e-03, 8.2921e+01, 1.0171e+01, 4.9948e-03,\n",
       "         1.4786e+00, 1.1097e-01, 4.3106e+09, 6.3106e+04, 1.5995e+00, 7.5925e-02,\n",
       "         2.2087e+02, 6.6137e+07, 3.2897e-03, 2.3728e+04, 2.3741e-04, 7.6258e+01,\n",
       "         2.4281e-01, 4.1898e+02, 4.3912e-04, 7.8995e+01, 3.3810e-02, 1.1822e+01,\n",
       "         9.7213e+01, 2.2979e+03, 1.7905e-03],\n",
       "        [8.5228e+04, 7.5338e-03, 6.4706e-05, 1.3351e-04, 4.3313e+10, 3.9077e-03,\n",
       "         1.0567e+06, 2.1023e-07, 6.0839e-01, 6.0624e-01, 1.0745e-02, 4.8462e-02,\n",
       "         1.0059e-01, 2.9433e+01, 3.2365e-01, 1.5096e-03, 1.2485e-02, 1.3577e+02,\n",
       "         6.7035e+01, 3.8195e-03, 1.4726e+02, 1.2241e+02, 5.3944e-04, 2.5318e+04,\n",
       "         3.9727e+04, 8.2191e+01, 5.4811e-03],\n",
       "        [1.1238e-02, 5.4977e+04, 2.8284e-04, 4.6385e-09, 2.3467e+01, 6.7456e-07,\n",
       "         4.6397e+02, 2.2077e-05, 2.1178e-01, 1.2203e-03, 6.0271e+02, 2.2558e+02,\n",
       "         2.1363e+01, 4.1958e+04, 1.5752e+03, 3.1091e-01, 6.4618e-08, 3.8611e+04,\n",
       "         2.2751e-01, 1.4719e-05, 7.3914e+04, 4.7381e+04, 3.5350e-01, 8.5905e+00,\n",
       "         3.0569e+04, 4.3598e+01, 3.1961e+03],\n",
       "        [1.7246e+00, 2.2207e-03, 1.2051e-05, 7.7524e-10, 1.6471e+01, 1.4341e-06,\n",
       "         1.6034e+05, 3.6766e-03, 1.1880e+02, 4.4260e+05, 1.0306e-03, 2.2606e-05,\n",
       "         4.9746e+03, 5.7284e-02, 2.1094e-03, 3.1826e-04, 1.8768e-05, 4.7470e-03,\n",
       "         1.6168e+01, 6.5368e+00, 5.1421e-01, 3.1289e-03, 1.9143e+01, 1.2356e+09,\n",
       "         3.7812e-01, 2.7043e-06, 7.5201e-06],\n",
       "        [6.6433e+04, 3.3476e+03, 4.9832e+02, 1.0516e+00, 2.2761e-03, 3.6164e+05,\n",
       "         1.1189e-02, 4.4016e-01, 2.7493e-06, 6.5191e-04, 1.2076e+02, 3.3278e+07,\n",
       "         1.3761e-05, 9.8254e+03, 7.4871e+02, 6.4325e-06, 4.8527e+00, 3.2478e+03,\n",
       "         3.5308e-03, 1.4492e+01, 1.6989e-04, 3.0899e+04, 7.8448e+02, 5.3566e-08,\n",
       "         7.7389e+02, 1.1591e+04, 1.3316e+07],\n",
       "        [8.5930e-03, 7.6460e+04, 1.7863e+01, 1.6398e-01, 5.1543e-04, 2.1481e+06,\n",
       "         4.5941e-01, 9.2706e+03, 1.0553e-04, 6.4858e-01, 2.2189e-02, 1.5531e+08,\n",
       "         1.3277e-05, 5.8427e-03, 5.1080e+01, 1.5786e-04, 2.4792e+05, 1.4583e-01,\n",
       "         2.0334e-02, 6.4428e-01, 4.4903e-07, 2.5098e+01, 2.9308e+01, 2.4711e-08,\n",
       "         1.7630e+01, 2.4489e+05, 6.0767e+05],\n",
       "        [4.2478e-06, 7.9563e+00, 3.8137e+00, 7.0259e-01, 4.6008e+01, 1.1829e+05,\n",
       "         3.4839e-03, 7.1590e+02, 1.0406e+03, 2.6178e+05, 1.1118e+00, 3.2084e+00,\n",
       "         2.6234e-02, 7.4612e+05, 2.0809e+02, 6.9897e-03, 1.0645e+05, 2.0625e-05,\n",
       "         3.6119e+01, 1.9823e-03, 1.9209e-13, 6.1588e-03, 1.6103e+02, 2.7562e-02,\n",
       "         3.9636e-02, 3.8934e+00, 1.4031e+04],\n",
       "        [1.4768e+00, 1.8402e+01, 2.2384e+05, 7.0665e+08, 9.2456e-04, 1.8970e+06,\n",
       "         1.6708e-05, 8.9668e-01, 1.6109e-04, 5.8136e+03, 3.7191e-03, 1.4365e+04,\n",
       "         6.2697e+01, 1.8008e-04, 1.7595e+03, 7.9851e-04, 2.3203e+06, 9.0967e-05,\n",
       "         3.8528e-01, 1.9372e+03, 1.1066e-01, 5.1447e+01, 1.9396e+03, 1.1201e-04,\n",
       "         1.1710e+00, 1.2940e+02, 4.0050e+01],\n",
       "        [3.7063e-05, 4.9541e-01, 2.6146e-02, 2.5396e+02, 5.6985e+00, 4.9974e-01,\n",
       "         4.5953e+01, 8.5583e-01, 2.7086e+09, 1.1783e+05, 1.7477e+01, 1.2706e-01,\n",
       "         2.6797e+03, 2.4908e+08, 3.8262e-03, 2.3884e+04, 1.9828e-05, 6.7143e+00,\n",
       "         2.3328e+00, 1.6477e+01, 1.3955e-05, 6.5426e-01, 3.4102e-03, 1.6785e+02,\n",
       "         1.8733e+01, 8.1601e+02, 1.0158e-04],\n",
       "        [1.2774e+06, 3.2290e-03, 2.8520e-06, 7.6542e+01, 1.8320e+11, 2.2082e-06,\n",
       "         1.3867e+05, 5.3162e-06, 2.9696e-02, 2.9151e-01, 6.1992e-02, 2.8584e-03,\n",
       "         4.5705e+01, 9.4076e-01, 5.1573e+00, 3.9186e-02, 6.1379e-05, 1.5971e+02,\n",
       "         2.5944e-02, 1.1550e-01, 9.0121e+04, 1.5238e+00, 6.3892e-01, 1.9194e+07,\n",
       "         4.6908e+07, 8.7088e+03, 1.6261e-05],\n",
       "        [5.8548e+00, 3.6180e+02, 1.4121e+04, 7.7321e-15, 1.3749e-03, 8.2099e-06,\n",
       "         1.4207e+05, 3.6822e-03, 5.0743e-04, 6.5328e-03, 1.9723e+00, 1.7873e+01,\n",
       "         1.5845e-05, 4.6246e+04, 2.3090e+01, 2.7837e-04, 2.1090e-06, 3.7720e+07,\n",
       "         4.6890e+00, 7.9030e-07, 1.7349e+02, 7.4997e+02, 1.0592e-02, 2.1066e-01,\n",
       "         7.1974e-01, 5.4215e-01, 2.8934e+01],\n",
       "        [1.2477e+00, 3.6109e+04, 3.2589e-01, 1.1499e+00, 7.7111e+01, 3.3482e+04,\n",
       "         9.5523e-01, 1.8163e-04, 8.9784e-04, 1.2600e-04, 2.2685e+00, 5.0494e+04,\n",
       "         6.0672e-06, 1.5173e+03, 3.8901e-03, 9.8272e-06, 1.2499e+01, 3.0085e+03,\n",
       "         1.9028e-04, 2.1957e-01, 1.7419e-03, 3.4203e+00, 5.9108e+03, 5.1868e-06,\n",
       "         5.8057e+05, 3.2534e+06, 1.9677e+06],\n",
       "        [2.3716e-07, 1.0836e+04, 5.1944e+00, 2.8985e-02, 1.1380e-01, 2.0407e+02,\n",
       "         2.3696e-05, 5.6954e+01, 1.3777e-05, 9.4668e+00, 7.1583e-03, 1.8537e+03,\n",
       "         6.5425e-01, 2.3068e-03, 6.2933e+01, 4.1664e-05, 1.3480e+03, 3.8360e+00,\n",
       "         3.3617e-02, 3.0777e-04, 3.0602e-06, 8.5472e+01, 1.7327e+01, 4.2872e-03,\n",
       "         6.5396e+03, 3.1696e+02, 4.8134e+07],\n",
       "        [1.1213e-04, 1.6076e+01, 3.4515e-02, 1.7063e-04, 3.2455e+01, 1.1287e+02,\n",
       "         1.2919e-01, 8.5347e+03, 5.4200e+02, 9.0840e+05, 4.5541e+00, 5.9563e+02,\n",
       "         1.8040e-03, 3.6877e+06, 4.7540e+00, 3.0497e-03, 3.1459e+02, 7.9383e-05,\n",
       "         1.3892e+02, 2.2807e+00, 2.2388e-14, 2.7780e-03, 3.0361e+02, 3.9185e+00,\n",
       "         4.2747e+00, 1.2131e-01, 1.0393e+01]])"
      ]
     },
     "execution_count": 20,
     "metadata": {},
     "output_type": "execute_result"
    }
   ],
   "source": [
    "counts = logits.exp()\n",
    "counts"
   ]
  },
  {
   "cell_type": "code",
   "execution_count": 21,
   "id": "5e54427a-2cea-4541-9514-810394cc8599",
   "metadata": {},
   "outputs": [],
   "source": [
    "prob = counts/counts.sum(1,keepdim=True)"
   ]
  },
  {
   "cell_type": "code",
   "execution_count": 22,
   "id": "0537c7db-25fe-492a-94e4-4bfb65865d22",
   "metadata": {},
   "outputs": [
    {
     "data": {
      "text/plain": [
       "torch.Size([32, 27])"
      ]
     },
     "execution_count": 22,
     "metadata": {},
     "output_type": "execute_result"
    }
   ],
   "source": [
    "prob.shape"
   ]
  },
  {
   "cell_type": "code",
   "execution_count": 27,
   "id": "45e7fb55-cf38-4dce-b8f3-fc0d81864761",
   "metadata": {},
   "outputs": [
    {
     "data": {
      "text/plain": [
       "tensor([2.0768e-09, 2.5878e-08, 3.1477e-04, 9.9372e-01, 1.3001e-12, 2.6677e-03,\n",
       "        2.3496e-14, 1.2609e-09, 2.2653e-13, 8.1752e-06, 5.2299e-12, 2.0201e-05,\n",
       "        8.8166e-08, 2.5323e-13, 2.4743e-06, 1.1229e-12, 3.2629e-03, 1.2792e-13,\n",
       "        5.4179e-10, 2.7241e-06, 1.5561e-10, 7.2347e-08, 2.7275e-06, 1.5751e-13,\n",
       "        1.6467e-09, 1.8197e-07, 5.6320e-08])"
      ]
     },
     "execution_count": 27,
     "metadata": {},
     "output_type": "execute_result"
    }
   ],
   "source": [
    "prob[0]"
   ]
  },
  {
   "cell_type": "code",
   "execution_count": 25,
   "id": "e46d83c2-9075-41a7-9c03-7a919f391cfb",
   "metadata": {},
   "outputs": [
    {
     "data": {
      "text/plain": [
       "(tensor([ 0,  1,  2,  3,  4,  5,  6,  7,  8,  9, 10, 11, 12, 13, 14, 15, 16, 17,\n",
       "         18, 19, 20, 21, 22, 23, 24, 25, 26, 27, 28, 29, 30, 31]),\n",
       " tensor([ 5, 13, 13,  1,  0, 15, 12,  9, 22,  9,  1,  0,  1, 22,  1,  0,  9, 19,\n",
       "          1,  2,  5, 12, 12,  1,  0, 19, 15, 16,  8,  9,  1,  0]))"
      ]
     },
     "execution_count": 25,
     "metadata": {},
     "output_type": "execute_result"
    }
   ],
   "source": [
    "torch.arange(32),Y"
   ]
  },
  {
   "cell_type": "code",
   "execution_count": 26,
   "id": "3a2bc2fc-68e7-481d-b2d3-676a0083d363",
   "metadata": {},
   "outputs": [
    {
     "data": {
      "text/plain": [
       "tensor([2.6677e-03, 1.1306e-07, 6.4779e-06, 4.2876e-04, 1.3579e-09, 1.1229e-12,\n",
       "        2.2778e-05, 1.6767e-06, 3.1711e-07, 3.3992e-01, 8.5244e-04, 4.0774e-12,\n",
       "        2.5878e-08, 7.7381e-11, 1.4846e-03, 5.6079e-16, 8.1752e-06, 1.8306e-06,\n",
       "        5.2432e-11, 1.4939e-15, 2.2978e-12, 4.0242e-06, 2.9225e-13, 4.8194e-04,\n",
       "        3.4012e-12, 2.7241e-06, 8.0747e-06, 3.3491e-16, 1.3380e-11, 2.1240e-11,\n",
       "        2.2502e-04, 2.4340e-11])"
      ]
     },
     "execution_count": 26,
     "metadata": {},
     "output_type": "execute_result"
    }
   ],
   "source": [
    "prob[torch.arange(32),Y]"
   ]
  },
  {
   "cell_type": "code",
   "execution_count": 28,
   "id": "c793be86-b08a-4c2b-a310-1b2ca301d12b",
   "metadata": {},
   "outputs": [
    {
     "data": {
      "text/plain": [
       "tensor(17.8984)"
      ]
     },
     "execution_count": 28,
     "metadata": {},
     "output_type": "execute_result"
    }
   ],
   "source": [
    "loss = - prob[torch.arange(32),Y].log().mean()\n",
    "loss"
   ]
  },
  {
   "cell_type": "markdown",
   "id": "6be6e90f-d8c3-4392-8bd6-a9c86444e7ac",
   "metadata": {},
   "source": [
    "prob[torch.arange(32), Y]: This indexing operation does the following:\n",
    "\n",
    "For the first row (sample 0), it selects the element from the 6th column (index 5) because Y[0] = 5. This is the predicted probability for the correct character (index 5) for the first sample.\n",
    "For the second row (sample 1), it selects the element from the 13th column (index 12) because Y[1] = 12. This is the predicted probability for the correct character (index 12) for the second sample.\n",
    "This continues for all 32 samples, selecting the predicted probability corresponding to the correct character for each sample."
   ]
  },
  {
   "cell_type": "code",
   "execution_count": 54,
   "id": "8655e9ec-062b-4bfe-b639-ad6fd76a5ed6",
   "metadata": {},
   "outputs": [
    {
     "data": {
      "text/plain": [
       "tensor([ 0,  1,  2,  3,  4,  5,  6,  7,  8,  9, 10, 11, 12, 13, 14, 15, 16, 17,\n",
       "        18, 19, 20, 21, 22, 23, 24, 25, 26, 27, 28, 29, 30, 31])"
      ]
     },
     "execution_count": 54,
     "metadata": {},
     "output_type": "execute_result"
    }
   ],
   "source": [
    "torch.arange(32)"
   ]
  },
  {
   "cell_type": "code",
   "execution_count": 55,
   "id": "edbb7c99-06f2-4984-beaf-b5eadfe7d961",
   "metadata": {},
   "outputs": [
    {
     "data": {
      "text/plain": [
       "tensor([ 5, 13, 13,  1,  0, 15, 12,  9, 22,  9,  1,  0,  1, 22,  1,  0,  9, 19,\n",
       "         1,  2,  5, 12, 12,  1,  0, 19, 15, 16,  8,  9,  1,  0])"
      ]
     },
     "execution_count": 55,
     "metadata": {},
     "output_type": "execute_result"
    }
   ],
   "source": [
    "Y"
   ]
  },
  {
   "cell_type": "markdown",
   "id": "97c3c04b-82c6-433b-b5b0-b31640faf1d8",
   "metadata": {},
   "source": [
    "### SUMMARY"
   ]
  },
  {
   "cell_type": "code",
   "execution_count": 29,
   "id": "421fca1f-d56b-4f3e-9ec4-75fd03897e33",
   "metadata": {},
   "outputs": [
    {
     "data": {
      "text/plain": [
       "(torch.Size([32, 3]), torch.Size([32]))"
      ]
     },
     "execution_count": 29,
     "metadata": {},
     "output_type": "execute_result"
    }
   ],
   "source": [
    "X.shape, Y.shape"
   ]
  },
  {
   "cell_type": "code",
   "execution_count": null,
   "id": "83ec8ecc-24a5-45ca-91d4-f4c4e8c0b811",
   "metadata": {},
   "outputs": [],
   "source": []
  },
  {
   "cell_type": "code",
   "execution_count": 30,
   "id": "926555c8-8610-43e8-a979-41f8c17a5777",
   "metadata": {},
   "outputs": [],
   "source": [
    "g = torch.Generator().manual_seed(2147483647) # for reproducibility\n",
    "C = torch.randn((27, 2), generator=g)\n",
    "W1 = torch.randn((6, 100), generator=g)\n",
    "b1 = torch.randn(100, generator=g)\n",
    "W2 = torch.randn((100, 27), generator=g)\n",
    "b2 = torch.randn(27, generator=g)\n",
    "parameters = [C, W1, b1, W2, b2]"
   ]
  },
  {
   "cell_type": "code",
   "execution_count": 31,
   "id": "4ab2aa45-b5a2-4910-b100-9477423044b6",
   "metadata": {},
   "outputs": [
    {
     "data": {
      "text/plain": [
       "3481"
      ]
     },
     "execution_count": 31,
     "metadata": {},
     "output_type": "execute_result"
    }
   ],
   "source": [
    "sum(p.nelement() for p in parameters) # number of parameters in total"
   ]
  },
  {
   "cell_type": "code",
   "execution_count": 32,
   "id": "47685101-b964-4c32-9b0f-f7cd00135171",
   "metadata": {},
   "outputs": [],
   "source": [
    "for p in parameters:\n",
    "    p.requires_grad = True"
   ]
  },
  {
   "cell_type": "code",
   "execution_count": 40,
   "id": "bb0e9ed6-f3ad-48b6-8362-2e2a1f3d4268",
   "metadata": {},
   "outputs": [
    {
     "name": "stdout",
     "output_type": "stream",
     "text": [
      "0.432133287191391\n",
      "0.4261389970779419\n",
      "0.4206799864768982\n",
      "0.4156755805015564\n",
      "0.41106167435646057\n",
      "0.40678733587265015\n",
      "0.4028107523918152\n",
      "0.3990974426269531\n",
      "0.39561811089515686\n",
      "0.3923477828502655\n"
     ]
    }
   ],
   "source": [
    "for _ in range(10):\n",
    "    #forward pass\n",
    "    emb = C[X] # 32,3,2\n",
    "    h = torch.tanh(emb.view(-1,6) @ W1 + b1)\n",
    "    logits = h @ W2 + b2\n",
    "    loss = F.cross_entropy(logits,Y)\n",
    "    print(loss.item())\n",
    "    for p in parameters:\n",
    "        p.grad = None\n",
    "    loss.backward()\n",
    "    \n",
    "    #update \n",
    "    for p in parameters:\n",
    "        p.data -= 0.1 * p.grad\n",
    "    "
   ]
  },
  {
   "cell_type": "code",
   "execution_count": 34,
   "id": "65a4cd96-c717-44e8-ab78-7c185dfebd4e",
   "metadata": {},
   "outputs": [
    {
     "data": {
      "text/plain": [
       "torch.return_types.max(\n",
       "values=tensor([10.7865, 12.2558, 17.3982, 13.2739, 10.6965, 10.7865,  9.5145,  9.0495,\n",
       "        14.0280, 11.8378,  9.9038, 15.4187, 10.7865, 10.1476,  9.8372, 11.7660,\n",
       "        10.7865, 10.0029,  9.2940,  9.6824, 11.4241,  9.4885,  8.1164,  9.5176,\n",
       "        12.6383, 10.7865, 10.6021, 11.0822,  6.3617, 17.3157, 12.4544,  8.1669],\n",
       "       grad_fn=<MaxBackward0>),\n",
       "indices=tensor([ 1,  8,  9,  0, 15,  1, 17,  2,  9,  9,  2,  0,  1, 15,  1,  0,  1, 19,\n",
       "         1,  1, 16, 10, 26,  9,  0,  1, 15, 16,  3,  9, 19,  1]))"
      ]
     },
     "execution_count": 34,
     "metadata": {},
     "output_type": "execute_result"
    }
   ],
   "source": [
    "logits.max(1)"
   ]
  },
  {
   "cell_type": "code",
   "execution_count": 63,
   "id": "aee74114-2def-4ed5-adeb-2955e699cf92",
   "metadata": {},
   "outputs": [
    {
     "data": {
      "text/plain": [
       "tensor([ 5, 13, 13,  1,  0, 15, 12,  9, 22,  9,  1,  0,  1, 22,  1,  0,  9, 19,\n",
       "         1,  2,  5, 12, 12,  1,  0, 19, 15, 16,  8,  9,  1,  0])"
      ]
     },
     "execution_count": 63,
     "metadata": {},
     "output_type": "execute_result"
    }
   ],
   "source": [
    "Y"
   ]
  },
  {
   "cell_type": "markdown",
   "id": "97f4a4e2-832f-4fc1-811c-998b2b256a56",
   "metadata": {},
   "source": [
    "### Training the full dataset"
   ]
  },
  {
   "cell_type": "code",
   "execution_count": 41,
   "id": "a4822eda-a3fc-444c-8e6d-cc3cfbc373c3",
   "metadata": {},
   "outputs": [],
   "source": [
    "# build the dataset\n",
    "\n",
    "block_size = 3 # context length: how many characters do we take to predict the next one?\n",
    "X, Y = [], []\n",
    "for w in words:\n",
    "  context = [0] * block_size\n",
    "  for ch in w + '.':\n",
    "    ix = stoi[ch]\n",
    "    X.append(context)\n",
    "    Y.append(ix)\n",
    "    # print(''.join(itos[i] for i in context), '--->', itos[ix])\n",
    "    context = context[1:] + [ix] # crop and append\n",
    "  \n",
    "X = torch.tensor(X)\n",
    "Y = torch.tensor(Y)"
   ]
  },
  {
   "cell_type": "code",
   "execution_count": 42,
   "id": "67ded016-0a2c-426a-a345-73b2543c14da",
   "metadata": {},
   "outputs": [
    {
     "data": {
      "text/plain": [
       "(torch.Size([228146, 3]), torch.Size([228146]))"
      ]
     },
     "execution_count": 42,
     "metadata": {},
     "output_type": "execute_result"
    }
   ],
   "source": [
    "X.shape, Y.shape"
   ]
  },
  {
   "cell_type": "code",
   "execution_count": 43,
   "id": "fa66d3c5-e9a5-4b0c-9730-3dd382f8e70a",
   "metadata": {},
   "outputs": [],
   "source": [
    "g = torch.Generator().manual_seed(2147483647) # for reproducibility\n",
    "C = torch.randn((27, 2), generator=g)\n",
    "W1 = torch.randn((6, 100), generator=g)\n",
    "b1 = torch.randn(100, generator=g)\n",
    "W2 = torch.randn((100, 27), generator=g)\n",
    "b2 = torch.randn(27, generator=g)\n",
    "parameters = [C, W1, b1, W2, b2]"
   ]
  },
  {
   "cell_type": "code",
   "execution_count": 44,
   "id": "90d02195-8b04-43a8-b3cc-caeb0310a1eb",
   "metadata": {},
   "outputs": [],
   "source": [
    "for p in parameters:\n",
    "    p.requires_grad = True"
   ]
  },
  {
   "cell_type": "code",
   "execution_count": 37,
   "id": "297e3235-c302-45cc-99bd-437825c7b821",
   "metadata": {},
   "outputs": [
    {
     "data": {
      "text/plain": [
       "tensor([0.0010, 0.0010, 0.0010, 0.0010, 0.0010, 0.0010, 0.0010, 0.0010, 0.0011,\n",
       "        0.0011, 0.0011, 0.0011, 0.0011, 0.0011, 0.0011, 0.0011, 0.0011, 0.0011,\n",
       "        0.0011, 0.0011, 0.0011, 0.0012, 0.0012, 0.0012, 0.0012, 0.0012, 0.0012,\n",
       "        0.0012, 0.0012, 0.0012, 0.0012, 0.0012, 0.0012, 0.0013, 0.0013, 0.0013,\n",
       "        0.0013, 0.0013, 0.0013, 0.0013, 0.0013, 0.0013, 0.0013, 0.0013, 0.0014,\n",
       "        0.0014, 0.0014, 0.0014, 0.0014, 0.0014, 0.0014, 0.0014, 0.0014, 0.0014,\n",
       "        0.0015, 0.0015, 0.0015, 0.0015, 0.0015, 0.0015, 0.0015, 0.0015, 0.0015,\n",
       "        0.0015, 0.0016, 0.0016, 0.0016, 0.0016, 0.0016, 0.0016, 0.0016, 0.0016,\n",
       "        0.0016, 0.0017, 0.0017, 0.0017, 0.0017, 0.0017, 0.0017, 0.0017, 0.0017,\n",
       "        0.0018, 0.0018, 0.0018, 0.0018, 0.0018, 0.0018, 0.0018, 0.0018, 0.0019,\n",
       "        0.0019, 0.0019, 0.0019, 0.0019, 0.0019, 0.0019, 0.0019, 0.0020, 0.0020,\n",
       "        0.0020, 0.0020, 0.0020, 0.0020, 0.0020, 0.0021, 0.0021, 0.0021, 0.0021,\n",
       "        0.0021, 0.0021, 0.0021, 0.0022, 0.0022, 0.0022, 0.0022, 0.0022, 0.0022,\n",
       "        0.0022, 0.0023, 0.0023, 0.0023, 0.0023, 0.0023, 0.0023, 0.0024, 0.0024,\n",
       "        0.0024, 0.0024, 0.0024, 0.0024, 0.0025, 0.0025, 0.0025, 0.0025, 0.0025,\n",
       "        0.0025, 0.0026, 0.0026, 0.0026, 0.0026, 0.0026, 0.0027, 0.0027, 0.0027,\n",
       "        0.0027, 0.0027, 0.0027, 0.0028, 0.0028, 0.0028, 0.0028, 0.0028, 0.0029,\n",
       "        0.0029, 0.0029, 0.0029, 0.0029, 0.0030, 0.0030, 0.0030, 0.0030, 0.0030,\n",
       "        0.0031, 0.0031, 0.0031, 0.0031, 0.0032, 0.0032, 0.0032, 0.0032, 0.0032,\n",
       "        0.0033, 0.0033, 0.0033, 0.0033, 0.0034, 0.0034, 0.0034, 0.0034, 0.0034,\n",
       "        0.0035, 0.0035, 0.0035, 0.0035, 0.0036, 0.0036, 0.0036, 0.0036, 0.0037,\n",
       "        0.0037, 0.0037, 0.0037, 0.0038, 0.0038, 0.0038, 0.0039, 0.0039, 0.0039,\n",
       "        0.0039, 0.0040, 0.0040, 0.0040, 0.0040, 0.0041, 0.0041, 0.0041, 0.0042,\n",
       "        0.0042, 0.0042, 0.0042, 0.0043, 0.0043, 0.0043, 0.0044, 0.0044, 0.0044,\n",
       "        0.0045, 0.0045, 0.0045, 0.0045, 0.0046, 0.0046, 0.0046, 0.0047, 0.0047,\n",
       "        0.0047, 0.0048, 0.0048, 0.0048, 0.0049, 0.0049, 0.0049, 0.0050, 0.0050,\n",
       "        0.0050, 0.0051, 0.0051, 0.0051, 0.0052, 0.0052, 0.0053, 0.0053, 0.0053,\n",
       "        0.0054, 0.0054, 0.0054, 0.0055, 0.0055, 0.0056, 0.0056, 0.0056, 0.0057,\n",
       "        0.0057, 0.0058, 0.0058, 0.0058, 0.0059, 0.0059, 0.0060, 0.0060, 0.0060,\n",
       "        0.0061, 0.0061, 0.0062, 0.0062, 0.0062, 0.0063, 0.0063, 0.0064, 0.0064,\n",
       "        0.0065, 0.0065, 0.0066, 0.0066, 0.0067, 0.0067, 0.0067, 0.0068, 0.0068,\n",
       "        0.0069, 0.0069, 0.0070, 0.0070, 0.0071, 0.0071, 0.0072, 0.0072, 0.0073,\n",
       "        0.0073, 0.0074, 0.0074, 0.0075, 0.0075, 0.0076, 0.0076, 0.0077, 0.0077,\n",
       "        0.0078, 0.0079, 0.0079, 0.0080, 0.0080, 0.0081, 0.0081, 0.0082, 0.0082,\n",
       "        0.0083, 0.0084, 0.0084, 0.0085, 0.0085, 0.0086, 0.0086, 0.0087, 0.0088,\n",
       "        0.0088, 0.0089, 0.0090, 0.0090, 0.0091, 0.0091, 0.0092, 0.0093, 0.0093,\n",
       "        0.0094, 0.0095, 0.0095, 0.0096, 0.0097, 0.0097, 0.0098, 0.0099, 0.0099,\n",
       "        0.0100, 0.0101, 0.0101, 0.0102, 0.0103, 0.0104, 0.0104, 0.0105, 0.0106,\n",
       "        0.0106, 0.0107, 0.0108, 0.0109, 0.0109, 0.0110, 0.0111, 0.0112, 0.0112,\n",
       "        0.0113, 0.0114, 0.0115, 0.0116, 0.0116, 0.0117, 0.0118, 0.0119, 0.0120,\n",
       "        0.0121, 0.0121, 0.0122, 0.0123, 0.0124, 0.0125, 0.0126, 0.0127, 0.0127,\n",
       "        0.0128, 0.0129, 0.0130, 0.0131, 0.0132, 0.0133, 0.0134, 0.0135, 0.0136,\n",
       "        0.0137, 0.0137, 0.0138, 0.0139, 0.0140, 0.0141, 0.0142, 0.0143, 0.0144,\n",
       "        0.0145, 0.0146, 0.0147, 0.0148, 0.0149, 0.0150, 0.0151, 0.0152, 0.0154,\n",
       "        0.0155, 0.0156, 0.0157, 0.0158, 0.0159, 0.0160, 0.0161, 0.0162, 0.0163,\n",
       "        0.0165, 0.0166, 0.0167, 0.0168, 0.0169, 0.0170, 0.0171, 0.0173, 0.0174,\n",
       "        0.0175, 0.0176, 0.0178, 0.0179, 0.0180, 0.0181, 0.0182, 0.0184, 0.0185,\n",
       "        0.0186, 0.0188, 0.0189, 0.0190, 0.0192, 0.0193, 0.0194, 0.0196, 0.0197,\n",
       "        0.0198, 0.0200, 0.0201, 0.0202, 0.0204, 0.0205, 0.0207, 0.0208, 0.0210,\n",
       "        0.0211, 0.0212, 0.0214, 0.0215, 0.0217, 0.0218, 0.0220, 0.0221, 0.0223,\n",
       "        0.0225, 0.0226, 0.0228, 0.0229, 0.0231, 0.0232, 0.0234, 0.0236, 0.0237,\n",
       "        0.0239, 0.0241, 0.0242, 0.0244, 0.0246, 0.0247, 0.0249, 0.0251, 0.0253,\n",
       "        0.0254, 0.0256, 0.0258, 0.0260, 0.0261, 0.0263, 0.0265, 0.0267, 0.0269,\n",
       "        0.0271, 0.0273, 0.0274, 0.0276, 0.0278, 0.0280, 0.0282, 0.0284, 0.0286,\n",
       "        0.0288, 0.0290, 0.0292, 0.0294, 0.0296, 0.0298, 0.0300, 0.0302, 0.0304,\n",
       "        0.0307, 0.0309, 0.0311, 0.0313, 0.0315, 0.0317, 0.0320, 0.0322, 0.0324,\n",
       "        0.0326, 0.0328, 0.0331, 0.0333, 0.0335, 0.0338, 0.0340, 0.0342, 0.0345,\n",
       "        0.0347, 0.0350, 0.0352, 0.0354, 0.0357, 0.0359, 0.0362, 0.0364, 0.0367,\n",
       "        0.0369, 0.0372, 0.0375, 0.0377, 0.0380, 0.0382, 0.0385, 0.0388, 0.0390,\n",
       "        0.0393, 0.0396, 0.0399, 0.0401, 0.0404, 0.0407, 0.0410, 0.0413, 0.0416,\n",
       "        0.0418, 0.0421, 0.0424, 0.0427, 0.0430, 0.0433, 0.0436, 0.0439, 0.0442,\n",
       "        0.0445, 0.0448, 0.0451, 0.0455, 0.0458, 0.0461, 0.0464, 0.0467, 0.0471,\n",
       "        0.0474, 0.0477, 0.0480, 0.0484, 0.0487, 0.0491, 0.0494, 0.0497, 0.0501,\n",
       "        0.0504, 0.0508, 0.0511, 0.0515, 0.0518, 0.0522, 0.0526, 0.0529, 0.0533,\n",
       "        0.0537, 0.0540, 0.0544, 0.0548, 0.0552, 0.0556, 0.0559, 0.0563, 0.0567,\n",
       "        0.0571, 0.0575, 0.0579, 0.0583, 0.0587, 0.0591, 0.0595, 0.0599, 0.0604,\n",
       "        0.0608, 0.0612, 0.0616, 0.0621, 0.0625, 0.0629, 0.0634, 0.0638, 0.0642,\n",
       "        0.0647, 0.0651, 0.0656, 0.0660, 0.0665, 0.0670, 0.0674, 0.0679, 0.0684,\n",
       "        0.0688, 0.0693, 0.0698, 0.0703, 0.0708, 0.0713, 0.0718, 0.0723, 0.0728,\n",
       "        0.0733, 0.0738, 0.0743, 0.0748, 0.0753, 0.0758, 0.0764, 0.0769, 0.0774,\n",
       "        0.0780, 0.0785, 0.0790, 0.0796, 0.0802, 0.0807, 0.0813, 0.0818, 0.0824,\n",
       "        0.0830, 0.0835, 0.0841, 0.0847, 0.0853, 0.0859, 0.0865, 0.0871, 0.0877,\n",
       "        0.0883, 0.0889, 0.0895, 0.0901, 0.0908, 0.0914, 0.0920, 0.0927, 0.0933,\n",
       "        0.0940, 0.0946, 0.0953, 0.0959, 0.0966, 0.0973, 0.0979, 0.0986, 0.0993,\n",
       "        0.1000, 0.1007, 0.1014, 0.1021, 0.1028, 0.1035, 0.1042, 0.1050, 0.1057,\n",
       "        0.1064, 0.1072, 0.1079, 0.1087, 0.1094, 0.1102, 0.1109, 0.1117, 0.1125,\n",
       "        0.1133, 0.1140, 0.1148, 0.1156, 0.1164, 0.1172, 0.1181, 0.1189, 0.1197,\n",
       "        0.1205, 0.1214, 0.1222, 0.1231, 0.1239, 0.1248, 0.1256, 0.1265, 0.1274,\n",
       "        0.1283, 0.1292, 0.1301, 0.1310, 0.1319, 0.1328, 0.1337, 0.1346, 0.1356,\n",
       "        0.1365, 0.1374, 0.1384, 0.1394, 0.1403, 0.1413, 0.1423, 0.1433, 0.1443,\n",
       "        0.1453, 0.1463, 0.1473, 0.1483, 0.1493, 0.1504, 0.1514, 0.1525, 0.1535,\n",
       "        0.1546, 0.1557, 0.1567, 0.1578, 0.1589, 0.1600, 0.1611, 0.1623, 0.1634,\n",
       "        0.1645, 0.1657, 0.1668, 0.1680, 0.1691, 0.1703, 0.1715, 0.1727, 0.1739,\n",
       "        0.1751, 0.1763, 0.1775, 0.1788, 0.1800, 0.1812, 0.1825, 0.1838, 0.1850,\n",
       "        0.1863, 0.1876, 0.1889, 0.1902, 0.1916, 0.1929, 0.1942, 0.1956, 0.1969,\n",
       "        0.1983, 0.1997, 0.2010, 0.2024, 0.2038, 0.2053, 0.2067, 0.2081, 0.2096,\n",
       "        0.2110, 0.2125, 0.2140, 0.2154, 0.2169, 0.2184, 0.2200, 0.2215, 0.2230,\n",
       "        0.2246, 0.2261, 0.2277, 0.2293, 0.2309, 0.2325, 0.2341, 0.2357, 0.2373,\n",
       "        0.2390, 0.2406, 0.2423, 0.2440, 0.2457, 0.2474, 0.2491, 0.2508, 0.2526,\n",
       "        0.2543, 0.2561, 0.2579, 0.2597, 0.2615, 0.2633, 0.2651, 0.2669, 0.2688,\n",
       "        0.2707, 0.2725, 0.2744, 0.2763, 0.2783, 0.2802, 0.2821, 0.2841, 0.2861,\n",
       "        0.2880, 0.2900, 0.2921, 0.2941, 0.2961, 0.2982, 0.3002, 0.3023, 0.3044,\n",
       "        0.3065, 0.3087, 0.3108, 0.3130, 0.3151, 0.3173, 0.3195, 0.3217, 0.3240,\n",
       "        0.3262, 0.3285, 0.3308, 0.3331, 0.3354, 0.3377, 0.3400, 0.3424, 0.3448,\n",
       "        0.3472, 0.3496, 0.3520, 0.3544, 0.3569, 0.3594, 0.3619, 0.3644, 0.3669,\n",
       "        0.3695, 0.3720, 0.3746, 0.3772, 0.3798, 0.3825, 0.3851, 0.3878, 0.3905,\n",
       "        0.3932, 0.3959, 0.3987, 0.4014, 0.4042, 0.4070, 0.4098, 0.4127, 0.4155,\n",
       "        0.4184, 0.4213, 0.4243, 0.4272, 0.4302, 0.4331, 0.4362, 0.4392, 0.4422,\n",
       "        0.4453, 0.4484, 0.4515, 0.4546, 0.4578, 0.4610, 0.4642, 0.4674, 0.4706,\n",
       "        0.4739, 0.4772, 0.4805, 0.4838, 0.4872, 0.4906, 0.4940, 0.4974, 0.5008,\n",
       "        0.5043, 0.5078, 0.5113, 0.5149, 0.5185, 0.5221, 0.5257, 0.5293, 0.5330,\n",
       "        0.5367, 0.5404, 0.5442, 0.5479, 0.5517, 0.5556, 0.5594, 0.5633, 0.5672,\n",
       "        0.5712, 0.5751, 0.5791, 0.5831, 0.5872, 0.5913, 0.5954, 0.5995, 0.6036,\n",
       "        0.6078, 0.6120, 0.6163, 0.6206, 0.6249, 0.6292, 0.6336, 0.6380, 0.6424,\n",
       "        0.6469, 0.6513, 0.6559, 0.6604, 0.6650, 0.6696, 0.6743, 0.6789, 0.6837,\n",
       "        0.6884, 0.6932, 0.6980, 0.7028, 0.7077, 0.7126, 0.7176, 0.7225, 0.7275,\n",
       "        0.7326, 0.7377, 0.7428, 0.7480, 0.7531, 0.7584, 0.7636, 0.7689, 0.7743,\n",
       "        0.7796, 0.7850, 0.7905, 0.7960, 0.8015, 0.8071, 0.8127, 0.8183, 0.8240,\n",
       "        0.8297, 0.8355, 0.8412, 0.8471, 0.8530, 0.8589, 0.8648, 0.8708, 0.8769,\n",
       "        0.8830, 0.8891, 0.8953, 0.9015, 0.9077, 0.9140, 0.9204, 0.9268, 0.9332,\n",
       "        0.9397, 0.9462, 0.9528, 0.9594, 0.9660, 0.9727, 0.9795, 0.9863, 0.9931,\n",
       "        1.0000])"
      ]
     },
     "execution_count": 37,
     "metadata": {},
     "output_type": "execute_result"
    }
   ],
   "source": [
    "lre = torch.linspace(-3, 0, 1000) # 1000 numbers between -3 and 0\n",
    "lrs = 10**lre\n",
    "lrs"
   ]
  },
  {
   "cell_type": "code",
   "execution_count": 70,
   "id": "adf356db-e762-48ab-938e-151c4669d36f",
   "metadata": {},
   "outputs": [
    {
     "name": "stdout",
     "output_type": "stream",
     "text": [
      "3.0433502197265625\n"
     ]
    }
   ],
   "source": [
    "lri = []\n",
    "lossi =  []\n",
    "for i in range(1000):\n",
    "    #mini_bacth\n",
    "    ix = torch.randint(0,X.shape[0],(32,))\n",
    "    #forward pass\n",
    "    emb = C[X[ix]] # 32,3,2\n",
    "    h = torch.tanh(emb.view(-1,6) @ W1 + b1)\n",
    "    logits = h @ W2 + b2\n",
    "    loss = F.cross_entropy(logits,Y[ix])\n",
    "    for p in parameters:\n",
    "        p.grad = None\n",
    "    loss.backward()\n",
    "    \n",
    "    #update \n",
    "    lr = 0.1\n",
    "    for p in parameters:\n",
    "        p.data -= lr * p.grad\n",
    "\n",
    "    #track stats\n",
    "    # lri.append(lre[i])\n",
    "    # lossi.append(loss.item())\n",
    "print(loss.item())"
   ]
  },
  {
   "cell_type": "code",
   "execution_count": 38,
   "id": "c3e90df3-8a60-40e6-82de-1139328a8726",
   "metadata": {},
   "outputs": [
    {
     "ename": "NameError",
     "evalue": "name 'lri' is not defined",
     "output_type": "error",
     "traceback": [
      "\u001b[0;31m---------------------------------------------------------------------------\u001b[0m",
      "\u001b[0;31mNameError\u001b[0m                                 Traceback (most recent call last)",
      "Cell \u001b[0;32mIn[38], line 1\u001b[0m\n\u001b[0;32m----> 1\u001b[0m plt\u001b[38;5;241m.\u001b[39mplot(lri,lossi)\n",
      "\u001b[0;31mNameError\u001b[0m: name 'lri' is not defined"
     ]
    }
   ],
   "source": [
    "plt.plot(lri,lossi) # good learning rate is at somewhere between 0.0 and 0.2"
   ]
  },
  {
   "cell_type": "code",
   "execution_count": 72,
   "id": "b880e399-4c40-4d73-b0f8-f40e6ec0e133",
   "metadata": {},
   "outputs": [
    {
     "data": {
      "text/plain": [
       "[<matplotlib.lines.Line2D at 0x125be8650>]"
      ]
     },
     "execution_count": 72,
     "metadata": {},
     "output_type": "execute_result"
    },
    {
     "data": {
      "image/png": "[encoded data removed]",
      "text/plain": [
       "<Figure size 640x480 with 1 Axes>"
      ]
     },
     "metadata": {},
     "output_type": "display_data"
    }
   ],
   "source": [
    "plt.plot(lri,lossi) # expoenent and loss"
   ]
  },
  {
   "cell_type": "markdown",
   "id": "075e5f97-b226-4d8f-b90b-40656a4fefeb",
   "metadata": {},
   "source": [
    "### Mini-batch training"
   ]
  },
  {
   "cell_type": "code",
   "execution_count": 73,
   "id": "55bf6091-d621-4cfc-a4e0-d1b9d8e53513",
   "metadata": {},
   "outputs": [
    {
     "data": {
      "text/plain": [
       "tensor([ 52959, 112402, 106000,  40704, 210582, 226638, 197345,   5678,  40863,\n",
       "         73639,  21716, 108822, 217478, 216134,  52632, 103535,  60607,  40490,\n",
       "        194164,  96591,  73987, 215476,  78785,  26145, 219755, 150090,  99120,\n",
       "        140520,    452, 186499, 205408,  92896])"
      ]
     },
     "execution_count": 73,
     "metadata": {},
     "output_type": "execute_result"
    }
   ],
   "source": [
    "torch.randint(0,X.shape[0],(32,))"
   ]
  },
  {
   "cell_type": "code",
   "execution_count": 74,
   "id": "dae2884c-b35b-4325-999c-274882dc6456",
   "metadata": {},
   "outputs": [
    {
     "data": {
      "text/plain": [
       "tensor(2.6516, grad_fn=<NllLossBackward0>)"
      ]
     },
     "execution_count": 74,
     "metadata": {},
     "output_type": "execute_result"
    }
   ],
   "source": [
    "emb = C[X] # 32,3,2\n",
    "h = torch.tanh(emb.view(-1,6) @ W1 + b1)\n",
    "logits = h @ W2 + b2\n",
    "loss = F.cross_entropy(logits,Y)\n",
    "loss"
   ]
  },
  {
   "cell_type": "markdown",
   "id": "4378799d-1433-42be-bd64-d081e2777fbf",
   "metadata": {},
   "source": [
    "### Spliting the dataset"
   ]
  },
  {
   "cell_type": "code",
   "execution_count": 75,
   "id": "fd268959-5ae7-4d89-9b3e-3532820269bd",
   "metadata": {},
   "outputs": [],
   "source": [
    "#training, validation ,testing"
   ]
  },
  {
   "cell_type": "code",
   "execution_count": 93,
   "id": "1eed7712-e8e4-4018-9b5a-9c87cd21c45b",
   "metadata": {},
   "outputs": [
    {
     "name": "stdout",
     "output_type": "stream",
     "text": [
      "torch.Size([182580, 3]) torch.Size([182580])\n",
      "torch.Size([22767, 3]) torch.Size([22767])\n",
      "torch.Size([22799, 3]) torch.Size([22799])\n"
     ]
    }
   ],
   "source": [
    "# build the dataset\n",
    "block_size = 3 # context length: how many characters do we take to predict the next one?\n",
    "\n",
    "def build_dataset(words):  \n",
    "  X, Y = [], []\n",
    "  for w in words:\n",
    "\n",
    "    #print(w)\n",
    "    context = [0] * block_size\n",
    "    for ch in w + '.':\n",
    "      ix = stoi[ch]\n",
    "      X.append(context)\n",
    "      Y.append(ix)\n",
    "      #print(''.join(itos[i] for i in context), '--->', itos[ix])\n",
    "      context = context[1:] + [ix] # crop and append\n",
    "\n",
    "  X = torch.tensor(X)\n",
    "  Y = torch.tensor(Y)\n",
    "  print(X.shape, Y.shape)\n",
    "  return X, Y\n",
    "\n",
    "import random\n",
    "random.seed(42)\n",
    "random.shuffle(words)\n",
    "n1 = int(0.8*len(words))\n",
    "n2 = int(0.9*len(words))\n",
    "\n",
    "Xtr, Ytr = build_dataset(words[:n1])\n",
    "Xdev, Ydev = build_dataset(words[n1:n2])\n",
    "Xte, Yte = build_dataset(words[n2:])"
   ]
  },
  {
   "cell_type": "code",
   "execution_count": 77,
   "id": "afc56935-675d-4f48-bbd3-b4a2ffe04ca9",
   "metadata": {},
   "outputs": [
    {
     "data": {
      "text/plain": [
       "25626"
      ]
     },
     "execution_count": 77,
     "metadata": {},
     "output_type": "execute_result"
    }
   ],
   "source": [
    "n1"
   ]
  },
  {
   "cell_type": "code",
   "execution_count": 79,
   "id": "556b4b3a-695c-499d-b39f-ef9502423173",
   "metadata": {},
   "outputs": [
    {
     "data": {
      "text/plain": [
       "3203"
      ]
     },
     "execution_count": 79,
     "metadata": {},
     "output_type": "execute_result"
    }
   ],
   "source": [
    "n2-n1"
   ]
  },
  {
   "cell_type": "code",
   "execution_count": 80,
   "id": "cc9bb0c3-d3d3-4336-88cd-dc0cc227503c",
   "metadata": {},
   "outputs": [
    {
     "data": {
      "text/plain": [
       "3204"
      ]
     },
     "execution_count": 80,
     "metadata": {},
     "output_type": "execute_result"
    }
   ],
   "source": [
    "len(words) - n2"
   ]
  },
  {
   "cell_type": "code",
   "execution_count": 81,
   "id": "0872519a-504b-4624-b155-bbc2ea8f87da",
   "metadata": {},
   "outputs": [
    {
     "data": {
      "text/plain": [
       "(torch.Size([182625, 3]), torch.Size([182625]))"
      ]
     },
     "execution_count": 81,
     "metadata": {},
     "output_type": "execute_result"
    }
   ],
   "source": [
    "Xtr.shape, Ytr.shape"
   ]
  },
  {
   "cell_type": "code",
   "execution_count": 125,
   "id": "58e9d83d-c5a7-40cb-b6e5-c518f3000d07",
   "metadata": {},
   "outputs": [],
   "source": [
    "g = torch.Generator().manual_seed(2147483647) # for reproducibility\n",
    "C = torch.randn((27, 10), generator=g)\n",
    "W1 = torch.randn((30, 200), generator=g)\n",
    "b1 = torch.randn(200, generator=g)\n",
    "W2 = torch.randn((200, 27), generator=g)\n",
    "b2 = torch.randn(27, generator=g)\n",
    "parameters = [C, W1, b1, W2, b2]"
   ]
  },
  {
   "cell_type": "code",
   "execution_count": 126,
   "id": "29fc4e84-30c7-477b-b491-63a3feef12fa",
   "metadata": {},
   "outputs": [
    {
     "data": {
      "text/plain": [
       "11897"
      ]
     },
     "execution_count": 126,
     "metadata": {},
     "output_type": "execute_result"
    }
   ],
   "source": [
    "sum(p.nelement() for p in parameters)"
   ]
  },
  {
   "cell_type": "code",
   "execution_count": 127,
   "id": "731fa12b-9cd8-4570-b5ee-ba737ee1a189",
   "metadata": {},
   "outputs": [],
   "source": [
    "for p in parameters:\n",
    "    p.requires_grad = True"
   ]
  },
  {
   "cell_type": "code",
   "execution_count": 128,
   "id": "c4dc91ab-9d9f-44f7-b8fe-f3d2f0880e54",
   "metadata": {},
   "outputs": [
    {
     "data": {
      "text/plain": [
       "tensor([0.0010, 0.0010, 0.0010, 0.0010, 0.0010, 0.0010, 0.0010, 0.0010, 0.0011,\n",
       "        0.0011, 0.0011, 0.0011, 0.0011, 0.0011, 0.0011, 0.0011, 0.0011, 0.0011,\n",
       "        0.0011, 0.0011, 0.0011, 0.0012, 0.0012, 0.0012, 0.0012, 0.0012, 0.0012,\n",
       "        0.0012, 0.0012, 0.0012, 0.0012, 0.0012, 0.0012, 0.0013, 0.0013, 0.0013,\n",
       "        0.0013, 0.0013, 0.0013, 0.0013, 0.0013, 0.0013, 0.0013, 0.0013, 0.0014,\n",
       "        0.0014, 0.0014, 0.0014, 0.0014, 0.0014, 0.0014, 0.0014, 0.0014, 0.0014,\n",
       "        0.0015, 0.0015, 0.0015, 0.0015, 0.0015, 0.0015, 0.0015, 0.0015, 0.0015,\n",
       "        0.0015, 0.0016, 0.0016, 0.0016, 0.0016, 0.0016, 0.0016, 0.0016, 0.0016,\n",
       "        0.0016, 0.0017, 0.0017, 0.0017, 0.0017, 0.0017, 0.0017, 0.0017, 0.0017,\n",
       "        0.0018, 0.0018, 0.0018, 0.0018, 0.0018, 0.0018, 0.0018, 0.0018, 0.0019,\n",
       "        0.0019, 0.0019, 0.0019, 0.0019, 0.0019, 0.0019, 0.0019, 0.0020, 0.0020,\n",
       "        0.0020, 0.0020, 0.0020, 0.0020, 0.0020, 0.0021, 0.0021, 0.0021, 0.0021,\n",
       "        0.0021, 0.0021, 0.0021, 0.0022, 0.0022, 0.0022, 0.0022, 0.0022, 0.0022,\n",
       "        0.0022, 0.0023, 0.0023, 0.0023, 0.0023, 0.0023, 0.0023, 0.0024, 0.0024,\n",
       "        0.0024, 0.0024, 0.0024, 0.0024, 0.0025, 0.0025, 0.0025, 0.0025, 0.0025,\n",
       "        0.0025, 0.0026, 0.0026, 0.0026, 0.0026, 0.0026, 0.0027, 0.0027, 0.0027,\n",
       "        0.0027, 0.0027, 0.0027, 0.0028, 0.0028, 0.0028, 0.0028, 0.0028, 0.0029,\n",
       "        0.0029, 0.0029, 0.0029, 0.0029, 0.0030, 0.0030, 0.0030, 0.0030, 0.0030,\n",
       "        0.0031, 0.0031, 0.0031, 0.0031, 0.0032, 0.0032, 0.0032, 0.0032, 0.0032,\n",
       "        0.0033, 0.0033, 0.0033, 0.0033, 0.0034, 0.0034, 0.0034, 0.0034, 0.0034,\n",
       "        0.0035, 0.0035, 0.0035, 0.0035, 0.0036, 0.0036, 0.0036, 0.0036, 0.0037,\n",
       "        0.0037, 0.0037, 0.0037, 0.0038, 0.0038, 0.0038, 0.0039, 0.0039, 0.0039,\n",
       "        0.0039, 0.0040, 0.0040, 0.0040, 0.0040, 0.0041, 0.0041, 0.0041, 0.0042,\n",
       "        0.0042, 0.0042, 0.0042, 0.0043, 0.0043, 0.0043, 0.0044, 0.0044, 0.0044,\n",
       "        0.0045, 0.0045, 0.0045, 0.0045, 0.0046, 0.0046, 0.0046, 0.0047, 0.0047,\n",
       "        0.0047, 0.0048, 0.0048, 0.0048, 0.0049, 0.0049, 0.0049, 0.0050, 0.0050,\n",
       "        0.0050, 0.0051, 0.0051, 0.0051, 0.0052, 0.0052, 0.0053, 0.0053, 0.0053,\n",
       "        0.0054, 0.0054, 0.0054, 0.0055, 0.0055, 0.0056, 0.0056, 0.0056, 0.0057,\n",
       "        0.0057, 0.0058, 0.0058, 0.0058, 0.0059, 0.0059, 0.0060, 0.0060, 0.0060,\n",
       "        0.0061, 0.0061, 0.0062, 0.0062, 0.0062, 0.0063, 0.0063, 0.0064, 0.0064,\n",
       "        0.0065, 0.0065, 0.0066, 0.0066, 0.0067, 0.0067, 0.0067, 0.0068, 0.0068,\n",
       "        0.0069, 0.0069, 0.0070, 0.0070, 0.0071, 0.0071, 0.0072, 0.0072, 0.0073,\n",
       "        0.0073, 0.0074, 0.0074, 0.0075, 0.0075, 0.0076, 0.0076, 0.0077, 0.0077,\n",
       "        0.0078, 0.0079, 0.0079, 0.0080, 0.0080, 0.0081, 0.0081, 0.0082, 0.0082,\n",
       "        0.0083, 0.0084, 0.0084, 0.0085, 0.0085, 0.0086, 0.0086, 0.0087, 0.0088,\n",
       "        0.0088, 0.0089, 0.0090, 0.0090, 0.0091, 0.0091, 0.0092, 0.0093, 0.0093,\n",
       "        0.0094, 0.0095, 0.0095, 0.0096, 0.0097, 0.0097, 0.0098, 0.0099, 0.0099,\n",
       "        0.0100, 0.0101, 0.0101, 0.0102, 0.0103, 0.0104, 0.0104, 0.0105, 0.0106,\n",
       "        0.0106, 0.0107, 0.0108, 0.0109, 0.0109, 0.0110, 0.0111, 0.0112, 0.0112,\n",
       "        0.0113, 0.0114, 0.0115, 0.0116, 0.0116, 0.0117, 0.0118, 0.0119, 0.0120,\n",
       "        0.0121, 0.0121, 0.0122, 0.0123, 0.0124, 0.0125, 0.0126, 0.0127, 0.0127,\n",
       "        0.0128, 0.0129, 0.0130, 0.0131, 0.0132, 0.0133, 0.0134, 0.0135, 0.0136,\n",
       "        0.0137, 0.0137, 0.0138, 0.0139, 0.0140, 0.0141, 0.0142, 0.0143, 0.0144,\n",
       "        0.0145, 0.0146, 0.0147, 0.0148, 0.0149, 0.0150, 0.0151, 0.0152, 0.0154,\n",
       "        0.0155, 0.0156, 0.0157, 0.0158, 0.0159, 0.0160, 0.0161, 0.0162, 0.0163,\n",
       "        0.0165, 0.0166, 0.0167, 0.0168, 0.0169, 0.0170, 0.0171, 0.0173, 0.0174,\n",
       "        0.0175, 0.0176, 0.0178, 0.0179, 0.0180, 0.0181, 0.0182, 0.0184, 0.0185,\n",
       "        0.0186, 0.0188, 0.0189, 0.0190, 0.0192, 0.0193, 0.0194, 0.0196, 0.0197,\n",
       "        0.0198, 0.0200, 0.0201, 0.0202, 0.0204, 0.0205, 0.0207, 0.0208, 0.0210,\n",
       "        0.0211, 0.0212, 0.0214, 0.0215, 0.0217, 0.0218, 0.0220, 0.0221, 0.0223,\n",
       "        0.0225, 0.0226, 0.0228, 0.0229, 0.0231, 0.0232, 0.0234, 0.0236, 0.0237,\n",
       "        0.0239, 0.0241, 0.0242, 0.0244, 0.0246, 0.0247, 0.0249, 0.0251, 0.0253,\n",
       "        0.0254, 0.0256, 0.0258, 0.0260, 0.0261, 0.0263, 0.0265, 0.0267, 0.0269,\n",
       "        0.0271, 0.0273, 0.0274, 0.0276, 0.0278, 0.0280, 0.0282, 0.0284, 0.0286,\n",
       "        0.0288, 0.0290, 0.0292, 0.0294, 0.0296, 0.0298, 0.0300, 0.0302, 0.0304,\n",
       "        0.0307, 0.0309, 0.0311, 0.0313, 0.0315, 0.0317, 0.0320, 0.0322, 0.0324,\n",
       "        0.0326, 0.0328, 0.0331, 0.0333, 0.0335, 0.0338, 0.0340, 0.0342, 0.0345,\n",
       "        0.0347, 0.0350, 0.0352, 0.0354, 0.0357, 0.0359, 0.0362, 0.0364, 0.0367,\n",
       "        0.0369, 0.0372, 0.0375, 0.0377, 0.0380, 0.0382, 0.0385, 0.0388, 0.0390,\n",
       "        0.0393, 0.0396, 0.0399, 0.0401, 0.0404, 0.0407, 0.0410, 0.0413, 0.0416,\n",
       "        0.0418, 0.0421, 0.0424, 0.0427, 0.0430, 0.0433, 0.0436, 0.0439, 0.0442,\n",
       "        0.0445, 0.0448, 0.0451, 0.0455, 0.0458, 0.0461, 0.0464, 0.0467, 0.0471,\n",
       "        0.0474, 0.0477, 0.0480, 0.0484, 0.0487, 0.0491, 0.0494, 0.0497, 0.0501,\n",
       "        0.0504, 0.0508, 0.0511, 0.0515, 0.0518, 0.0522, 0.0526, 0.0529, 0.0533,\n",
       "        0.0537, 0.0540, 0.0544, 0.0548, 0.0552, 0.0556, 0.0559, 0.0563, 0.0567,\n",
       "        0.0571, 0.0575, 0.0579, 0.0583, 0.0587, 0.0591, 0.0595, 0.0599, 0.0604,\n",
       "        0.0608, 0.0612, 0.0616, 0.0621, 0.0625, 0.0629, 0.0634, 0.0638, 0.0642,\n",
       "        0.0647, 0.0651, 0.0656, 0.0660, 0.0665, 0.0670, 0.0674, 0.0679, 0.0684,\n",
       "        0.0688, 0.0693, 0.0698, 0.0703, 0.0708, 0.0713, 0.0718, 0.0723, 0.0728,\n",
       "        0.0733, 0.0738, 0.0743, 0.0748, 0.0753, 0.0758, 0.0764, 0.0769, 0.0774,\n",
       "        0.0780, 0.0785, 0.0790, 0.0796, 0.0802, 0.0807, 0.0813, 0.0818, 0.0824,\n",
       "        0.0830, 0.0835, 0.0841, 0.0847, 0.0853, 0.0859, 0.0865, 0.0871, 0.0877,\n",
       "        0.0883, 0.0889, 0.0895, 0.0901, 0.0908, 0.0914, 0.0920, 0.0927, 0.0933,\n",
       "        0.0940, 0.0946, 0.0953, 0.0959, 0.0966, 0.0973, 0.0979, 0.0986, 0.0993,\n",
       "        0.1000, 0.1007, 0.1014, 0.1021, 0.1028, 0.1035, 0.1042, 0.1050, 0.1057,\n",
       "        0.1064, 0.1072, 0.1079, 0.1087, 0.1094, 0.1102, 0.1109, 0.1117, 0.1125,\n",
       "        0.1133, 0.1140, 0.1148, 0.1156, 0.1164, 0.1172, 0.1181, 0.1189, 0.1197,\n",
       "        0.1205, 0.1214, 0.1222, 0.1231, 0.1239, 0.1248, 0.1256, 0.1265, 0.1274,\n",
       "        0.1283, 0.1292, 0.1301, 0.1310, 0.1319, 0.1328, 0.1337, 0.1346, 0.1356,\n",
       "        0.1365, 0.1374, 0.1384, 0.1394, 0.1403, 0.1413, 0.1423, 0.1433, 0.1443,\n",
       "        0.1453, 0.1463, 0.1473, 0.1483, 0.1493, 0.1504, 0.1514, 0.1525, 0.1535,\n",
       "        0.1546, 0.1557, 0.1567, 0.1578, 0.1589, 0.1600, 0.1611, 0.1623, 0.1634,\n",
       "        0.1645, 0.1657, 0.1668, 0.1680, 0.1691, 0.1703, 0.1715, 0.1727, 0.1739,\n",
       "        0.1751, 0.1763, 0.1775, 0.1788, 0.1800, 0.1812, 0.1825, 0.1838, 0.1850,\n",
       "        0.1863, 0.1876, 0.1889, 0.1902, 0.1916, 0.1929, 0.1942, 0.1956, 0.1969,\n",
       "        0.1983, 0.1997, 0.2010, 0.2024, 0.2038, 0.2053, 0.2067, 0.2081, 0.2096,\n",
       "        0.2110, 0.2125, 0.2140, 0.2154, 0.2169, 0.2184, 0.2200, 0.2215, 0.2230,\n",
       "        0.2246, 0.2261, 0.2277, 0.2293, 0.2309, 0.2325, 0.2341, 0.2357, 0.2373,\n",
       "        0.2390, 0.2406, 0.2423, 0.2440, 0.2457, 0.2474, 0.2491, 0.2508, 0.2526,\n",
       "        0.2543, 0.2561, 0.2579, 0.2597, 0.2615, 0.2633, 0.2651, 0.2669, 0.2688,\n",
       "        0.2707, 0.2725, 0.2744, 0.2763, 0.2783, 0.2802, 0.2821, 0.2841, 0.2861,\n",
       "        0.2880, 0.2900, 0.2921, 0.2941, 0.2961, 0.2982, 0.3002, 0.3023, 0.3044,\n",
       "        0.3065, 0.3087, 0.3108, 0.3130, 0.3151, 0.3173, 0.3195, 0.3217, 0.3240,\n",
       "        0.3262, 0.3285, 0.3308, 0.3331, 0.3354, 0.3377, 0.3400, 0.3424, 0.3448,\n",
       "        0.3472, 0.3496, 0.3520, 0.3544, 0.3569, 0.3594, 0.3619, 0.3644, 0.3669,\n",
       "        0.3695, 0.3720, 0.3746, 0.3772, 0.3798, 0.3825, 0.3851, 0.3878, 0.3905,\n",
       "        0.3932, 0.3959, 0.3987, 0.4014, 0.4042, 0.4070, 0.4098, 0.4127, 0.4155,\n",
       "        0.4184, 0.4213, 0.4243, 0.4272, 0.4302, 0.4331, 0.4362, 0.4392, 0.4422,\n",
       "        0.4453, 0.4484, 0.4515, 0.4546, 0.4578, 0.4610, 0.4642, 0.4674, 0.4706,\n",
       "        0.4739, 0.4772, 0.4805, 0.4838, 0.4872, 0.4906, 0.4940, 0.4974, 0.5008,\n",
       "        0.5043, 0.5078, 0.5113, 0.5149, 0.5185, 0.5221, 0.5257, 0.5293, 0.5330,\n",
       "        0.5367, 0.5404, 0.5442, 0.5479, 0.5517, 0.5556, 0.5594, 0.5633, 0.5672,\n",
       "        0.5712, 0.5751, 0.5791, 0.5831, 0.5872, 0.5913, 0.5954, 0.5995, 0.6036,\n",
       "        0.6078, 0.6120, 0.6163, 0.6206, 0.6249, 0.6292, 0.6336, 0.6380, 0.6424,\n",
       "        0.6469, 0.6513, 0.6559, 0.6604, 0.6650, 0.6696, 0.6743, 0.6789, 0.6837,\n",
       "        0.6884, 0.6932, 0.6980, 0.7028, 0.7077, 0.7126, 0.7176, 0.7225, 0.7275,\n",
       "        0.7326, 0.7377, 0.7428, 0.7480, 0.7531, 0.7584, 0.7636, 0.7689, 0.7743,\n",
       "        0.7796, 0.7850, 0.7905, 0.7960, 0.8015, 0.8071, 0.8127, 0.8183, 0.8240,\n",
       "        0.8297, 0.8355, 0.8412, 0.8471, 0.8530, 0.8589, 0.8648, 0.8708, 0.8769,\n",
       "        0.8830, 0.8891, 0.8953, 0.9015, 0.9077, 0.9140, 0.9204, 0.9268, 0.9332,\n",
       "        0.9397, 0.9462, 0.9528, 0.9594, 0.9660, 0.9727, 0.9795, 0.9863, 0.9931,\n",
       "        1.0000])"
      ]
     },
     "execution_count": 128,
     "metadata": {},
     "output_type": "execute_result"
    }
   ],
   "source": [
    "lre = torch.linspace(-3, 0, 1000)\n",
    "lrs = 10**lre\n",
    "lrs"
   ]
  },
  {
   "cell_type": "code",
   "execution_count": 129,
   "id": "98494a8b-4220-412b-b3f3-5af69d59c724",
   "metadata": {},
   "outputs": [],
   "source": [
    "lri = []\n",
    "lossi =  []\n",
    "stepi = []"
   ]
  },
  {
   "cell_type": "code",
   "execution_count": 138,
   "id": "7120a458-8a3c-42be-8ffe-e9437c29088a",
   "metadata": {},
   "outputs": [
    {
     "name": "stdout",
     "output_type": "stream",
     "text": [
      "2.2533602714538574\n"
     ]
    }
   ],
   "source": [
    "for i in range(200000):\n",
    "  \n",
    "  # minibatch construct\n",
    "  ix = torch.randint(0, Xtr.shape[0], (32,))\n",
    "  \n",
    "  # forward pass\n",
    "  emb = C[Xtr[ix]] # (32, 3, 10)\n",
    "  h = torch.tanh(emb.view(-1, 30) @ W1 + b1) # (32, 200)\n",
    "  logits = h @ W2 + b2 # (32, 27)\n",
    "  loss = F.cross_entropy(logits, Ytr[ix])\n",
    "  #print(loss.item())\n",
    "  \n",
    "  # backward pass\n",
    "  for p in parameters:\n",
    "    p.grad = None\n",
    "  loss.backward()\n",
    "  \n",
    "  # update\n",
    "  #lr = lrs[i]\n",
    "  lr = 0.1 if i < 100000 else 0.01\n",
    "  for p in parameters:\n",
    "    p.data += -lr * p.grad\n",
    "\n",
    "  # track stats\n",
    "  #lri.append(lre[i])\n",
    "  stepi.append(i)\n",
    "  lossi.append(loss.log10().item())\n",
    "\n",
    "print(loss.item())"
   ]
  },
  {
   "cell_type": "code",
   "execution_count": 139,
   "id": "8d01c9c4-cf12-4b75-b6d3-b4463930edfb",
   "metadata": {},
   "outputs": [
    {
     "data": {
      "text/plain": [
       "[<matplotlib.lines.Line2D at 0x128803190>]"
      ]
     },
     "execution_count": 139,
     "metadata": {},
     "output_type": "execute_result"
    },
    {
     "data": {
      "image/png": "[encoded data removed]",
      "text/plain": [
       "<Figure size 640x480 with 1 Axes>"
      ]
     },
     "metadata": {},
     "output_type": "display_data"
    }
   ],
   "source": [
    "plt.plot(stepi,lossi)"
   ]
  },
  {
   "cell_type": "code",
   "execution_count": 140,
   "id": "6ce76b85-d147-4205-b2e5-17b4700ed4a2",
   "metadata": {},
   "outputs": [
    {
     "data": {
      "text/plain": [
       "tensor(2.1389, grad_fn=<NllLossBackward0>)"
      ]
     },
     "execution_count": 140,
     "metadata": {},
     "output_type": "execute_result"
    }
   ],
   "source": [
    "emb = C[Xdev] # (32, 3, 2)\n",
    "h = torch.tanh(emb.view(-1, 30) @ W1 + b1) # (32, 100)\n",
    "logits = h @ W2 + b2 # (32, 27)\n",
    "loss = F.cross_entropy(logits, Ydev)\n",
    "loss"
   ]
  },
  {
   "cell_type": "code",
   "execution_count": 141,
   "id": "743d2dd1-fbb4-4ce6-90bf-a939c60a984b",
   "metadata": {},
   "outputs": [
    {
     "data": {
      "image/png": "[encoded data removed]",
      "text/plain": [
       "<Figure size 800x800 with 1 Axes>"
      ]
     },
     "metadata": {},
     "output_type": "display_data"
    }
   ],
   "source": [
    "# visualize dimensions 0 and 1 of the embedding matrix C for all characters\n",
    "plt.figure(figsize=(8,8))\n",
    "plt.scatter(C[:,0].data, C[:,1].data, s=200)\n",
    "for i in range(C.shape[0]):\n",
    "    plt.text(C[i,0].item(), C[i,1].item(), itos[i], ha=\"center\", va=\"center\", color='white')\n",
    "plt.grid('minor')"
   ]
  },
  {
   "cell_type": "code",
   "execution_count": 142,
   "id": "f846dfd6-dcd9-4533-a3e1-caf4b009a1aa",
   "metadata": {},
   "outputs": [
    {
     "name": "stdout",
     "output_type": "stream",
     "text": [
      "mona.\n",
      "mayan.\n",
      "see.\n",
      "mad.\n",
      "ryah.\n",
      "rethruthadra.\n",
      "gradelyn.\n",
      "eli.\n",
      "jemi.\n",
      "jen.\n",
      "eden.\n",
      "camanarleigh.\n",
      "malara.\n",
      "noshibergian.\n",
      "jest.\n",
      "jairenel.\n",
      "panteron.\n",
      "ube.\n",
      "ged.\n",
      "ryyah.\n"
     ]
    }
   ],
   "source": [
    "# sample from the model\n",
    "g = torch.Generator().manual_seed(2147483647 + 10)\n",
    "\n",
    "for _ in range(20):\n",
    "    \n",
    "    out = []\n",
    "    context = [0] * block_size # initialize with all ...\n",
    "    while True:\n",
    "      emb = C[torch.tensor([context])] # (1,block_size,d)\n",
    "      h = torch.tanh(emb.view(1, -1) @ W1 + b1)\n",
    "      logits = h @ W2 + b2\n",
    "      probs = F.softmax(logits, dim=1)\n",
    "      ix = torch.multinomial(probs, num_samples=1, generator=g).item()\n",
    "      context = context[1:] + [ix]\n",
    "      out.append(ix)\n",
    "      if ix == 0:\n",
    "        break\n",
    "    \n",
    "    print(''.join(itos[i] for i in out))"
   ]
  },
  {
   "cell_type": "markdown",
   "id": "32838754-d36b-4a6f-8763-9e74ee6d4305",
   "metadata": {},
   "source": []
  },
  {
   "cell_type": "code",
   "execution_count": null,
   "id": "fdd08029-e79d-4e9d-8189-7e2e4f60e47f",
   "metadata": {},
   "outputs": [],
   "source": []
  },
  {
   "cell_type": "code",
   "execution_count": null,
   "id": "2b8137a7-146a-4e29-a37c-4c1fcc2e59f1",
   "metadata": {},
   "outputs": [],
   "source": []
  },
  {
   "cell_type": "code",
   "execution_count": null,
   "id": "942bfb2e-1db7-4381-97d6-5a688e6eda17",
   "metadata": {},
   "outputs": [],
   "source": []
  }
 ],
 "metadata": {
  "kernelspec": {
   "display_name": "Python 3 (ipykernel)",
   "language": "python",
   "name": "python3"
  },
  "language_info": {
   "codemirror_mode": {
    "name": "ipython",
    "version": 3
   },
   "file_extension": ".py",
   "mimetype": "text/x-python",
   "name": "python",
   "nbconvert_exporter": "python",
   "pygments_lexer": "ipython3",
   "version": "3.11.7"
  }
 },
 "nbformat": 4,
 "nbformat_minor": 5
}
