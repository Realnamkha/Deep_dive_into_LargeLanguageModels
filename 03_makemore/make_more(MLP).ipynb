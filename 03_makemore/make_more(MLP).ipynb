{
 "cells": [
  {
   "cell_type": "markdown",
   "id": "06df74a3-366e-4f0d-b8ac-ca2695348189",
   "metadata": {},
   "source": [
    "Why Use Embeddings Instead of One-Hot Encoding?\n",
    "Dimensionality Reduction\n",
    "\n",
    "One-hot encoding creates a sparse vector with a size equal to the vocabulary (V).\n",
    "\n",
    "If V = 65 (like in your character-level model), then each one-hot vector is of size 65, mostly filled with zeros.\n",
    "\n",
    "Instead, an embedding layer maps each character to a smaller, dense vector (e.g., size n_embd = 32), reducing computational cost.\n",
    "\n",
    "Capturing Contextual Meaning \n",
    "\n",
    "In one-hot encoding, there's no notion of similarity between characters/words.\n",
    "\n",
    "In an embedding space, similar characters/words (e.g., \"c\" and \"k\" or \"dog\" and \"puppy\") get closer vector representations.\n",
    "\n",
    "Scalability for N-grams 🚀\n",
    "\n",
    "Previously, your model only considered one previous character (ix in xenc).\n",
    "\n",
    "Extending to n-grams means storing a V^n probability table, which blows up in size.\n",
    "\n",
    "Instead, embeddings allow us to compress the information into a fixed-size vector, avoiding this explosion."
   ]
  },
  {
   "cell_type": "markdown",
   "id": "02b61c0e-b213-4f8e-8dc8-3c0ff50a4c01",
   "metadata": {},
   "source": [
    "- Every index plucks out a row from indexing table(16999,30).So it reduces to 30 dimension\n",
    "- Suppose we have 3 index so it makes 90 neurons in total.\n",
    "- Now we have hidden layer(size hyperparamater)\n",
    "- Supoose we have 100 neurons in hidden layer,all of them will be fully connected to 90 char or neurons.\n",
    "- The output layer has 17000 neurons.\n",
    "- Softmax is applied and normalized.\n",
    "- we have label and that index is used to pluck out probability and minimize loss."
   ]
  },
  {
   "cell_type": "code",
   "execution_count": 2,
   "id": "0a923666-7eb1-4aa0-8b44-638707c163dc",
   "metadata": {},
   "outputs": [],
   "source": [
    "import torch\n",
    "import torch.nn.functional as F\n",
    "import matplotlib.pyplot as plt\n",
    "%matplotlib inline"
   ]
  },
  {
   "cell_type": "code",
   "execution_count": 3,
   "id": "ec0a88f3-3287-44cc-93cf-13c8fe1d7891",
   "metadata": {},
   "outputs": [
    {
     "data": {
      "text/plain": [
       "['emma', 'olivia', 'ava', 'isabella', 'sophia', 'charlotte', 'mia', 'amelia']"
      ]
     },
     "execution_count": 3,
     "metadata": {},
     "output_type": "execute_result"
    }
   ],
   "source": [
    "words = open('../names.txt', 'r').read().splitlines()\n",
    "words[:8]"
   ]
  },
  {
   "cell_type": "code",
   "execution_count": 5,
   "id": "706a2b99-29b8-453d-8b49-889d4b8ff5a6",
   "metadata": {},
   "outputs": [
    {
     "data": {
      "text/plain": [
       "32033"
      ]
     },
     "execution_count": 5,
     "metadata": {},
     "output_type": "execute_result"
    }
   ],
   "source": [
    "len(words)"
   ]
  },
  {
   "cell_type": "code",
   "execution_count": 4,
   "id": "f59e5f43-2847-4aef-a6f4-b03f4ee4ea11",
   "metadata": {},
   "outputs": [
    {
     "name": "stdout",
     "output_type": "stream",
     "text": [
      "{1: 'a', 2: 'b', 3: 'c', 4: 'd', 5: 'e', 6: 'f', 7: 'g', 8: 'h', 9: 'i', 10: 'j', 11: 'k', 12: 'l', 13: 'm', 14: 'n', 15: 'o', 16: 'p', 17: 'q', 18: 'r', 19: 's', 20: 't', 21: 'u', 22: 'v', 23: 'w', 24: 'x', 25: 'y', 26: 'z', 0: '.'}\n"
     ]
    }
   ],
   "source": [
    "chars = sorted(list(set(\"\".join(words))))\n",
    "stoi = {s:i+1 for i,s in enumerate(chars)}\n",
    "stoi['.'] = 0\n",
    "itos = {i:s for s,i in stoi.items()}\n",
    "print(itos)"
   ]
  },
  {
   "cell_type": "code",
   "execution_count": 6,
   "id": "6d570f3d-a911-4f89-a1c8-0e4035bfa175",
   "metadata": {},
   "outputs": [
    {
     "name": "stdout",
     "output_type": "stream",
     "text": [
      "emma\n",
      "... ---> e\n",
      "..e ---> m\n",
      ".em ---> m\n",
      "emm ---> a\n",
      "mma ---> .\n",
      "olivia\n",
      "... ---> o\n",
      "..o ---> l\n",
      ".ol ---> i\n",
      "oli ---> v\n",
      "liv ---> i\n",
      "ivi ---> a\n",
      "via ---> .\n",
      "ava\n",
      "... ---> a\n",
      "..a ---> v\n",
      ".av ---> a\n",
      "ava ---> .\n",
      "isabella\n",
      "... ---> i\n",
      "..i ---> s\n",
      ".is ---> a\n",
      "isa ---> b\n",
      "sab ---> e\n",
      "abe ---> l\n",
      "bel ---> l\n",
      "ell ---> a\n",
      "lla ---> .\n",
      "sophia\n",
      "... ---> s\n",
      "..s ---> o\n",
      ".so ---> p\n",
      "sop ---> h\n",
      "oph ---> i\n",
      "phi ---> a\n",
      "hia ---> .\n"
     ]
    }
   ],
   "source": [
    "# build the dataset\n",
    "\n",
    "block_size = 3 # context length: how many characters do we take to predict the next one?\n",
    "X, Y = [], []\n",
    "for w in words[:5]:\n",
    "  print(w)\n",
    "  context = [0] * block_size\n",
    "  for ch in w + '.':\n",
    "    ix = stoi[ch]\n",
    "    X.append(context)\n",
    "    Y.append(ix)\n",
    "    print(''.join(itos[i] for i in context), '--->', itos[ix])\n",
    "    context = context[1:] + [ix] # crop and append\n",
    "  \n",
    "X = torch.tensor(X)\n",
    "Y = torch.tensor(Y)"
   ]
  },
  {
   "cell_type": "code",
   "execution_count": 7,
   "id": "13ecdb6c-7c3e-4a30-bf79-b939fd4819f4",
   "metadata": {},
   "outputs": [
    {
     "data": {
      "text/plain": [
       "(torch.Size([32, 3]), torch.int64, torch.Size([32]), torch.int64)"
      ]
     },
     "execution_count": 7,
     "metadata": {},
     "output_type": "execute_result"
    }
   ],
   "source": [
    "X.shape, X.dtype, Y.shape, Y.dtype # each input to neural network is 3"
   ]
  },
  {
   "cell_type": "code",
   "execution_count": 8,
   "id": "3d747a97-f5c8-4030-a6a8-301d20303596",
   "metadata": {},
   "outputs": [
    {
     "data": {
      "text/plain": [
       "tensor([[ 0,  0,  0],\n",
       "        [ 0,  0,  5],\n",
       "        [ 0,  5, 13],\n",
       "        [ 5, 13, 13],\n",
       "        [13, 13,  1],\n",
       "        [ 0,  0,  0],\n",
       "        [ 0,  0, 15],\n",
       "        [ 0, 15, 12],\n",
       "        [15, 12,  9],\n",
       "        [12,  9, 22],\n",
       "        [ 9, 22,  9],\n",
       "        [22,  9,  1],\n",
       "        [ 0,  0,  0],\n",
       "        [ 0,  0,  1],\n",
       "        [ 0,  1, 22],\n",
       "        [ 1, 22,  1],\n",
       "        [ 0,  0,  0],\n",
       "        [ 0,  0,  9],\n",
       "        [ 0,  9, 19],\n",
       "        [ 9, 19,  1],\n",
       "        [19,  1,  2],\n",
       "        [ 1,  2,  5],\n",
       "        [ 2,  5, 12],\n",
       "        [ 5, 12, 12],\n",
       "        [12, 12,  1],\n",
       "        [ 0,  0,  0],\n",
       "        [ 0,  0, 19],\n",
       "        [ 0, 19, 15],\n",
       "        [19, 15, 16],\n",
       "        [15, 16,  8],\n",
       "        [16,  8,  9],\n",
       "        [ 8,  9,  1]])"
      ]
     },
     "execution_count": 8,
     "metadata": {},
     "output_type": "execute_result"
    }
   ],
   "source": [
    "X"
   ]
  },
  {
   "cell_type": "markdown",
   "id": "3a0f8e7a-0cce-4fc6-9ff8-1384847ada8c",
   "metadata": {},
   "source": [
    "### Implementing embedding look up table"
   ]
  },
  {
   "cell_type": "code",
   "execution_count": 24,
   "id": "d12fabf7-ad31-415a-9dde-0a514909da3a",
   "metadata": {},
   "outputs": [],
   "source": [
    "# We try to embbded the 27 characters to a two dimensional space"
   ]
  },
  {
   "cell_type": "code",
   "execution_count": 9,
   "id": "1c0cb94f-ea94-4529-a938-381807c4682b",
   "metadata": {},
   "outputs": [
    {
     "data": {
      "text/plain": [
       "torch.Size([27, 2])"
      ]
     },
     "execution_count": 9,
     "metadata": {},
     "output_type": "execute_result"
    }
   ],
   "source": [
    "C = torch.randn((27,2))\n",
    "C.shape"
   ]
  },
  {
   "cell_type": "code",
   "execution_count": 10,
   "id": "c58f90a0-9f78-492d-b212-a2a47b3125de",
   "metadata": {},
   "outputs": [
    {
     "data": {
      "text/plain": [
       "tensor([ 0.2070, -0.9735])"
      ]
     },
     "execution_count": 10,
     "metadata": {},
     "output_type": "execute_result"
    }
   ],
   "source": [
    "C[5]"
   ]
  },
  {
   "cell_type": "code",
   "execution_count": 11,
   "id": "da2311cd-7088-47d5-a3c4-b260c18b52af",
   "metadata": {},
   "outputs": [
    {
     "data": {
      "text/plain": [
       "tensor([ 0.2070, -0.9735])"
      ]
     },
     "execution_count": 11,
     "metadata": {},
     "output_type": "execute_result"
    }
   ],
   "source": [
    "F.one_hot(torch.tensor(5),num_classes=27).float() @ C # it just masks the other field except one i.e it plucks row index 4"
   ]
  },
  {
   "cell_type": "code",
   "execution_count": 12,
   "id": "37470357-f3a6-4507-a20c-d16caec5ca9c",
   "metadata": {},
   "outputs": [
    {
     "data": {
      "text/plain": [
       "tensor([[ 0.2070, -0.9735],\n",
       "        [-1.9146,  2.3186],\n",
       "        [ 0.2048, -0.8892],\n",
       "        [ 0.2048, -0.8892],\n",
       "        [ 0.2048, -0.8892],\n",
       "        [ 0.2048, -0.8892]])"
      ]
     },
     "execution_count": 12,
     "metadata": {},
     "output_type": "execute_result"
    }
   ],
   "source": [
    "C[torch.tensor([5,6,7,7,7,7])] # indexing with one-dimensional tensor of integer"
   ]
  },
  {
   "cell_type": "code",
   "execution_count": 13,
   "id": "bb85e4e4-6d1b-4368-894b-864f0904e63f",
   "metadata": {},
   "outputs": [
    {
     "data": {
      "text/plain": [
       "tensor([[[-0.7972,  0.5910],\n",
       "         [-0.7972,  0.5910],\n",
       "         [-0.7972,  0.5910]],\n",
       "\n",
       "        [[-0.7972,  0.5910],\n",
       "         [-0.7972,  0.5910],\n",
       "         [ 0.2070, -0.9735]],\n",
       "\n",
       "        [[-0.7972,  0.5910],\n",
       "         [ 0.2070, -0.9735],\n",
       "         [ 0.4231, -1.0231]],\n",
       "\n",
       "        [[ 0.2070, -0.9735],\n",
       "         [ 0.4231, -1.0231],\n",
       "         [ 0.4231, -1.0231]],\n",
       "\n",
       "        [[ 0.4231, -1.0231],\n",
       "         [ 0.4231, -1.0231],\n",
       "         [ 0.6163,  0.7024]],\n",
       "\n",
       "        [[-0.7972,  0.5910],\n",
       "         [-0.7972,  0.5910],\n",
       "         [-0.7972,  0.5910]],\n",
       "\n",
       "        [[-0.7972,  0.5910],\n",
       "         [-0.7972,  0.5910],\n",
       "         [ 0.7051, -0.6191]],\n",
       "\n",
       "        [[-0.7972,  0.5910],\n",
       "         [ 0.7051, -0.6191],\n",
       "         [-0.2893, -0.1341]],\n",
       "\n",
       "        [[ 0.7051, -0.6191],\n",
       "         [-0.2893, -0.1341],\n",
       "         [-0.6416, -0.0134]],\n",
       "\n",
       "        [[-0.2893, -0.1341],\n",
       "         [-0.6416, -0.0134],\n",
       "         [ 0.8333,  0.4347]],\n",
       "\n",
       "        [[-0.6416, -0.0134],\n",
       "         [ 0.8333,  0.4347],\n",
       "         [-0.6416, -0.0134]],\n",
       "\n",
       "        [[ 0.8333,  0.4347],\n",
       "         [-0.6416, -0.0134],\n",
       "         [ 0.6163,  0.7024]],\n",
       "\n",
       "        [[-0.7972,  0.5910],\n",
       "         [-0.7972,  0.5910],\n",
       "         [-0.7972,  0.5910]],\n",
       "\n",
       "        [[-0.7972,  0.5910],\n",
       "         [-0.7972,  0.5910],\n",
       "         [ 0.6163,  0.7024]],\n",
       "\n",
       "        [[-0.7972,  0.5910],\n",
       "         [ 0.6163,  0.7024],\n",
       "         [ 0.8333,  0.4347]],\n",
       "\n",
       "        [[ 0.6163,  0.7024],\n",
       "         [ 0.8333,  0.4347],\n",
       "         [ 0.6163,  0.7024]],\n",
       "\n",
       "        [[-0.7972,  0.5910],\n",
       "         [-0.7972,  0.5910],\n",
       "         [-0.7972,  0.5910]],\n",
       "\n",
       "        [[-0.7972,  0.5910],\n",
       "         [-0.7972,  0.5910],\n",
       "         [-0.6416, -0.0134]],\n",
       "\n",
       "        [[-0.7972,  0.5910],\n",
       "         [-0.6416, -0.0134],\n",
       "         [-0.1106, -0.9172]],\n",
       "\n",
       "        [[-0.6416, -0.0134],\n",
       "         [-0.1106, -0.9172],\n",
       "         [ 0.6163,  0.7024]],\n",
       "\n",
       "        [[-0.1106, -0.9172],\n",
       "         [ 0.6163,  0.7024],\n",
       "         [ 2.4498, -1.1849]],\n",
       "\n",
       "        [[ 0.6163,  0.7024],\n",
       "         [ 2.4498, -1.1849],\n",
       "         [ 0.2070, -0.9735]],\n",
       "\n",
       "        [[ 2.4498, -1.1849],\n",
       "         [ 0.2070, -0.9735],\n",
       "         [-0.2893, -0.1341]],\n",
       "\n",
       "        [[ 0.2070, -0.9735],\n",
       "         [-0.2893, -0.1341],\n",
       "         [-0.2893, -0.1341]],\n",
       "\n",
       "        [[-0.2893, -0.1341],\n",
       "         [-0.2893, -0.1341],\n",
       "         [ 0.6163,  0.7024]],\n",
       "\n",
       "        [[-0.7972,  0.5910],\n",
       "         [-0.7972,  0.5910],\n",
       "         [-0.7972,  0.5910]],\n",
       "\n",
       "        [[-0.7972,  0.5910],\n",
       "         [-0.7972,  0.5910],\n",
       "         [-0.1106, -0.9172]],\n",
       "\n",
       "        [[-0.7972,  0.5910],\n",
       "         [-0.1106, -0.9172],\n",
       "         [ 0.7051, -0.6191]],\n",
       "\n",
       "        [[-0.1106, -0.9172],\n",
       "         [ 0.7051, -0.6191],\n",
       "         [-1.2685, -0.9515]],\n",
       "\n",
       "        [[ 0.7051, -0.6191],\n",
       "         [-1.2685, -0.9515],\n",
       "         [-1.2874,  0.7803]],\n",
       "\n",
       "        [[-1.2685, -0.9515],\n",
       "         [-1.2874,  0.7803],\n",
       "         [-0.6416, -0.0134]],\n",
       "\n",
       "        [[-1.2874,  0.7803],\n",
       "         [-0.6416, -0.0134],\n",
       "         [ 0.6163,  0.7024]]])"
      ]
     },
     "execution_count": 13,
     "metadata": {},
     "output_type": "execute_result"
    }
   ],
   "source": [
    "C[X]# for every X, we have retrived the embedding. #32,3,2"
   ]
  },
  {
   "cell_type": "code",
   "execution_count": 14,
   "id": "56cb3e0e-dca2-495c-801e-9f27a03d7065",
   "metadata": {},
   "outputs": [
    {
     "data": {
      "text/plain": [
       "tensor(5)"
      ]
     },
     "execution_count": 14,
     "metadata": {},
     "output_type": "execute_result"
    }
   ],
   "source": [
    "X[1,2]"
   ]
  },
  {
   "cell_type": "code",
   "execution_count": 17,
   "id": "267dabad-bfab-43ac-b641-2204e03e31f4",
   "metadata": {},
   "outputs": [
    {
     "data": {
      "text/plain": [
       "tensor([ 0.2070, -0.9735])"
      ]
     },
     "execution_count": 17,
     "metadata": {},
     "output_type": "execute_result"
    }
   ],
   "source": [
    "C[X][1,2] #== C[5] C[X][1,2] means from C[x] select 1 and then go inside 1 to select 2"
   ]
  },
  {
   "cell_type": "code",
   "execution_count": null,
   "id": "5a4ae018-03d3-4623-b472-5e533f7cd585",
   "metadata": {},
   "outputs": [],
   "source": []
  },
  {
   "cell_type": "code",
   "execution_count": 13,
   "id": "3fbd4369-a7af-4c2f-8879-357377c07bbd",
   "metadata": {},
   "outputs": [
    {
     "data": {
      "text/plain": [
       "tensor([0.2450, 1.8401])"
      ]
     },
     "execution_count": 13,
     "metadata": {},
     "output_type": "execute_result"
    }
   ],
   "source": [
    "C[5]"
   ]
  },
  {
   "cell_type": "code",
   "execution_count": 18,
   "id": "cc3c95c7-2c04-4d1a-9114-47e54b033b75",
   "metadata": {},
   "outputs": [
    {
     "data": {
      "text/plain": [
       "torch.Size([32, 3, 2])"
      ]
     },
     "execution_count": 18,
     "metadata": {},
     "output_type": "execute_result"
    }
   ],
   "source": [
    "emb = C[X]\n",
    "emb.shape"
   ]
  },
  {
   "cell_type": "markdown",
   "id": "3c8d14dd-c928-493a-9928-dd836a94a337",
   "metadata": {},
   "source": [
    "### Implementing the hidden layer"
   ]
  },
  {
   "cell_type": "code",
   "execution_count": 19,
   "id": "acde2cd7-c131-46ec-9d18-89f8a9f475ea",
   "metadata": {},
   "outputs": [],
   "source": [
    "w1 = torch.randn((6,100)) # no of inputs = 3*2 as we have 2-d embedding and we have 3 of them(100 nuerons initliaze)\n",
    "b1 = torch.randn(100)"
   ]
  },
  {
   "cell_type": "code",
   "execution_count": 20,
   "id": "a604e196-181c-4957-aa4e-0b6375b63046",
   "metadata": {},
   "outputs": [
    {
     "data": {
      "text/plain": [
       "torch.Size([6, 100])"
      ]
     },
     "execution_count": 20,
     "metadata": {},
     "output_type": "execute_result"
    }
   ],
   "source": [
    "w1.shape"
   ]
  },
  {
   "cell_type": "code",
   "execution_count": 53,
   "id": "3d4fb3d0-a639-4711-b316-1760d5f24df9",
   "metadata": {},
   "outputs": [],
   "source": [
    "#emb @ w1 + b1 # (32,3,2) @ (6,100)"
   ]
  },
  {
   "cell_type": "code",
   "execution_count": null,
   "id": "c8bb09f3-40d9-4306-a765-b66a4cb2d463",
   "metadata": {},
   "outputs": [],
   "source": []
  },
  {
   "cell_type": "markdown",
   "id": "633aa1fe-4119-409c-8bcf-326aa195a411",
   "metadata": {},
   "source": [
    "- emb[:,0,:] : It selects along all the samples, 0 selects only the first embeddings and : selects across all the first embedding"
   ]
  },
  {
   "cell_type": "code",
   "execution_count": 36,
   "id": "1f7ac0cb-ee09-481b-b74f-3de3a15b1838",
   "metadata": {},
   "outputs": [
    {
     "data": {
      "text/plain": [
       "torch.Size([32, 6])"
      ]
     },
     "execution_count": 36,
     "metadata": {},
     "output_type": "execute_result"
    }
   ],
   "source": [
    "torch.cat([emb[:,0,:],emb[:,1,:],emb[:,2,:]],1).shape # not generalized"
   ]
  },
  {
   "cell_type": "code",
   "execution_count": 37,
   "id": "d03c6c00-a7d2-4b89-9f93-8ca8faa48144",
   "metadata": {},
   "outputs": [
    {
     "data": {
      "text/plain": [
       "torch.Size([32, 6])"
      ]
     },
     "execution_count": 37,
     "metadata": {},
     "output_type": "execute_result"
    }
   ],
   "source": [
    "torch.cat(torch.unbind(emb,1),1).shape"
   ]
  },
  {
   "cell_type": "code",
   "execution_count": 38,
   "id": "ed55d94b-832b-4ea8-a2b9-684298c68cf9",
   "metadata": {},
   "outputs": [
    {
     "data": {
      "text/plain": [
       "torch.Size([18])"
      ]
     },
     "execution_count": 38,
     "metadata": {},
     "output_type": "execute_result"
    }
   ],
   "source": [
    "a = torch.arange(18)\n",
    "a.shape"
   ]
  },
  {
   "cell_type": "code",
   "execution_count": 39,
   "id": "6b3c635c-f1bd-44a8-b26f-74095f28e456",
   "metadata": {},
   "outputs": [
    {
     "data": {
      "text/plain": [
       "tensor([[ 0,  1],\n",
       "        [ 2,  3],\n",
       "        [ 4,  5],\n",
       "        [ 6,  7],\n",
       "        [ 8,  9],\n",
       "        [10, 11],\n",
       "        [12, 13],\n",
       "        [14, 15],\n",
       "        [16, 17]])"
      ]
     },
     "execution_count": 39,
     "metadata": {},
     "output_type": "execute_result"
    }
   ],
   "source": [
    "a.view(9,2) # as long as total number of elements multiplies to be same,it works"
   ]
  },
  {
   "cell_type": "code",
   "execution_count": 40,
   "id": "1edd2994-bf8a-4744-bc6e-d89f1b84a22f",
   "metadata": {},
   "outputs": [
    {
     "data": {
      "text/plain": [
       "<bound method Tensor.storage of tensor([ 0,  1,  2,  3,  4,  5,  6,  7,  8,  9, 10, 11, 12, 13, 14, 15, 16, 17])>"
      ]
     },
     "execution_count": 40,
     "metadata": {},
     "output_type": "execute_result"
    }
   ],
   "source": [
    "a.storage # tensor is always represented as 1d in memory"
   ]
  },
  {
   "cell_type": "code",
   "execution_count": 41,
   "id": "9f7b6b57-fcc3-42fe-8dcb-9ad9b77a56ac",
   "metadata": {},
   "outputs": [
    {
     "data": {
      "text/plain": [
       "torch.Size([32, 3, 2])"
      ]
     },
     "execution_count": 41,
     "metadata": {},
     "output_type": "execute_result"
    }
   ],
   "source": [
    "emb.shape"
   ]
  },
  {
   "cell_type": "code",
   "execution_count": 42,
   "id": "245ebbdf-8e6e-44a4-a71f-9b96a310f8e5",
   "metadata": {},
   "outputs": [
    {
     "data": {
      "text/plain": [
       "tensor([[ 0.9720, -2.4192,  0.9720, -2.4192,  0.9720, -2.4192],\n",
       "        [ 0.9720, -2.4192,  0.9720, -2.4192, -0.4730,  0.9017],\n",
       "        [ 0.9720, -2.4192, -0.4730,  0.9017,  1.5411, -1.0274],\n",
       "        [-0.4730,  0.9017,  1.5411, -1.0274,  1.5411, -1.0274],\n",
       "        [ 1.5411, -1.0274,  1.5411, -1.0274,  0.1552,  0.1962],\n",
       "        [ 0.9720, -2.4192,  0.9720, -2.4192,  0.9720, -2.4192],\n",
       "        [ 0.9720, -2.4192,  0.9720, -2.4192, -1.7019,  0.1018],\n",
       "        [ 0.9720, -2.4192, -1.7019,  0.1018,  0.7051, -1.1771],\n",
       "        [-1.7019,  0.1018,  0.7051, -1.1771,  1.4660,  0.9443],\n",
       "        [ 0.7051, -1.1771,  1.4660,  0.9443, -0.8060,  2.0918],\n",
       "        [ 1.4660,  0.9443, -0.8060,  2.0918,  1.4660,  0.9443],\n",
       "        [-0.8060,  2.0918,  1.4660,  0.9443,  0.1552,  0.1962],\n",
       "        [ 0.9720, -2.4192,  0.9720, -2.4192,  0.9720, -2.4192],\n",
       "        [ 0.9720, -2.4192,  0.9720, -2.4192,  0.1552,  0.1962],\n",
       "        [ 0.9720, -2.4192,  0.1552,  0.1962, -0.8060,  2.0918],\n",
       "        [ 0.1552,  0.1962, -0.8060,  2.0918,  0.1552,  0.1962],\n",
       "        [ 0.9720, -2.4192,  0.9720, -2.4192,  0.9720, -2.4192],\n",
       "        [ 0.9720, -2.4192,  0.9720, -2.4192,  1.4660,  0.9443],\n",
       "        [ 0.9720, -2.4192,  1.4660,  0.9443,  0.5987,  0.6880],\n",
       "        [ 1.4660,  0.9443,  0.5987,  0.6880,  0.1552,  0.1962],\n",
       "        [ 0.5987,  0.6880,  0.1552,  0.1962,  0.2100,  1.5289],\n",
       "        [ 0.1552,  0.1962,  0.2100,  1.5289, -0.4730,  0.9017],\n",
       "        [ 0.2100,  1.5289, -0.4730,  0.9017,  0.7051, -1.1771],\n",
       "        [-0.4730,  0.9017,  0.7051, -1.1771,  0.7051, -1.1771],\n",
       "        [ 0.7051, -1.1771,  0.7051, -1.1771,  0.1552,  0.1962],\n",
       "        [ 0.9720, -2.4192,  0.9720, -2.4192,  0.9720, -2.4192],\n",
       "        [ 0.9720, -2.4192,  0.9720, -2.4192,  0.5987,  0.6880],\n",
       "        [ 0.9720, -2.4192,  0.5987,  0.6880, -1.7019,  0.1018],\n",
       "        [ 0.5987,  0.6880, -1.7019,  0.1018,  1.7076,  0.3849],\n",
       "        [-1.7019,  0.1018,  1.7076,  0.3849,  0.9033,  0.0156],\n",
       "        [ 1.7076,  0.3849,  0.9033,  0.0156,  1.4660,  0.9443],\n",
       "        [ 0.9033,  0.0156,  1.4660,  0.9443,  0.1552,  0.1962]])"
      ]
     },
     "execution_count": 42,
     "metadata": {},
     "output_type": "execute_result"
    }
   ],
   "source": [
    "emb.view(32,6)"
   ]
  },
  {
   "cell_type": "code",
   "execution_count": 18,
   "id": "d2a55ce5-caca-4851-8140-33408342b342",
   "metadata": {},
   "outputs": [],
   "source": [
    "h = torch.tanh(emb.view(-1,6) @ w1 + b1)"
   ]
  },
  {
   "cell_type": "code",
   "execution_count": 19,
   "id": "d6f200b8-cd31-4563-9a8a-a16f9dc057df",
   "metadata": {},
   "outputs": [
    {
     "data": {
      "text/plain": [
       "torch.Size([32, 100])"
      ]
     },
     "execution_count": 19,
     "metadata": {},
     "output_type": "execute_result"
    }
   ],
   "source": [
    "h.shape"
   ]
  },
  {
   "cell_type": "code",
   "execution_count": 20,
   "id": "db4e5bb2-d08d-4123-855c-8fc90cfa4f89",
   "metadata": {},
   "outputs": [
    {
     "data": {
      "text/plain": [
       "tensor([[ 0.3633,  0.9869,  0.9765,  ...,  0.9934,  0.2724, -0.9967],\n",
       "        [-0.9999, -0.9974, -0.1710,  ..., -0.1321, -1.0000, -0.6736],\n",
       "        [-0.9629,  0.3806,  0.9756,  ...,  0.4819, -0.9999,  0.1445],\n",
       "        ...,\n",
       "        [-0.0482,  0.9998,  0.0526,  ...,  0.9968,  0.9556, -0.8126],\n",
       "        [ 0.8410,  0.9967,  0.7761,  ...,  0.9810,  0.2760, -0.9992],\n",
       "        [ 0.9607,  1.0000, -0.9912,  ...,  0.9968,  0.9995, -0.9131]])"
      ]
     },
     "execution_count": 20,
     "metadata": {},
     "output_type": "execute_result"
    }
   ],
   "source": [
    "h"
   ]
  },
  {
   "cell_type": "markdown",
   "id": "af4d9b4d-8734-42a6-adc6-a8a30ad3cbd1",
   "metadata": {},
   "source": [
    "### Implementing the output layer"
   ]
  },
  {
   "cell_type": "code",
   "execution_count": 21,
   "id": "a4c473e7-6e8f-4d63-b1ac-ba9e491c91ed",
   "metadata": {},
   "outputs": [],
   "source": [
    "w2 = torch.randn((100,27))\n",
    "b2 = torch.randn(27)"
   ]
  },
  {
   "cell_type": "markdown",
   "id": "9ee684fd-a586-4c56-8de3-9c8de975596f",
   "metadata": {},
   "source": [
    "### Implementing negative log likelihood"
   ]
  },
  {
   "cell_type": "code",
   "execution_count": 22,
   "id": "cd2e3540-fe1f-43f5-8a64-10cf907cf1a2",
   "metadata": {},
   "outputs": [
    {
     "data": {
      "text/plain": [
       "torch.Size([32, 27])"
      ]
     },
     "execution_count": 22,
     "metadata": {},
     "output_type": "execute_result"
    }
   ],
   "source": [
    "logits = h @ w2\n",
    "logits.shape"
   ]
  },
  {
   "cell_type": "code",
   "execution_count": 23,
   "id": "aa5faf80-b224-42ef-bb76-b90a3fb42380",
   "metadata": {},
   "outputs": [
    {
     "data": {
      "text/plain": [
       "tensor([[8.5003e+00, 4.2460e-05, 4.5346e+01, 1.7411e-01, 1.4469e-02, 3.9263e+00,\n",
       "         1.1381e+03, 6.2377e+01, 3.8046e+02, 1.3515e-02, 2.2389e+01, 1.9416e+00,\n",
       "         9.1846e+00, 7.9362e+04, 7.5775e-07, 1.2052e-01, 5.3146e+06, 5.2059e-04,\n",
       "         9.4944e-02, 4.1522e-04, 1.1130e-03, 2.2712e+11, 9.5394e+02, 2.2430e+00,\n",
       "         1.0976e+01, 3.3483e+02, 8.3025e+00],\n",
       "        [7.5114e-01, 4.5170e-06, 1.1552e-03, 1.7538e-04, 6.9631e-02, 1.8197e-05,\n",
       "         5.8335e+02, 2.7378e-03, 6.6902e-05, 1.8588e+00, 4.4330e+00, 1.6286e+00,\n",
       "         4.9638e+04, 4.8459e-02, 6.6009e+01, 2.4174e+02, 1.0551e+00, 3.6142e-06,\n",
       "         3.4856e-01, 1.4178e+04, 1.2779e-01, 3.7745e+02, 1.0067e+00, 3.7585e-01,\n",
       "         3.0620e+01, 1.9692e-06, 1.9486e+04],\n",
       "        [2.1142e+00, 6.4771e+01, 7.8754e-04, 9.4667e+00, 7.2150e-02, 7.0342e+02,\n",
       "         1.1869e+02, 5.7971e+02, 1.1824e+02, 1.8712e-06, 3.3474e+01, 1.2660e+04,\n",
       "         1.4595e+02, 2.4209e-01, 2.1647e+01, 3.9395e+02, 1.4310e-03, 2.3586e+00,\n",
       "         2.5567e-05, 2.3783e+00, 7.4813e+00, 5.6929e+02, 1.0260e-07, 1.1910e-01,\n",
       "         1.3270e+02, 2.5798e-06, 1.6330e+04],\n",
       "        [4.1375e-07, 2.6998e+07, 2.6062e+09, 3.5265e+00, 1.7366e+01, 6.3934e+04,\n",
       "         2.2339e-04, 6.8584e-04, 6.3425e+00, 1.5620e+01, 1.1094e-05, 1.0138e-01,\n",
       "         5.4980e+01, 6.5127e-02, 3.4090e+00, 2.5079e+01, 1.1040e-01, 1.1937e+02,\n",
       "         2.9919e+02, 1.9682e+00, 1.2587e+05, 1.3353e-03, 9.6171e-08, 6.2060e-05,\n",
       "         1.5875e-02, 1.7887e-01, 2.0132e+04],\n",
       "        [1.8775e+06, 3.2218e+07, 1.8857e+05, 9.1851e+01, 3.3869e-05, 4.6980e+00,\n",
       "         1.2200e+01, 3.7234e+04, 4.5361e+06, 3.4293e+01, 6.4967e+01, 1.6414e-02,\n",
       "         4.5879e-02, 6.9486e+01, 5.9584e+00, 7.5750e-07, 4.4450e+00, 8.2489e-01,\n",
       "         1.0079e-01, 5.2779e-05, 1.8096e+02, 2.6269e+05, 9.4724e+00, 1.2519e-09,\n",
       "         4.0018e+04, 1.6883e+05, 5.4450e-03],\n",
       "        [8.5003e+00, 4.2460e-05, 4.5346e+01, 1.7411e-01, 1.4469e-02, 3.9263e+00,\n",
       "         1.1381e+03, 6.2377e+01, 3.8046e+02, 1.3515e-02, 2.2389e+01, 1.9416e+00,\n",
       "         9.1846e+00, 7.9362e+04, 7.5775e-07, 1.2052e-01, 5.3146e+06, 5.2059e-04,\n",
       "         9.4944e-02, 4.1522e-04, 1.1130e-03, 2.2712e+11, 9.5394e+02, 2.2430e+00,\n",
       "         1.0976e+01, 3.3483e+02, 8.3025e+00],\n",
       "        [4.5850e+03, 2.1046e-01, 1.1162e+01, 4.8142e-01, 1.5589e-04, 6.5191e+00,\n",
       "         3.1816e+02, 2.8847e+02, 8.0282e+01, 3.8011e-01, 3.7798e+04, 2.2297e-01,\n",
       "         6.1248e-03, 2.6262e+04, 1.2037e-01, 2.7617e-01, 4.5141e+04, 7.2190e-05,\n",
       "         1.5355e-02, 2.6903e-02, 4.2185e-03, 3.1639e+10, 1.0110e+04, 1.5842e-04,\n",
       "         1.4975e+02, 7.6076e+00, 8.0133e-01],\n",
       "        [8.9495e+00, 1.4111e+00, 3.8332e-02, 1.1507e-01, 7.8631e-01, 2.3183e-02,\n",
       "         7.0897e+01, 1.7104e+02, 2.5717e+02, 8.3506e-04, 7.1175e-08, 1.9064e-02,\n",
       "         1.2862e+03, 2.2821e+03, 7.5849e-10, 1.4194e-03, 1.1560e+05, 5.0506e-05,\n",
       "         8.0331e-02, 3.6610e-03, 1.7496e+00, 3.5920e+05, 1.9207e+00, 3.9644e+00,\n",
       "         1.7150e+05, 1.2372e+04, 1.5694e+01],\n",
       "        [2.0754e+05, 1.5036e-06, 3.5949e+01, 6.2022e-02, 3.0491e+01, 1.2536e+03,\n",
       "         1.0777e+04, 8.8182e-02, 1.6134e+04, 2.1554e-04, 5.1295e+02, 2.0786e+02,\n",
       "         4.5827e-01, 2.7957e+03, 3.8974e-04, 3.9147e-02, 3.0621e+05, 1.3830e+06,\n",
       "         6.4084e-01, 9.2452e-06, 3.4030e-01, 8.4473e+09, 5.3043e+05, 4.8728e-01,\n",
       "         1.4275e-01, 1.9405e+04, 1.0225e-02],\n",
       "        [1.2372e+01, 1.0774e-04, 2.6559e-02, 6.8608e-05, 1.0143e-04, 3.0208e+00,\n",
       "         1.6755e+02, 8.2801e-01, 6.9239e-05, 4.3448e-02, 2.1373e-04, 1.8596e-02,\n",
       "         5.7538e-02, 2.1750e+09, 2.1177e-04, 4.5309e+01, 3.6319e+04, 4.8578e-10,\n",
       "         6.1049e-03, 5.3628e+04, 3.1604e-08, 1.0535e+04, 4.6469e+00, 2.2751e+02,\n",
       "         2.4760e+02, 1.3856e-06, 3.9400e+00],\n",
       "        [3.9999e+05, 1.0558e+02, 4.2730e-03, 2.7746e+00, 1.6139e-01, 1.9911e+00,\n",
       "         4.1327e+02, 5.9412e+06, 2.7022e+04, 1.5803e-02, 2.9394e+00, 5.0865e-03,\n",
       "         4.7417e+01, 1.4669e+04, 1.7662e-04, 7.8901e-04, 2.3315e+02, 4.4453e-03,\n",
       "         2.2901e-03, 8.8979e-07, 5.7958e+00, 1.7256e+07, 8.8317e-01, 1.6887e-03,\n",
       "         2.0452e+04, 5.0974e+02, 1.0509e-01],\n",
       "        [1.1166e+04, 4.6956e+07, 1.4849e+07, 2.2653e+00, 3.6323e-03, 2.0024e+02,\n",
       "         6.4812e-04, 7.4995e+01, 3.3471e+03, 4.1117e+03, 3.6304e+02, 6.0426e-04,\n",
       "         5.2047e-04, 2.1907e+04, 5.4130e+00, 3.3496e-02, 1.0787e+02, 4.8757e+01,\n",
       "         6.3727e-01, 3.8437e-03, 1.1896e+00, 1.4556e+06, 6.8174e+04, 4.8586e-08,\n",
       "         2.2216e+02, 1.4228e+03, 3.4620e-02],\n",
       "        [8.5003e+00, 4.2460e-05, 4.5346e+01, 1.7411e-01, 1.4469e-02, 3.9263e+00,\n",
       "         1.1381e+03, 6.2377e+01, 3.8046e+02, 1.3515e-02, 2.2389e+01, 1.9416e+00,\n",
       "         9.1846e+00, 7.9362e+04, 7.5775e-07, 1.2052e-01, 5.3146e+06, 5.2059e-04,\n",
       "         9.4944e-02, 4.1522e-04, 1.1130e-03, 2.2712e+11, 9.5394e+02, 2.2430e+00,\n",
       "         1.0976e+01, 3.3483e+02, 8.3025e+00],\n",
       "        [2.6032e+06, 2.1839e+02, 1.1393e+03, 9.5749e+00, 3.3490e-04, 1.9754e+01,\n",
       "         1.0980e+02, 1.4552e+04, 1.9535e+02, 1.3347e+01, 1.4386e+05, 4.7976e-02,\n",
       "         1.2763e-05, 1.8553e+04, 2.0186e+01, 6.0605e-03, 2.6345e+03, 6.6199e-04,\n",
       "         1.3371e-02, 4.2933e-03, 7.4776e-03, 7.6342e+09, 1.7789e+05, 7.0435e-06,\n",
       "         2.9322e+02, 2.1146e+03, 5.0726e-02],\n",
       "        [2.4240e+06, 2.8258e+02, 1.0625e+02, 6.0461e-02, 2.5702e-06, 2.4408e-03,\n",
       "         1.3122e+00, 2.6793e+00, 2.1383e-04, 5.0034e+01, 2.0620e-05, 3.2309e-06,\n",
       "         3.0561e+04, 1.4751e+05, 1.0612e-03, 1.8339e+00, 1.8788e+03, 1.4905e-07,\n",
       "         1.0259e-02, 2.0628e+02, 1.0958e-02, 4.5200e+03, 4.0143e+01, 6.8979e-06,\n",
       "         5.4446e+06, 5.7669e-01, 2.5212e+00],\n",
       "        [8.7547e+04, 8.9005e+03, 4.9372e+01, 1.9696e+02, 3.2210e-03, 3.9867e-01,\n",
       "         1.0608e+03, 2.6457e+05, 7.7843e+05, 1.3334e+00, 2.2836e-01, 6.2215e-04,\n",
       "         9.7505e+01, 1.3130e-02, 1.0385e+01, 5.4338e-06, 6.8028e+00, 1.5897e+01,\n",
       "         3.5223e+00, 3.5866e-05, 1.5951e+03, 5.1768e+06, 1.4849e+01, 1.7597e-09,\n",
       "         1.4330e+03, 3.1473e+05, 7.3869e-02],\n",
       "        [8.5003e+00, 4.2460e-05, 4.5346e+01, 1.7411e-01, 1.4469e-02, 3.9263e+00,\n",
       "         1.1381e+03, 6.2377e+01, 3.8046e+02, 1.3515e-02, 2.2389e+01, 1.9416e+00,\n",
       "         9.1846e+00, 7.9362e+04, 7.5775e-07, 1.2052e-01, 5.3146e+06, 5.2059e-04,\n",
       "         9.4944e-02, 4.1522e-04, 1.1130e-03, 2.2712e+11, 9.5394e+02, 2.2430e+00,\n",
       "         1.0976e+01, 3.3483e+02, 8.3025e+00],\n",
       "        [4.2249e+03, 9.8058e-03, 1.1293e+02, 3.7651e-01, 2.0933e-02, 4.8095e+01,\n",
       "         7.2758e+01, 4.8519e+04, 2.5079e+03, 7.0020e-01, 4.3915e+03, 9.3050e-01,\n",
       "         7.2623e-03, 3.2184e+06, 1.5862e-05, 3.7572e-04, 1.3116e+05, 1.2533e-01,\n",
       "         6.7198e-02, 5.0969e-07, 4.2343e-02, 2.2846e+10, 4.4716e+04, 9.6793e-03,\n",
       "         4.1012e+01, 2.1683e+04, 1.0292e-02],\n",
       "        [5.5858e+06, 1.6597e+05, 5.7048e+05, 3.4598e-01, 2.5465e-06, 2.0544e+01,\n",
       "         1.1124e+00, 8.5574e+03, 9.6850e-01, 9.5160e+02, 1.8684e+03, 4.8383e-03,\n",
       "         1.7595e-05, 2.2874e+03, 1.2749e+02, 7.4140e-02, 7.0370e+03, 5.6544e-03,\n",
       "         7.0705e-05, 3.3672e-02, 1.0238e-03, 1.4385e+08, 2.9290e+06, 1.1740e-06,\n",
       "         5.5045e+03, 9.4804e+02, 4.0082e-01],\n",
       "        [9.5818e+10, 2.8331e+06, 1.3042e+00, 3.8385e+02, 2.1261e-09, 3.0314e-04,\n",
       "         1.4316e+07, 3.2557e+06, 9.8732e+02, 2.2923e+01, 1.8544e-01, 1.7641e-03,\n",
       "         6.9026e-01, 7.8070e+03, 8.8862e-03, 3.4215e-07, 2.2671e+03, 1.0439e-05,\n",
       "         8.1069e-03, 6.8397e-03, 1.3323e-03, 6.6039e+02, 1.9520e+02, 2.2622e-08,\n",
       "         2.4057e+09, 1.9168e+02, 1.8687e-02],\n",
       "        [4.1834e+04, 4.0151e+01, 9.5566e+02, 8.4551e-01, 2.9172e+01, 8.0828e-06,\n",
       "         2.9301e+04, 5.2381e+00, 4.0971e+05, 3.1832e+00, 5.0511e-06, 3.5240e-05,\n",
       "         4.3196e+03, 1.8498e-04, 3.2064e-02, 2.9355e-06, 8.9665e+02, 2.3189e+01,\n",
       "         5.0439e-01, 4.0036e-01, 1.1434e+04, 7.8373e+06, 8.2069e+02, 8.9681e-08,\n",
       "         4.6823e+04, 1.2251e+07, 7.2881e-03],\n",
       "        [1.2176e+02, 1.5045e-04, 9.7870e-03, 4.4090e+02, 2.3863e+01, 1.7647e-08,\n",
       "         2.2010e+04, 4.5551e-01, 3.0674e+01, 3.5685e+01, 3.5692e-02, 7.0388e-04,\n",
       "         4.8263e+01, 2.3167e-09, 6.0290e+00, 2.0006e-01, 4.0677e+01, 5.4148e+02,\n",
       "         4.1161e-03, 9.1702e-02, 2.6017e-02, 7.1355e+03, 2.9033e+00, 8.9180e-03,\n",
       "         1.0671e+00, 1.1584e+02, 2.9123e+05],\n",
       "        [7.2918e-04, 7.0754e-03, 1.5461e-02, 4.2692e+00, 2.0623e+01, 8.5868e-01,\n",
       "         6.9954e+00, 2.9174e-01, 1.2949e+04, 3.6039e-06, 2.8376e-05, 2.2352e+04,\n",
       "         3.0693e+04, 2.2075e+01, 6.3942e-07, 4.5889e-03, 4.8787e-02, 4.3381e+00,\n",
       "         2.4222e-03, 2.8088e-02, 9.3788e+09, 7.3006e+01, 9.2734e-06, 1.9402e+01,\n",
       "         2.5382e-01, 1.0537e+00, 4.3245e+02],\n",
       "        [3.9221e-07, 8.8571e-04, 4.1855e+06, 8.5983e-03, 5.4358e+06, 8.4079e+03,\n",
       "         4.9683e-03, 1.2059e-06, 3.4368e+01, 5.2016e-04, 2.3736e-05, 4.6613e+03,\n",
       "         4.2356e+02, 1.1328e+03, 5.6327e-06, 9.0358e-02, 1.0980e+03, 6.0793e+05,\n",
       "         7.2184e+00, 1.7175e-01, 8.5848e+01, 1.6096e+05, 1.4292e-04, 2.0226e+02,\n",
       "         8.2990e-05, 3.4915e+00, 1.6237e+06],\n",
       "        [1.4084e+03, 1.7852e-03, 3.4906e-01, 2.7233e+00, 1.3671e+00, 1.2132e+04,\n",
       "         9.0045e+00, 3.3763e-01, 4.3832e-01, 9.1498e-02, 8.8153e+04, 2.1140e+01,\n",
       "         1.2440e-05, 3.5968e+07, 4.8617e+00, 7.0417e-02, 3.4945e+04, 5.5330e-03,\n",
       "         3.8474e-05, 6.3403e+01, 5.3691e-02, 6.2020e+07, 1.2094e+03, 6.7216e-05,\n",
       "         8.5584e-01, 1.0202e-04, 8.2337e-01],\n",
       "        [8.5003e+00, 4.2460e-05, 4.5346e+01, 1.7411e-01, 1.4469e-02, 3.9263e+00,\n",
       "         1.1381e+03, 6.2377e+01, 3.8046e+02, 1.3515e-02, 2.2389e+01, 1.9416e+00,\n",
       "         9.1846e+00, 7.9362e+04, 7.5775e-07, 1.2052e-01, 5.3146e+06, 5.2059e-04,\n",
       "         9.4944e-02, 4.1522e-04, 1.1130e-03, 2.2712e+11, 9.5394e+02, 2.2430e+00,\n",
       "         1.0976e+01, 3.3483e+02, 8.3025e+00],\n",
       "        [5.0293e+05, 6.3599e+02, 1.8388e+04, 3.2625e+02, 1.4208e-04, 7.8446e+00,\n",
       "         6.0310e+01, 2.8687e+02, 8.6746e+01, 2.5469e+01, 2.3352e+04, 4.6411e-02,\n",
       "         1.6964e-06, 1.8452e+02, 4.8103e+03, 9.5887e-03, 9.3500e+03, 1.8413e-04,\n",
       "         2.6710e-03, 6.1675e+00, 1.2771e-04, 1.5064e+09, 1.6457e+04, 4.2206e-07,\n",
       "         2.0465e+02, 2.4702e+02, 5.1678e-02],\n",
       "        [3.8912e+07, 1.8917e+08, 2.9036e+01, 2.8597e+01, 1.5991e-08, 4.0000e-03,\n",
       "         2.6473e+01, 1.5256e+04, 1.5291e+00, 3.1893e+02, 2.7162e-04, 8.4441e-03,\n",
       "         8.4073e+01, 4.8025e+06, 8.9011e-03, 6.6498e-05, 1.4306e+02, 6.1919e-09,\n",
       "         2.3536e-01, 2.5914e+01, 7.0388e-02, 4.6196e+01, 2.9541e+00, 6.2723e-08,\n",
       "         2.1292e+10, 1.3215e-01, 2.4567e-01],\n",
       "        [1.1662e-01, 6.0099e-02, 1.3812e+02, 3.8095e+01, 3.1593e+01, 4.8535e-06,\n",
       "         3.6029e+05, 2.7537e-01, 8.6885e+06, 1.9124e-03, 1.6441e-06, 2.7241e-03,\n",
       "         1.2463e+05, 3.5535e-06, 5.2530e-06, 8.4968e-04, 2.1738e+03, 1.2338e+04,\n",
       "         3.8859e+00, 3.6089e-03, 2.6125e+04, 3.8378e+07, 4.7081e+05, 6.6683e-02,\n",
       "         7.3143e+04, 1.6139e+06, 6.2358e-01],\n",
       "        [6.6279e+03, 2.7689e+00, 7.4945e+02, 1.2128e-01, 1.7230e-01, 7.5666e-01,\n",
       "         2.9836e+03, 5.2792e+00, 1.6652e+07, 4.3220e-03, 1.2861e+03, 3.6302e-01,\n",
       "         6.2211e-03, 2.1518e-01, 6.1398e+04, 6.8274e-04, 1.2771e+00, 1.2737e+02,\n",
       "         4.6049e+00, 6.4013e-03, 1.8244e+01, 5.1237e+06, 9.8876e+02, 6.1564e-09,\n",
       "         1.3013e+01, 1.9751e+03, 3.2494e-03],\n",
       "        [1.1562e+02, 2.5972e+07, 8.3826e+00, 1.9508e-02, 1.0342e-05, 1.9661e+01,\n",
       "         6.6927e-02, 1.2394e+06, 2.6090e+02, 5.7440e+01, 9.9316e-03, 3.0149e+00,\n",
       "         3.8550e+00, 5.1439e+06, 1.9213e-04, 6.4689e-04, 8.1443e-01, 6.5104e-08,\n",
       "         1.0441e+00, 2.6993e-05, 1.1597e+01, 4.7444e+01, 3.7356e+00, 9.1194e-07,\n",
       "         2.7436e+06, 4.3073e+00, 1.2600e+00],\n",
       "        [4.7750e+08, 1.9291e+04, 1.4536e+04, 1.7262e+01, 3.7127e-03, 3.8017e-02,\n",
       "         9.0545e+02, 4.1007e-01, 1.1473e+06, 4.1577e+00, 1.8720e+02, 1.4916e-02,\n",
       "         1.9247e+04, 1.1656e-01, 4.3525e-02, 1.7627e-05, 3.8203e+03, 3.5277e+02,\n",
       "         9.9192e-01, 3.0347e-07, 8.1355e+02, 8.8396e+08, 8.7291e+05, 1.6839e-08,\n",
       "         4.6266e+00, 1.0624e+10, 6.8560e-04]])"
      ]
     },
     "execution_count": 23,
     "metadata": {},
     "output_type": "execute_result"
    }
   ],
   "source": [
    "counts = logits.exp()\n",
    "counts"
   ]
  },
  {
   "cell_type": "code",
   "execution_count": 24,
   "id": "5e54427a-2cea-4541-9514-810394cc8599",
   "metadata": {},
   "outputs": [],
   "source": [
    "prob = counts/counts.sum(1,keepdim=True)"
   ]
  },
  {
   "cell_type": "code",
   "execution_count": 25,
   "id": "0537c7db-25fe-492a-94e4-4bfb65865d22",
   "metadata": {},
   "outputs": [
    {
     "data": {
      "text/plain": [
       "torch.Size([32, 27])"
      ]
     },
     "execution_count": 25,
     "metadata": {},
     "output_type": "execute_result"
    }
   ],
   "source": [
    "prob.shape"
   ]
  },
  {
   "cell_type": "code",
   "execution_count": 26,
   "id": "45e7fb55-cf38-4dce-b8f3-fc0d81864761",
   "metadata": {},
   "outputs": [
    {
     "data": {
      "text/plain": [
       "tensor(1.)"
      ]
     },
     "execution_count": 26,
     "metadata": {},
     "output_type": "execute_result"
    }
   ],
   "source": [
    "prob[0].sum()"
   ]
  },
  {
   "cell_type": "code",
   "execution_count": 53,
   "id": "c793be86-b08a-4c2b-a310-1b2ca301d12b",
   "metadata": {},
   "outputs": [
    {
     "data": {
      "text/plain": [
       "tensor(15.4706)"
      ]
     },
     "execution_count": 53,
     "metadata": {},
     "output_type": "execute_result"
    }
   ],
   "source": [
    "loss = - prob[torch.arange(32),Y].log().mean()\n",
    "loss"
   ]
  },
  {
   "cell_type": "markdown",
   "id": "6be6e90f-d8c3-4392-8bd6-a9c86444e7ac",
   "metadata": {},
   "source": [
    "prob[torch.arange(32), Y]: This indexing operation does the following:\n",
    "\n",
    "For the first row (sample 0), it selects the element from the 6th column (index 5) because Y[0] = 5. This is the predicted probability for the correct character (index 5) for the first sample.\n",
    "For the second row (sample 1), it selects the element from the 13th column (index 12) because Y[1] = 12. This is the predicted probability for the correct character (index 12) for the second sample.\n",
    "This continues for all 32 samples, selecting the predicted probability corresponding to the correct character for each sample."
   ]
  },
  {
   "cell_type": "code",
   "execution_count": 54,
   "id": "8655e9ec-062b-4bfe-b639-ad6fd76a5ed6",
   "metadata": {},
   "outputs": [
    {
     "data": {
      "text/plain": [
       "tensor([ 0,  1,  2,  3,  4,  5,  6,  7,  8,  9, 10, 11, 12, 13, 14, 15, 16, 17,\n",
       "        18, 19, 20, 21, 22, 23, 24, 25, 26, 27, 28, 29, 30, 31])"
      ]
     },
     "execution_count": 54,
     "metadata": {},
     "output_type": "execute_result"
    }
   ],
   "source": [
    "torch.arange(32)"
   ]
  },
  {
   "cell_type": "code",
   "execution_count": 55,
   "id": "edbb7c99-06f2-4984-beaf-b5eadfe7d961",
   "metadata": {},
   "outputs": [
    {
     "data": {
      "text/plain": [
       "tensor([ 5, 13, 13,  1,  0, 15, 12,  9, 22,  9,  1,  0,  1, 22,  1,  0,  9, 19,\n",
       "         1,  2,  5, 12, 12,  1,  0, 19, 15, 16,  8,  9,  1,  0])"
      ]
     },
     "execution_count": 55,
     "metadata": {},
     "output_type": "execute_result"
    }
   ],
   "source": [
    "Y"
   ]
  },
  {
   "cell_type": "markdown",
   "id": "97c3c04b-82c6-433b-b5b0-b31640faf1d8",
   "metadata": {},
   "source": [
    "### SUMMARY"
   ]
  },
  {
   "cell_type": "code",
   "execution_count": 27,
   "id": "421fca1f-d56b-4f3e-9ec4-75fd03897e33",
   "metadata": {},
   "outputs": [
    {
     "data": {
      "text/plain": [
       "(torch.Size([32, 3]), torch.Size([32]))"
      ]
     },
     "execution_count": 27,
     "metadata": {},
     "output_type": "execute_result"
    }
   ],
   "source": [
    "X.shape, Y.shape"
   ]
  },
  {
   "cell_type": "code",
   "execution_count": null,
   "id": "83ec8ecc-24a5-45ca-91d4-f4c4e8c0b811",
   "metadata": {},
   "outputs": [],
   "source": []
  },
  {
   "cell_type": "code",
   "execution_count": 28,
   "id": "926555c8-8610-43e8-a979-41f8c17a5777",
   "metadata": {},
   "outputs": [],
   "source": [
    "g = torch.Generator().manual_seed(2147483647) # for reproducibility\n",
    "C = torch.randn((27, 2), generator=g)\n",
    "W1 = torch.randn((6, 100), generator=g)\n",
    "b1 = torch.randn(100, generator=g)\n",
    "W2 = torch.randn((100, 27), generator=g)\n",
    "b2 = torch.randn(27, generator=g)\n",
    "parameters = [C, W1, b1, W2, b2]"
   ]
  },
  {
   "cell_type": "code",
   "execution_count": 29,
   "id": "4ab2aa45-b5a2-4910-b100-9477423044b6",
   "metadata": {},
   "outputs": [
    {
     "data": {
      "text/plain": [
       "3481"
      ]
     },
     "execution_count": 29,
     "metadata": {},
     "output_type": "execute_result"
    }
   ],
   "source": [
    "sum(p.nelement() for p in parameters) # number of parameters in total"
   ]
  },
  {
   "cell_type": "code",
   "execution_count": 30,
   "id": "47685101-b964-4c32-9b0f-f7cd00135171",
   "metadata": {},
   "outputs": [],
   "source": [
    "for p in parameters:\n",
    "    p.requires_grad = True"
   ]
  },
  {
   "cell_type": "code",
   "execution_count": 31,
   "id": "bb0e9ed6-f3ad-48b6-8362-2e2a1f3d4268",
   "metadata": {},
   "outputs": [
    {
     "name": "stdout",
     "output_type": "stream",
     "text": [
      "17.76971435546875\n",
      "13.656403541564941\n",
      "11.298772811889648\n",
      "9.452458381652832\n",
      "7.984263896942139\n",
      "6.891322135925293\n",
      "6.100015640258789\n",
      "5.452036380767822\n",
      "4.8981523513793945\n",
      "4.4146647453308105\n"
     ]
    }
   ],
   "source": [
    "for _ in range(10):\n",
    "    #forward pass\n",
    "    emb = C[X] # 32,3,2\n",
    "    h = torch.tanh(emb.view(-1,6) @ W1 + b1)\n",
    "    logits = h @ W2 + b2\n",
    "    loss = F.cross_entropy(logits,Y)\n",
    "    print(loss.item())\n",
    "    for p in parameters:\n",
    "        p.grad = None\n",
    "    loss.backward()\n",
    "    \n",
    "    #update \n",
    "    for p in parameters:\n",
    "        p.data -= 0.1 * p.grad\n",
    "    "
   ]
  },
  {
   "cell_type": "code",
   "execution_count": 62,
   "id": "65a4cd96-c717-44e8-ab78-7c185dfebd4e",
   "metadata": {},
   "outputs": [
    {
     "data": {
      "text/plain": [
       "torch.return_types.max(\n",
       "values=tensor([10.7865, 12.2558, 17.3982, 13.2739, 10.6965, 10.7865,  9.5145,  9.0495,\n",
       "        14.0280, 11.8378,  9.9038, 15.4187, 10.7865, 10.1476,  9.8372, 11.7660,\n",
       "        10.7865, 10.0029,  9.2940,  9.6824, 11.4241,  9.4885,  8.1164,  9.5176,\n",
       "        12.6383, 10.7865, 10.6021, 11.0822,  6.3617, 17.3157, 12.4544,  8.1669],\n",
       "       grad_fn=<MaxBackward0>),\n",
       "indices=tensor([ 1,  8,  9,  0, 15,  1, 17,  2,  9,  9,  2,  0,  1, 15,  1,  0,  1, 19,\n",
       "         1,  1, 16, 10, 26,  9,  0,  1, 15, 16,  3,  9, 19,  1]))"
      ]
     },
     "execution_count": 62,
     "metadata": {},
     "output_type": "execute_result"
    }
   ],
   "source": [
    "logits.max(1)\n"
   ]
  },
  {
   "cell_type": "code",
   "execution_count": 63,
   "id": "aee74114-2def-4ed5-adeb-2955e699cf92",
   "metadata": {},
   "outputs": [
    {
     "data": {
      "text/plain": [
       "tensor([ 5, 13, 13,  1,  0, 15, 12,  9, 22,  9,  1,  0,  1, 22,  1,  0,  9, 19,\n",
       "         1,  2,  5, 12, 12,  1,  0, 19, 15, 16,  8,  9,  1,  0])"
      ]
     },
     "execution_count": 63,
     "metadata": {},
     "output_type": "execute_result"
    }
   ],
   "source": [
    "Y"
   ]
  },
  {
   "cell_type": "markdown",
   "id": "97f4a4e2-832f-4fc1-811c-998b2b256a56",
   "metadata": {},
   "source": [
    "### Training the full dataset"
   ]
  },
  {
   "cell_type": "code",
   "execution_count": 32,
   "id": "a4822eda-a3fc-444c-8e6d-cc3cfbc373c3",
   "metadata": {},
   "outputs": [],
   "source": [
    "# build the dataset\n",
    "\n",
    "block_size = 3 # context length: how many characters do we take to predict the next one?\n",
    "X, Y = [], []\n",
    "for w in words:\n",
    "  context = [0] * block_size\n",
    "  for ch in w + '.':\n",
    "    ix = stoi[ch]\n",
    "    X.append(context)\n",
    "    Y.append(ix)\n",
    "    # print(''.join(itos[i] for i in context), '--->', itos[ix])\n",
    "    context = context[1:] + [ix] # crop and append\n",
    "  \n",
    "X = torch.tensor(X)\n",
    "Y = torch.tensor(Y)"
   ]
  },
  {
   "cell_type": "code",
   "execution_count": 33,
   "id": "67ded016-0a2c-426a-a345-73b2543c14da",
   "metadata": {},
   "outputs": [
    {
     "data": {
      "text/plain": [
       "(torch.Size([228146, 3]), torch.Size([228146]))"
      ]
     },
     "execution_count": 33,
     "metadata": {},
     "output_type": "execute_result"
    }
   ],
   "source": [
    "X.shape, Y.shape"
   ]
  },
  {
   "cell_type": "code",
   "execution_count": 34,
   "id": "fa66d3c5-e9a5-4b0c-9730-3dd382f8e70a",
   "metadata": {},
   "outputs": [],
   "source": [
    "g = torch.Generator().manual_seed(2147483647) # for reproducibility\n",
    "C = torch.randn((27, 2), generator=g)\n",
    "W1 = torch.randn((6, 100), generator=g)\n",
    "b1 = torch.randn(100, generator=g)\n",
    "W2 = torch.randn((100, 27), generator=g)\n",
    "b2 = torch.randn(27, generator=g)\n",
    "parameters = [C, W1, b1, W2, b2]"
   ]
  },
  {
   "cell_type": "code",
   "execution_count": 35,
   "id": "90d02195-8b04-43a8-b3cc-caeb0310a1eb",
   "metadata": {},
   "outputs": [],
   "source": [
    "for p in parameters:\n",
    "    p.requires_grad = True"
   ]
  },
  {
   "cell_type": "code",
   "execution_count": 37,
   "id": "297e3235-c302-45cc-99bd-437825c7b821",
   "metadata": {},
   "outputs": [
    {
     "data": {
      "text/plain": [
       "tensor([0.0010, 0.0010, 0.0010, 0.0010, 0.0010, 0.0010, 0.0010, 0.0010, 0.0011,\n",
       "        0.0011, 0.0011, 0.0011, 0.0011, 0.0011, 0.0011, 0.0011, 0.0011, 0.0011,\n",
       "        0.0011, 0.0011, 0.0011, 0.0012, 0.0012, 0.0012, 0.0012, 0.0012, 0.0012,\n",
       "        0.0012, 0.0012, 0.0012, 0.0012, 0.0012, 0.0012, 0.0013, 0.0013, 0.0013,\n",
       "        0.0013, 0.0013, 0.0013, 0.0013, 0.0013, 0.0013, 0.0013, 0.0013, 0.0014,\n",
       "        0.0014, 0.0014, 0.0014, 0.0014, 0.0014, 0.0014, 0.0014, 0.0014, 0.0014,\n",
       "        0.0015, 0.0015, 0.0015, 0.0015, 0.0015, 0.0015, 0.0015, 0.0015, 0.0015,\n",
       "        0.0015, 0.0016, 0.0016, 0.0016, 0.0016, 0.0016, 0.0016, 0.0016, 0.0016,\n",
       "        0.0016, 0.0017, 0.0017, 0.0017, 0.0017, 0.0017, 0.0017, 0.0017, 0.0017,\n",
       "        0.0018, 0.0018, 0.0018, 0.0018, 0.0018, 0.0018, 0.0018, 0.0018, 0.0019,\n",
       "        0.0019, 0.0019, 0.0019, 0.0019, 0.0019, 0.0019, 0.0019, 0.0020, 0.0020,\n",
       "        0.0020, 0.0020, 0.0020, 0.0020, 0.0020, 0.0021, 0.0021, 0.0021, 0.0021,\n",
       "        0.0021, 0.0021, 0.0021, 0.0022, 0.0022, 0.0022, 0.0022, 0.0022, 0.0022,\n",
       "        0.0022, 0.0023, 0.0023, 0.0023, 0.0023, 0.0023, 0.0023, 0.0024, 0.0024,\n",
       "        0.0024, 0.0024, 0.0024, 0.0024, 0.0025, 0.0025, 0.0025, 0.0025, 0.0025,\n",
       "        0.0025, 0.0026, 0.0026, 0.0026, 0.0026, 0.0026, 0.0027, 0.0027, 0.0027,\n",
       "        0.0027, 0.0027, 0.0027, 0.0028, 0.0028, 0.0028, 0.0028, 0.0028, 0.0029,\n",
       "        0.0029, 0.0029, 0.0029, 0.0029, 0.0030, 0.0030, 0.0030, 0.0030, 0.0030,\n",
       "        0.0031, 0.0031, 0.0031, 0.0031, 0.0032, 0.0032, 0.0032, 0.0032, 0.0032,\n",
       "        0.0033, 0.0033, 0.0033, 0.0033, 0.0034, 0.0034, 0.0034, 0.0034, 0.0034,\n",
       "        0.0035, 0.0035, 0.0035, 0.0035, 0.0036, 0.0036, 0.0036, 0.0036, 0.0037,\n",
       "        0.0037, 0.0037, 0.0037, 0.0038, 0.0038, 0.0038, 0.0039, 0.0039, 0.0039,\n",
       "        0.0039, 0.0040, 0.0040, 0.0040, 0.0040, 0.0041, 0.0041, 0.0041, 0.0042,\n",
       "        0.0042, 0.0042, 0.0042, 0.0043, 0.0043, 0.0043, 0.0044, 0.0044, 0.0044,\n",
       "        0.0045, 0.0045, 0.0045, 0.0045, 0.0046, 0.0046, 0.0046, 0.0047, 0.0047,\n",
       "        0.0047, 0.0048, 0.0048, 0.0048, 0.0049, 0.0049, 0.0049, 0.0050, 0.0050,\n",
       "        0.0050, 0.0051, 0.0051, 0.0051, 0.0052, 0.0052, 0.0053, 0.0053, 0.0053,\n",
       "        0.0054, 0.0054, 0.0054, 0.0055, 0.0055, 0.0056, 0.0056, 0.0056, 0.0057,\n",
       "        0.0057, 0.0058, 0.0058, 0.0058, 0.0059, 0.0059, 0.0060, 0.0060, 0.0060,\n",
       "        0.0061, 0.0061, 0.0062, 0.0062, 0.0062, 0.0063, 0.0063, 0.0064, 0.0064,\n",
       "        0.0065, 0.0065, 0.0066, 0.0066, 0.0067, 0.0067, 0.0067, 0.0068, 0.0068,\n",
       "        0.0069, 0.0069, 0.0070, 0.0070, 0.0071, 0.0071, 0.0072, 0.0072, 0.0073,\n",
       "        0.0073, 0.0074, 0.0074, 0.0075, 0.0075, 0.0076, 0.0076, 0.0077, 0.0077,\n",
       "        0.0078, 0.0079, 0.0079, 0.0080, 0.0080, 0.0081, 0.0081, 0.0082, 0.0082,\n",
       "        0.0083, 0.0084, 0.0084, 0.0085, 0.0085, 0.0086, 0.0086, 0.0087, 0.0088,\n",
       "        0.0088, 0.0089, 0.0090, 0.0090, 0.0091, 0.0091, 0.0092, 0.0093, 0.0093,\n",
       "        0.0094, 0.0095, 0.0095, 0.0096, 0.0097, 0.0097, 0.0098, 0.0099, 0.0099,\n",
       "        0.0100, 0.0101, 0.0101, 0.0102, 0.0103, 0.0104, 0.0104, 0.0105, 0.0106,\n",
       "        0.0106, 0.0107, 0.0108, 0.0109, 0.0109, 0.0110, 0.0111, 0.0112, 0.0112,\n",
       "        0.0113, 0.0114, 0.0115, 0.0116, 0.0116, 0.0117, 0.0118, 0.0119, 0.0120,\n",
       "        0.0121, 0.0121, 0.0122, 0.0123, 0.0124, 0.0125, 0.0126, 0.0127, 0.0127,\n",
       "        0.0128, 0.0129, 0.0130, 0.0131, 0.0132, 0.0133, 0.0134, 0.0135, 0.0136,\n",
       "        0.0137, 0.0137, 0.0138, 0.0139, 0.0140, 0.0141, 0.0142, 0.0143, 0.0144,\n",
       "        0.0145, 0.0146, 0.0147, 0.0148, 0.0149, 0.0150, 0.0151, 0.0152, 0.0154,\n",
       "        0.0155, 0.0156, 0.0157, 0.0158, 0.0159, 0.0160, 0.0161, 0.0162, 0.0163,\n",
       "        0.0165, 0.0166, 0.0167, 0.0168, 0.0169, 0.0170, 0.0171, 0.0173, 0.0174,\n",
       "        0.0175, 0.0176, 0.0178, 0.0179, 0.0180, 0.0181, 0.0182, 0.0184, 0.0185,\n",
       "        0.0186, 0.0188, 0.0189, 0.0190, 0.0192, 0.0193, 0.0194, 0.0196, 0.0197,\n",
       "        0.0198, 0.0200, 0.0201, 0.0202, 0.0204, 0.0205, 0.0207, 0.0208, 0.0210,\n",
       "        0.0211, 0.0212, 0.0214, 0.0215, 0.0217, 0.0218, 0.0220, 0.0221, 0.0223,\n",
       "        0.0225, 0.0226, 0.0228, 0.0229, 0.0231, 0.0232, 0.0234, 0.0236, 0.0237,\n",
       "        0.0239, 0.0241, 0.0242, 0.0244, 0.0246, 0.0247, 0.0249, 0.0251, 0.0253,\n",
       "        0.0254, 0.0256, 0.0258, 0.0260, 0.0261, 0.0263, 0.0265, 0.0267, 0.0269,\n",
       "        0.0271, 0.0273, 0.0274, 0.0276, 0.0278, 0.0280, 0.0282, 0.0284, 0.0286,\n",
       "        0.0288, 0.0290, 0.0292, 0.0294, 0.0296, 0.0298, 0.0300, 0.0302, 0.0304,\n",
       "        0.0307, 0.0309, 0.0311, 0.0313, 0.0315, 0.0317, 0.0320, 0.0322, 0.0324,\n",
       "        0.0326, 0.0328, 0.0331, 0.0333, 0.0335, 0.0338, 0.0340, 0.0342, 0.0345,\n",
       "        0.0347, 0.0350, 0.0352, 0.0354, 0.0357, 0.0359, 0.0362, 0.0364, 0.0367,\n",
       "        0.0369, 0.0372, 0.0375, 0.0377, 0.0380, 0.0382, 0.0385, 0.0388, 0.0390,\n",
       "        0.0393, 0.0396, 0.0399, 0.0401, 0.0404, 0.0407, 0.0410, 0.0413, 0.0416,\n",
       "        0.0418, 0.0421, 0.0424, 0.0427, 0.0430, 0.0433, 0.0436, 0.0439, 0.0442,\n",
       "        0.0445, 0.0448, 0.0451, 0.0455, 0.0458, 0.0461, 0.0464, 0.0467, 0.0471,\n",
       "        0.0474, 0.0477, 0.0480, 0.0484, 0.0487, 0.0491, 0.0494, 0.0497, 0.0501,\n",
       "        0.0504, 0.0508, 0.0511, 0.0515, 0.0518, 0.0522, 0.0526, 0.0529, 0.0533,\n",
       "        0.0537, 0.0540, 0.0544, 0.0548, 0.0552, 0.0556, 0.0559, 0.0563, 0.0567,\n",
       "        0.0571, 0.0575, 0.0579, 0.0583, 0.0587, 0.0591, 0.0595, 0.0599, 0.0604,\n",
       "        0.0608, 0.0612, 0.0616, 0.0621, 0.0625, 0.0629, 0.0634, 0.0638, 0.0642,\n",
       "        0.0647, 0.0651, 0.0656, 0.0660, 0.0665, 0.0670, 0.0674, 0.0679, 0.0684,\n",
       "        0.0688, 0.0693, 0.0698, 0.0703, 0.0708, 0.0713, 0.0718, 0.0723, 0.0728,\n",
       "        0.0733, 0.0738, 0.0743, 0.0748, 0.0753, 0.0758, 0.0764, 0.0769, 0.0774,\n",
       "        0.0780, 0.0785, 0.0790, 0.0796, 0.0802, 0.0807, 0.0813, 0.0818, 0.0824,\n",
       "        0.0830, 0.0835, 0.0841, 0.0847, 0.0853, 0.0859, 0.0865, 0.0871, 0.0877,\n",
       "        0.0883, 0.0889, 0.0895, 0.0901, 0.0908, 0.0914, 0.0920, 0.0927, 0.0933,\n",
       "        0.0940, 0.0946, 0.0953, 0.0959, 0.0966, 0.0973, 0.0979, 0.0986, 0.0993,\n",
       "        0.1000, 0.1007, 0.1014, 0.1021, 0.1028, 0.1035, 0.1042, 0.1050, 0.1057,\n",
       "        0.1064, 0.1072, 0.1079, 0.1087, 0.1094, 0.1102, 0.1109, 0.1117, 0.1125,\n",
       "        0.1133, 0.1140, 0.1148, 0.1156, 0.1164, 0.1172, 0.1181, 0.1189, 0.1197,\n",
       "        0.1205, 0.1214, 0.1222, 0.1231, 0.1239, 0.1248, 0.1256, 0.1265, 0.1274,\n",
       "        0.1283, 0.1292, 0.1301, 0.1310, 0.1319, 0.1328, 0.1337, 0.1346, 0.1356,\n",
       "        0.1365, 0.1374, 0.1384, 0.1394, 0.1403, 0.1413, 0.1423, 0.1433, 0.1443,\n",
       "        0.1453, 0.1463, 0.1473, 0.1483, 0.1493, 0.1504, 0.1514, 0.1525, 0.1535,\n",
       "        0.1546, 0.1557, 0.1567, 0.1578, 0.1589, 0.1600, 0.1611, 0.1623, 0.1634,\n",
       "        0.1645, 0.1657, 0.1668, 0.1680, 0.1691, 0.1703, 0.1715, 0.1727, 0.1739,\n",
       "        0.1751, 0.1763, 0.1775, 0.1788, 0.1800, 0.1812, 0.1825, 0.1838, 0.1850,\n",
       "        0.1863, 0.1876, 0.1889, 0.1902, 0.1916, 0.1929, 0.1942, 0.1956, 0.1969,\n",
       "        0.1983, 0.1997, 0.2010, 0.2024, 0.2038, 0.2053, 0.2067, 0.2081, 0.2096,\n",
       "        0.2110, 0.2125, 0.2140, 0.2154, 0.2169, 0.2184, 0.2200, 0.2215, 0.2230,\n",
       "        0.2246, 0.2261, 0.2277, 0.2293, 0.2309, 0.2325, 0.2341, 0.2357, 0.2373,\n",
       "        0.2390, 0.2406, 0.2423, 0.2440, 0.2457, 0.2474, 0.2491, 0.2508, 0.2526,\n",
       "        0.2543, 0.2561, 0.2579, 0.2597, 0.2615, 0.2633, 0.2651, 0.2669, 0.2688,\n",
       "        0.2707, 0.2725, 0.2744, 0.2763, 0.2783, 0.2802, 0.2821, 0.2841, 0.2861,\n",
       "        0.2880, 0.2900, 0.2921, 0.2941, 0.2961, 0.2982, 0.3002, 0.3023, 0.3044,\n",
       "        0.3065, 0.3087, 0.3108, 0.3130, 0.3151, 0.3173, 0.3195, 0.3217, 0.3240,\n",
       "        0.3262, 0.3285, 0.3308, 0.3331, 0.3354, 0.3377, 0.3400, 0.3424, 0.3448,\n",
       "        0.3472, 0.3496, 0.3520, 0.3544, 0.3569, 0.3594, 0.3619, 0.3644, 0.3669,\n",
       "        0.3695, 0.3720, 0.3746, 0.3772, 0.3798, 0.3825, 0.3851, 0.3878, 0.3905,\n",
       "        0.3932, 0.3959, 0.3987, 0.4014, 0.4042, 0.4070, 0.4098, 0.4127, 0.4155,\n",
       "        0.4184, 0.4213, 0.4243, 0.4272, 0.4302, 0.4331, 0.4362, 0.4392, 0.4422,\n",
       "        0.4453, 0.4484, 0.4515, 0.4546, 0.4578, 0.4610, 0.4642, 0.4674, 0.4706,\n",
       "        0.4739, 0.4772, 0.4805, 0.4838, 0.4872, 0.4906, 0.4940, 0.4974, 0.5008,\n",
       "        0.5043, 0.5078, 0.5113, 0.5149, 0.5185, 0.5221, 0.5257, 0.5293, 0.5330,\n",
       "        0.5367, 0.5404, 0.5442, 0.5479, 0.5517, 0.5556, 0.5594, 0.5633, 0.5672,\n",
       "        0.5712, 0.5751, 0.5791, 0.5831, 0.5872, 0.5913, 0.5954, 0.5995, 0.6036,\n",
       "        0.6078, 0.6120, 0.6163, 0.6206, 0.6249, 0.6292, 0.6336, 0.6380, 0.6424,\n",
       "        0.6469, 0.6513, 0.6559, 0.6604, 0.6650, 0.6696, 0.6743, 0.6789, 0.6837,\n",
       "        0.6884, 0.6932, 0.6980, 0.7028, 0.7077, 0.7126, 0.7176, 0.7225, 0.7275,\n",
       "        0.7326, 0.7377, 0.7428, 0.7480, 0.7531, 0.7584, 0.7636, 0.7689, 0.7743,\n",
       "        0.7796, 0.7850, 0.7905, 0.7960, 0.8015, 0.8071, 0.8127, 0.8183, 0.8240,\n",
       "        0.8297, 0.8355, 0.8412, 0.8471, 0.8530, 0.8589, 0.8648, 0.8708, 0.8769,\n",
       "        0.8830, 0.8891, 0.8953, 0.9015, 0.9077, 0.9140, 0.9204, 0.9268, 0.9332,\n",
       "        0.9397, 0.9462, 0.9528, 0.9594, 0.9660, 0.9727, 0.9795, 0.9863, 0.9931,\n",
       "        1.0000])"
      ]
     },
     "execution_count": 37,
     "metadata": {},
     "output_type": "execute_result"
    }
   ],
   "source": [
    "lre = torch.linspace(-3, 0, 1000) # 1000 numbers between -3 and 0\n",
    "lrs = 10**lre\n",
    "lrs"
   ]
  },
  {
   "cell_type": "code",
   "execution_count": 70,
   "id": "adf356db-e762-48ab-938e-151c4669d36f",
   "metadata": {},
   "outputs": [
    {
     "name": "stdout",
     "output_type": "stream",
     "text": [
      "3.0433502197265625\n"
     ]
    }
   ],
   "source": [
    "lri = []\n",
    "lossi =  []\n",
    "for i in range(1000):\n",
    "    #mini_bacth\n",
    "    ix = torch.randint(0,X.shape[0],(32,))\n",
    "    #forward pass\n",
    "    emb = C[X[ix]] # 32,3,2\n",
    "    h = torch.tanh(emb.view(-1,6) @ W1 + b1)\n",
    "    logits = h @ W2 + b2\n",
    "    loss = F.cross_entropy(logits,Y[ix])\n",
    "    for p in parameters:\n",
    "        p.grad = None\n",
    "    loss.backward()\n",
    "    \n",
    "    #update \n",
    "    lr = 0.1\n",
    "    for p in parameters:\n",
    "        p.data -= lr * p.grad\n",
    "\n",
    "    #track stats\n",
    "    # lri.append(lre[i])\n",
    "    # lossi.append(loss.item())\n",
    "print(loss.item())"
   ]
  },
  {
   "cell_type": "code",
   "execution_count": 38,
   "id": "c3e90df3-8a60-40e6-82de-1139328a8726",
   "metadata": {},
   "outputs": [
    {
     "ename": "NameError",
     "evalue": "name 'lri' is not defined",
     "output_type": "error",
     "traceback": [
      "\u001b[0;31m---------------------------------------------------------------------------\u001b[0m",
      "\u001b[0;31mNameError\u001b[0m                                 Traceback (most recent call last)",
      "Cell \u001b[0;32mIn[38], line 1\u001b[0m\n\u001b[0;32m----> 1\u001b[0m plt\u001b[38;5;241m.\u001b[39mplot(lri,lossi)\n",
      "\u001b[0;31mNameError\u001b[0m: name 'lri' is not defined"
     ]
    }
   ],
   "source": [
    "plt.plot(lri,lossi) # good learning rate is at somewhere between 0.0 and 0.2"
   ]
  },
  {
   "cell_type": "code",
   "execution_count": 72,
   "id": "b880e399-4c40-4d73-b0f8-f40e6ec0e133",
   "metadata": {},
   "outputs": [
    {
     "data": {
      "text/plain": [
       "[<matplotlib.lines.Line2D at 0x125be8650>]"
      ]
     },
     "execution_count": 72,
     "metadata": {},
     "output_type": "execute_result"
    },
    {
     "data": {
      "image/png": "[encoded data removed]",
      "text/plain": [
       "<Figure size 640x480 with 1 Axes>"
      ]
     },
     "metadata": {},
     "output_type": "display_data"
    }
   ],
   "source": [
    "plt.plot(lri,lossi) # expoenent and loss"
   ]
  },
  {
   "cell_type": "markdown",
   "id": "075e5f97-b226-4d8f-b90b-40656a4fefeb",
   "metadata": {},
   "source": [
    "### Mini-batch training"
   ]
  },
  {
   "cell_type": "code",
   "execution_count": 73,
   "id": "55bf6091-d621-4cfc-a4e0-d1b9d8e53513",
   "metadata": {},
   "outputs": [
    {
     "data": {
      "text/plain": [
       "tensor([ 52959, 112402, 106000,  40704, 210582, 226638, 197345,   5678,  40863,\n",
       "         73639,  21716, 108822, 217478, 216134,  52632, 103535,  60607,  40490,\n",
       "        194164,  96591,  73987, 215476,  78785,  26145, 219755, 150090,  99120,\n",
       "        140520,    452, 186499, 205408,  92896])"
      ]
     },
     "execution_count": 73,
     "metadata": {},
     "output_type": "execute_result"
    }
   ],
   "source": [
    "torch.randint(0,X.shape[0],(32,))"
   ]
  },
  {
   "cell_type": "code",
   "execution_count": 74,
   "id": "dae2884c-b35b-4325-999c-274882dc6456",
   "metadata": {},
   "outputs": [
    {
     "data": {
      "text/plain": [
       "tensor(2.6516, grad_fn=<NllLossBackward0>)"
      ]
     },
     "execution_count": 74,
     "metadata": {},
     "output_type": "execute_result"
    }
   ],
   "source": [
    "emb = C[X] # 32,3,2\n",
    "h = torch.tanh(emb.view(-1,6) @ W1 + b1)\n",
    "logits = h @ W2 + b2\n",
    "loss = F.cross_entropy(logits,Y)\n",
    "loss"
   ]
  },
  {
   "cell_type": "markdown",
   "id": "4378799d-1433-42be-bd64-d081e2777fbf",
   "metadata": {},
   "source": [
    "### Spliting the dataset"
   ]
  },
  {
   "cell_type": "code",
   "execution_count": 75,
   "id": "fd268959-5ae7-4d89-9b3e-3532820269bd",
   "metadata": {},
   "outputs": [],
   "source": [
    "#training, validation ,testing"
   ]
  },
  {
   "cell_type": "code",
   "execution_count": 93,
   "id": "1eed7712-e8e4-4018-9b5a-9c87cd21c45b",
   "metadata": {},
   "outputs": [
    {
     "name": "stdout",
     "output_type": "stream",
     "text": [
      "torch.Size([182580, 3]) torch.Size([182580])\n",
      "torch.Size([22767, 3]) torch.Size([22767])\n",
      "torch.Size([22799, 3]) torch.Size([22799])\n"
     ]
    }
   ],
   "source": [
    "# build the dataset\n",
    "block_size = 3 # context length: how many characters do we take to predict the next one?\n",
    "\n",
    "def build_dataset(words):  \n",
    "  X, Y = [], []\n",
    "  for w in words:\n",
    "\n",
    "    #print(w)\n",
    "    context = [0] * block_size\n",
    "    for ch in w + '.':\n",
    "      ix = stoi[ch]\n",
    "      X.append(context)\n",
    "      Y.append(ix)\n",
    "      #print(''.join(itos[i] for i in context), '--->', itos[ix])\n",
    "      context = context[1:] + [ix] # crop and append\n",
    "\n",
    "  X = torch.tensor(X)\n",
    "  Y = torch.tensor(Y)\n",
    "  print(X.shape, Y.shape)\n",
    "  return X, Y\n",
    "\n",
    "import random\n",
    "random.seed(42)\n",
    "random.shuffle(words)\n",
    "n1 = int(0.8*len(words))\n",
    "n2 = int(0.9*len(words))\n",
    "\n",
    "Xtr, Ytr = build_dataset(words[:n1])\n",
    "Xdev, Ydev = build_dataset(words[n1:n2])\n",
    "Xte, Yte = build_dataset(words[n2:])"
   ]
  },
  {
   "cell_type": "code",
   "execution_count": 77,
   "id": "afc56935-675d-4f48-bbd3-b4a2ffe04ca9",
   "metadata": {},
   "outputs": [
    {
     "data": {
      "text/plain": [
       "25626"
      ]
     },
     "execution_count": 77,
     "metadata": {},
     "output_type": "execute_result"
    }
   ],
   "source": [
    "n1"
   ]
  },
  {
   "cell_type": "code",
   "execution_count": 79,
   "id": "556b4b3a-695c-499d-b39f-ef9502423173",
   "metadata": {},
   "outputs": [
    {
     "data": {
      "text/plain": [
       "3203"
      ]
     },
     "execution_count": 79,
     "metadata": {},
     "output_type": "execute_result"
    }
   ],
   "source": [
    "n2-n1"
   ]
  },
  {
   "cell_type": "code",
   "execution_count": 80,
   "id": "cc9bb0c3-d3d3-4336-88cd-dc0cc227503c",
   "metadata": {},
   "outputs": [
    {
     "data": {
      "text/plain": [
       "3204"
      ]
     },
     "execution_count": 80,
     "metadata": {},
     "output_type": "execute_result"
    }
   ],
   "source": [
    "len(words) - n2"
   ]
  },
  {
   "cell_type": "code",
   "execution_count": 81,
   "id": "0872519a-504b-4624-b155-bbc2ea8f87da",
   "metadata": {},
   "outputs": [
    {
     "data": {
      "text/plain": [
       "(torch.Size([182625, 3]), torch.Size([182625]))"
      ]
     },
     "execution_count": 81,
     "metadata": {},
     "output_type": "execute_result"
    }
   ],
   "source": [
    "Xtr.shape, Ytr.shape"
   ]
  },
  {
   "cell_type": "code",
   "execution_count": 125,
   "id": "58e9d83d-c5a7-40cb-b6e5-c518f3000d07",
   "metadata": {},
   "outputs": [],
   "source": [
    "g = torch.Generator().manual_seed(2147483647) # for reproducibility\n",
    "C = torch.randn((27, 10), generator=g)\n",
    "W1 = torch.randn((30, 200), generator=g)\n",
    "b1 = torch.randn(200, generator=g)\n",
    "W2 = torch.randn((200, 27), generator=g)\n",
    "b2 = torch.randn(27, generator=g)\n",
    "parameters = [C, W1, b1, W2, b2]"
   ]
  },
  {
   "cell_type": "code",
   "execution_count": 126,
   "id": "29fc4e84-30c7-477b-b491-63a3feef12fa",
   "metadata": {},
   "outputs": [
    {
     "data": {
      "text/plain": [
       "11897"
      ]
     },
     "execution_count": 126,
     "metadata": {},
     "output_type": "execute_result"
    }
   ],
   "source": [
    "sum(p.nelement() for p in parameters)"
   ]
  },
  {
   "cell_type": "code",
   "execution_count": 127,
   "id": "731fa12b-9cd8-4570-b5ee-ba737ee1a189",
   "metadata": {},
   "outputs": [],
   "source": [
    "for p in parameters:\n",
    "    p.requires_grad = True"
   ]
  },
  {
   "cell_type": "code",
   "execution_count": 128,
   "id": "c4dc91ab-9d9f-44f7-b8fe-f3d2f0880e54",
   "metadata": {},
   "outputs": [
    {
     "data": {
      "text/plain": [
       "tensor([0.0010, 0.0010, 0.0010, 0.0010, 0.0010, 0.0010, 0.0010, 0.0010, 0.0011,\n",
       "        0.0011, 0.0011, 0.0011, 0.0011, 0.0011, 0.0011, 0.0011, 0.0011, 0.0011,\n",
       "        0.0011, 0.0011, 0.0011, 0.0012, 0.0012, 0.0012, 0.0012, 0.0012, 0.0012,\n",
       "        0.0012, 0.0012, 0.0012, 0.0012, 0.0012, 0.0012, 0.0013, 0.0013, 0.0013,\n",
       "        0.0013, 0.0013, 0.0013, 0.0013, 0.0013, 0.0013, 0.0013, 0.0013, 0.0014,\n",
       "        0.0014, 0.0014, 0.0014, 0.0014, 0.0014, 0.0014, 0.0014, 0.0014, 0.0014,\n",
       "        0.0015, 0.0015, 0.0015, 0.0015, 0.0015, 0.0015, 0.0015, 0.0015, 0.0015,\n",
       "        0.0015, 0.0016, 0.0016, 0.0016, 0.0016, 0.0016, 0.0016, 0.0016, 0.0016,\n",
       "        0.0016, 0.0017, 0.0017, 0.0017, 0.0017, 0.0017, 0.0017, 0.0017, 0.0017,\n",
       "        0.0018, 0.0018, 0.0018, 0.0018, 0.0018, 0.0018, 0.0018, 0.0018, 0.0019,\n",
       "        0.0019, 0.0019, 0.0019, 0.0019, 0.0019, 0.0019, 0.0019, 0.0020, 0.0020,\n",
       "        0.0020, 0.0020, 0.0020, 0.0020, 0.0020, 0.0021, 0.0021, 0.0021, 0.0021,\n",
       "        0.0021, 0.0021, 0.0021, 0.0022, 0.0022, 0.0022, 0.0022, 0.0022, 0.0022,\n",
       "        0.0022, 0.0023, 0.0023, 0.0023, 0.0023, 0.0023, 0.0023, 0.0024, 0.0024,\n",
       "        0.0024, 0.0024, 0.0024, 0.0024, 0.0025, 0.0025, 0.0025, 0.0025, 0.0025,\n",
       "        0.0025, 0.0026, 0.0026, 0.0026, 0.0026, 0.0026, 0.0027, 0.0027, 0.0027,\n",
       "        0.0027, 0.0027, 0.0027, 0.0028, 0.0028, 0.0028, 0.0028, 0.0028, 0.0029,\n",
       "        0.0029, 0.0029, 0.0029, 0.0029, 0.0030, 0.0030, 0.0030, 0.0030, 0.0030,\n",
       "        0.0031, 0.0031, 0.0031, 0.0031, 0.0032, 0.0032, 0.0032, 0.0032, 0.0032,\n",
       "        0.0033, 0.0033, 0.0033, 0.0033, 0.0034, 0.0034, 0.0034, 0.0034, 0.0034,\n",
       "        0.0035, 0.0035, 0.0035, 0.0035, 0.0036, 0.0036, 0.0036, 0.0036, 0.0037,\n",
       "        0.0037, 0.0037, 0.0037, 0.0038, 0.0038, 0.0038, 0.0039, 0.0039, 0.0039,\n",
       "        0.0039, 0.0040, 0.0040, 0.0040, 0.0040, 0.0041, 0.0041, 0.0041, 0.0042,\n",
       "        0.0042, 0.0042, 0.0042, 0.0043, 0.0043, 0.0043, 0.0044, 0.0044, 0.0044,\n",
       "        0.0045, 0.0045, 0.0045, 0.0045, 0.0046, 0.0046, 0.0046, 0.0047, 0.0047,\n",
       "        0.0047, 0.0048, 0.0048, 0.0048, 0.0049, 0.0049, 0.0049, 0.0050, 0.0050,\n",
       "        0.0050, 0.0051, 0.0051, 0.0051, 0.0052, 0.0052, 0.0053, 0.0053, 0.0053,\n",
       "        0.0054, 0.0054, 0.0054, 0.0055, 0.0055, 0.0056, 0.0056, 0.0056, 0.0057,\n",
       "        0.0057, 0.0058, 0.0058, 0.0058, 0.0059, 0.0059, 0.0060, 0.0060, 0.0060,\n",
       "        0.0061, 0.0061, 0.0062, 0.0062, 0.0062, 0.0063, 0.0063, 0.0064, 0.0064,\n",
       "        0.0065, 0.0065, 0.0066, 0.0066, 0.0067, 0.0067, 0.0067, 0.0068, 0.0068,\n",
       "        0.0069, 0.0069, 0.0070, 0.0070, 0.0071, 0.0071, 0.0072, 0.0072, 0.0073,\n",
       "        0.0073, 0.0074, 0.0074, 0.0075, 0.0075, 0.0076, 0.0076, 0.0077, 0.0077,\n",
       "        0.0078, 0.0079, 0.0079, 0.0080, 0.0080, 0.0081, 0.0081, 0.0082, 0.0082,\n",
       "        0.0083, 0.0084, 0.0084, 0.0085, 0.0085, 0.0086, 0.0086, 0.0087, 0.0088,\n",
       "        0.0088, 0.0089, 0.0090, 0.0090, 0.0091, 0.0091, 0.0092, 0.0093, 0.0093,\n",
       "        0.0094, 0.0095, 0.0095, 0.0096, 0.0097, 0.0097, 0.0098, 0.0099, 0.0099,\n",
       "        0.0100, 0.0101, 0.0101, 0.0102, 0.0103, 0.0104, 0.0104, 0.0105, 0.0106,\n",
       "        0.0106, 0.0107, 0.0108, 0.0109, 0.0109, 0.0110, 0.0111, 0.0112, 0.0112,\n",
       "        0.0113, 0.0114, 0.0115, 0.0116, 0.0116, 0.0117, 0.0118, 0.0119, 0.0120,\n",
       "        0.0121, 0.0121, 0.0122, 0.0123, 0.0124, 0.0125, 0.0126, 0.0127, 0.0127,\n",
       "        0.0128, 0.0129, 0.0130, 0.0131, 0.0132, 0.0133, 0.0134, 0.0135, 0.0136,\n",
       "        0.0137, 0.0137, 0.0138, 0.0139, 0.0140, 0.0141, 0.0142, 0.0143, 0.0144,\n",
       "        0.0145, 0.0146, 0.0147, 0.0148, 0.0149, 0.0150, 0.0151, 0.0152, 0.0154,\n",
       "        0.0155, 0.0156, 0.0157, 0.0158, 0.0159, 0.0160, 0.0161, 0.0162, 0.0163,\n",
       "        0.0165, 0.0166, 0.0167, 0.0168, 0.0169, 0.0170, 0.0171, 0.0173, 0.0174,\n",
       "        0.0175, 0.0176, 0.0178, 0.0179, 0.0180, 0.0181, 0.0182, 0.0184, 0.0185,\n",
       "        0.0186, 0.0188, 0.0189, 0.0190, 0.0192, 0.0193, 0.0194, 0.0196, 0.0197,\n",
       "        0.0198, 0.0200, 0.0201, 0.0202, 0.0204, 0.0205, 0.0207, 0.0208, 0.0210,\n",
       "        0.0211, 0.0212, 0.0214, 0.0215, 0.0217, 0.0218, 0.0220, 0.0221, 0.0223,\n",
       "        0.0225, 0.0226, 0.0228, 0.0229, 0.0231, 0.0232, 0.0234, 0.0236, 0.0237,\n",
       "        0.0239, 0.0241, 0.0242, 0.0244, 0.0246, 0.0247, 0.0249, 0.0251, 0.0253,\n",
       "        0.0254, 0.0256, 0.0258, 0.0260, 0.0261, 0.0263, 0.0265, 0.0267, 0.0269,\n",
       "        0.0271, 0.0273, 0.0274, 0.0276, 0.0278, 0.0280, 0.0282, 0.0284, 0.0286,\n",
       "        0.0288, 0.0290, 0.0292, 0.0294, 0.0296, 0.0298, 0.0300, 0.0302, 0.0304,\n",
       "        0.0307, 0.0309, 0.0311, 0.0313, 0.0315, 0.0317, 0.0320, 0.0322, 0.0324,\n",
       "        0.0326, 0.0328, 0.0331, 0.0333, 0.0335, 0.0338, 0.0340, 0.0342, 0.0345,\n",
       "        0.0347, 0.0350, 0.0352, 0.0354, 0.0357, 0.0359, 0.0362, 0.0364, 0.0367,\n",
       "        0.0369, 0.0372, 0.0375, 0.0377, 0.0380, 0.0382, 0.0385, 0.0388, 0.0390,\n",
       "        0.0393, 0.0396, 0.0399, 0.0401, 0.0404, 0.0407, 0.0410, 0.0413, 0.0416,\n",
       "        0.0418, 0.0421, 0.0424, 0.0427, 0.0430, 0.0433, 0.0436, 0.0439, 0.0442,\n",
       "        0.0445, 0.0448, 0.0451, 0.0455, 0.0458, 0.0461, 0.0464, 0.0467, 0.0471,\n",
       "        0.0474, 0.0477, 0.0480, 0.0484, 0.0487, 0.0491, 0.0494, 0.0497, 0.0501,\n",
       "        0.0504, 0.0508, 0.0511, 0.0515, 0.0518, 0.0522, 0.0526, 0.0529, 0.0533,\n",
       "        0.0537, 0.0540, 0.0544, 0.0548, 0.0552, 0.0556, 0.0559, 0.0563, 0.0567,\n",
       "        0.0571, 0.0575, 0.0579, 0.0583, 0.0587, 0.0591, 0.0595, 0.0599, 0.0604,\n",
       "        0.0608, 0.0612, 0.0616, 0.0621, 0.0625, 0.0629, 0.0634, 0.0638, 0.0642,\n",
       "        0.0647, 0.0651, 0.0656, 0.0660, 0.0665, 0.0670, 0.0674, 0.0679, 0.0684,\n",
       "        0.0688, 0.0693, 0.0698, 0.0703, 0.0708, 0.0713, 0.0718, 0.0723, 0.0728,\n",
       "        0.0733, 0.0738, 0.0743, 0.0748, 0.0753, 0.0758, 0.0764, 0.0769, 0.0774,\n",
       "        0.0780, 0.0785, 0.0790, 0.0796, 0.0802, 0.0807, 0.0813, 0.0818, 0.0824,\n",
       "        0.0830, 0.0835, 0.0841, 0.0847, 0.0853, 0.0859, 0.0865, 0.0871, 0.0877,\n",
       "        0.0883, 0.0889, 0.0895, 0.0901, 0.0908, 0.0914, 0.0920, 0.0927, 0.0933,\n",
       "        0.0940, 0.0946, 0.0953, 0.0959, 0.0966, 0.0973, 0.0979, 0.0986, 0.0993,\n",
       "        0.1000, 0.1007, 0.1014, 0.1021, 0.1028, 0.1035, 0.1042, 0.1050, 0.1057,\n",
       "        0.1064, 0.1072, 0.1079, 0.1087, 0.1094, 0.1102, 0.1109, 0.1117, 0.1125,\n",
       "        0.1133, 0.1140, 0.1148, 0.1156, 0.1164, 0.1172, 0.1181, 0.1189, 0.1197,\n",
       "        0.1205, 0.1214, 0.1222, 0.1231, 0.1239, 0.1248, 0.1256, 0.1265, 0.1274,\n",
       "        0.1283, 0.1292, 0.1301, 0.1310, 0.1319, 0.1328, 0.1337, 0.1346, 0.1356,\n",
       "        0.1365, 0.1374, 0.1384, 0.1394, 0.1403, 0.1413, 0.1423, 0.1433, 0.1443,\n",
       "        0.1453, 0.1463, 0.1473, 0.1483, 0.1493, 0.1504, 0.1514, 0.1525, 0.1535,\n",
       "        0.1546, 0.1557, 0.1567, 0.1578, 0.1589, 0.1600, 0.1611, 0.1623, 0.1634,\n",
       "        0.1645, 0.1657, 0.1668, 0.1680, 0.1691, 0.1703, 0.1715, 0.1727, 0.1739,\n",
       "        0.1751, 0.1763, 0.1775, 0.1788, 0.1800, 0.1812, 0.1825, 0.1838, 0.1850,\n",
       "        0.1863, 0.1876, 0.1889, 0.1902, 0.1916, 0.1929, 0.1942, 0.1956, 0.1969,\n",
       "        0.1983, 0.1997, 0.2010, 0.2024, 0.2038, 0.2053, 0.2067, 0.2081, 0.2096,\n",
       "        0.2110, 0.2125, 0.2140, 0.2154, 0.2169, 0.2184, 0.2200, 0.2215, 0.2230,\n",
       "        0.2246, 0.2261, 0.2277, 0.2293, 0.2309, 0.2325, 0.2341, 0.2357, 0.2373,\n",
       "        0.2390, 0.2406, 0.2423, 0.2440, 0.2457, 0.2474, 0.2491, 0.2508, 0.2526,\n",
       "        0.2543, 0.2561, 0.2579, 0.2597, 0.2615, 0.2633, 0.2651, 0.2669, 0.2688,\n",
       "        0.2707, 0.2725, 0.2744, 0.2763, 0.2783, 0.2802, 0.2821, 0.2841, 0.2861,\n",
       "        0.2880, 0.2900, 0.2921, 0.2941, 0.2961, 0.2982, 0.3002, 0.3023, 0.3044,\n",
       "        0.3065, 0.3087, 0.3108, 0.3130, 0.3151, 0.3173, 0.3195, 0.3217, 0.3240,\n",
       "        0.3262, 0.3285, 0.3308, 0.3331, 0.3354, 0.3377, 0.3400, 0.3424, 0.3448,\n",
       "        0.3472, 0.3496, 0.3520, 0.3544, 0.3569, 0.3594, 0.3619, 0.3644, 0.3669,\n",
       "        0.3695, 0.3720, 0.3746, 0.3772, 0.3798, 0.3825, 0.3851, 0.3878, 0.3905,\n",
       "        0.3932, 0.3959, 0.3987, 0.4014, 0.4042, 0.4070, 0.4098, 0.4127, 0.4155,\n",
       "        0.4184, 0.4213, 0.4243, 0.4272, 0.4302, 0.4331, 0.4362, 0.4392, 0.4422,\n",
       "        0.4453, 0.4484, 0.4515, 0.4546, 0.4578, 0.4610, 0.4642, 0.4674, 0.4706,\n",
       "        0.4739, 0.4772, 0.4805, 0.4838, 0.4872, 0.4906, 0.4940, 0.4974, 0.5008,\n",
       "        0.5043, 0.5078, 0.5113, 0.5149, 0.5185, 0.5221, 0.5257, 0.5293, 0.5330,\n",
       "        0.5367, 0.5404, 0.5442, 0.5479, 0.5517, 0.5556, 0.5594, 0.5633, 0.5672,\n",
       "        0.5712, 0.5751, 0.5791, 0.5831, 0.5872, 0.5913, 0.5954, 0.5995, 0.6036,\n",
       "        0.6078, 0.6120, 0.6163, 0.6206, 0.6249, 0.6292, 0.6336, 0.6380, 0.6424,\n",
       "        0.6469, 0.6513, 0.6559, 0.6604, 0.6650, 0.6696, 0.6743, 0.6789, 0.6837,\n",
       "        0.6884, 0.6932, 0.6980, 0.7028, 0.7077, 0.7126, 0.7176, 0.7225, 0.7275,\n",
       "        0.7326, 0.7377, 0.7428, 0.7480, 0.7531, 0.7584, 0.7636, 0.7689, 0.7743,\n",
       "        0.7796, 0.7850, 0.7905, 0.7960, 0.8015, 0.8071, 0.8127, 0.8183, 0.8240,\n",
       "        0.8297, 0.8355, 0.8412, 0.8471, 0.8530, 0.8589, 0.8648, 0.8708, 0.8769,\n",
       "        0.8830, 0.8891, 0.8953, 0.9015, 0.9077, 0.9140, 0.9204, 0.9268, 0.9332,\n",
       "        0.9397, 0.9462, 0.9528, 0.9594, 0.9660, 0.9727, 0.9795, 0.9863, 0.9931,\n",
       "        1.0000])"
      ]
     },
     "execution_count": 128,
     "metadata": {},
     "output_type": "execute_result"
    }
   ],
   "source": [
    "lre = torch.linspace(-3, 0, 1000)\n",
    "lrs = 10**lre\n",
    "lrs"
   ]
  },
  {
   "cell_type": "code",
   "execution_count": 129,
   "id": "98494a8b-4220-412b-b3f3-5af69d59c724",
   "metadata": {},
   "outputs": [],
   "source": [
    "lri = []\n",
    "lossi =  []\n",
    "stepi = []"
   ]
  },
  {
   "cell_type": "code",
   "execution_count": 138,
   "id": "7120a458-8a3c-42be-8ffe-e9437c29088a",
   "metadata": {},
   "outputs": [
    {
     "name": "stdout",
     "output_type": "stream",
     "text": [
      "2.2533602714538574\n"
     ]
    }
   ],
   "source": [
    "for i in range(200000):\n",
    "  \n",
    "  # minibatch construct\n",
    "  ix = torch.randint(0, Xtr.shape[0], (32,))\n",
    "  \n",
    "  # forward pass\n",
    "  emb = C[Xtr[ix]] # (32, 3, 10)\n",
    "  h = torch.tanh(emb.view(-1, 30) @ W1 + b1) # (32, 200)\n",
    "  logits = h @ W2 + b2 # (32, 27)\n",
    "  loss = F.cross_entropy(logits, Ytr[ix])\n",
    "  #print(loss.item())\n",
    "  \n",
    "  # backward pass\n",
    "  for p in parameters:\n",
    "    p.grad = None\n",
    "  loss.backward()\n",
    "  \n",
    "  # update\n",
    "  #lr = lrs[i]\n",
    "  lr = 0.1 if i < 100000 else 0.01\n",
    "  for p in parameters:\n",
    "    p.data += -lr * p.grad\n",
    "\n",
    "  # track stats\n",
    "  #lri.append(lre[i])\n",
    "  stepi.append(i)\n",
    "  lossi.append(loss.log10().item())\n",
    "\n",
    "print(loss.item())"
   ]
  },
  {
   "cell_type": "code",
   "execution_count": 139,
   "id": "8d01c9c4-cf12-4b75-b6d3-b4463930edfb",
   "metadata": {},
   "outputs": [
    {
     "data": {
      "text/plain": [
       "[<matplotlib.lines.Line2D at 0x128803190>]"
      ]
     },
     "execution_count": 139,
     "metadata": {},
     "output_type": "execute_result"
    },
    {
     "data": {
      "image/png": "[encoded data removed]",
      "text/plain": [
       "<Figure size 640x480 with 1 Axes>"
      ]
     },
     "metadata": {},
     "output_type": "display_data"
    }
   ],
   "source": [
    "plt.plot(stepi,lossi)"
   ]
  },
  {
   "cell_type": "code",
   "execution_count": 140,
   "id": "6ce76b85-d147-4205-b2e5-17b4700ed4a2",
   "metadata": {},
   "outputs": [
    {
     "data": {
      "text/plain": [
       "tensor(2.1389, grad_fn=<NllLossBackward0>)"
      ]
     },
     "execution_count": 140,
     "metadata": {},
     "output_type": "execute_result"
    }
   ],
   "source": [
    "emb = C[Xdev] # (32, 3, 2)\n",
    "h = torch.tanh(emb.view(-1, 30) @ W1 + b1) # (32, 100)\n",
    "logits = h @ W2 + b2 # (32, 27)\n",
    "loss = F.cross_entropy(logits, Ydev)\n",
    "loss"
   ]
  },
  {
   "cell_type": "code",
   "execution_count": 141,
   "id": "743d2dd1-fbb4-4ce6-90bf-a939c60a984b",
   "metadata": {},
   "outputs": [
    {
     "data": {
      "image/png": "[encoded data removed]",
      "text/plain": [
       "<Figure size 800x800 with 1 Axes>"
      ]
     },
     "metadata": {},
     "output_type": "display_data"
    }
   ],
   "source": [
    "# visualize dimensions 0 and 1 of the embedding matrix C for all characters\n",
    "plt.figure(figsize=(8,8))\n",
    "plt.scatter(C[:,0].data, C[:,1].data, s=200)\n",
    "for i in range(C.shape[0]):\n",
    "    plt.text(C[i,0].item(), C[i,1].item(), itos[i], ha=\"center\", va=\"center\", color='white')\n",
    "plt.grid('minor')"
   ]
  },
  {
   "cell_type": "code",
   "execution_count": 142,
   "id": "f846dfd6-dcd9-4533-a3e1-caf4b009a1aa",
   "metadata": {},
   "outputs": [
    {
     "name": "stdout",
     "output_type": "stream",
     "text": [
      "mona.\n",
      "mayan.\n",
      "see.\n",
      "mad.\n",
      "ryah.\n",
      "rethruthadra.\n",
      "gradelyn.\n",
      "eli.\n",
      "jemi.\n",
      "jen.\n",
      "eden.\n",
      "camanarleigh.\n",
      "malara.\n",
      "noshibergian.\n",
      "jest.\n",
      "jairenel.\n",
      "panteron.\n",
      "ube.\n",
      "ged.\n",
      "ryyah.\n"
     ]
    }
   ],
   "source": [
    "# sample from the model\n",
    "g = torch.Generator().manual_seed(2147483647 + 10)\n",
    "\n",
    "for _ in range(20):\n",
    "    \n",
    "    out = []\n",
    "    context = [0] * block_size # initialize with all ...\n",
    "    while True:\n",
    "      emb = C[torch.tensor([context])] # (1,block_size,d)\n",
    "      h = torch.tanh(emb.view(1, -1) @ W1 + b1)\n",
    "      logits = h @ W2 + b2\n",
    "      probs = F.softmax(logits, dim=1)\n",
    "      ix = torch.multinomial(probs, num_samples=1, generator=g).item()\n",
    "      context = context[1:] + [ix]\n",
    "      out.append(ix)\n",
    "      if ix == 0:\n",
    "        break\n",
    "    \n",
    "    print(''.join(itos[i] for i in out))"
   ]
  },
  {
   "cell_type": "markdown",
   "id": "32838754-d36b-4a6f-8763-9e74ee6d4305",
   "metadata": {},
   "source": []
  },
  {
   "cell_type": "code",
   "execution_count": null,
   "id": "fdd08029-e79d-4e9d-8189-7e2e4f60e47f",
   "metadata": {},
   "outputs": [],
   "source": []
  },
  {
   "cell_type": "code",
   "execution_count": null,
   "id": "2b8137a7-146a-4e29-a37c-4c1fcc2e59f1",
   "metadata": {},
   "outputs": [],
   "source": []
  },
  {
   "cell_type": "code",
   "execution_count": null,
   "id": "942bfb2e-1db7-4381-97d6-5a688e6eda17",
   "metadata": {},
   "outputs": [],
   "source": []
  }
 ],
 "metadata": {
  "kernelspec": {
   "display_name": "Python 3 (ipykernel)",
   "language": "python",
   "name": "python3"
  },
  "language_info": {
   "codemirror_mode": {
    "name": "ipython",
    "version": 3
   },
   "file_extension": ".py",
   "mimetype": "text/x-python",
   "name": "python",
   "nbconvert_exporter": "python",
   "pygments_lexer": "ipython3",
   "version": "3.11.7"
  }
 },
 "nbformat": 4,
 "nbformat_minor": 5
}
