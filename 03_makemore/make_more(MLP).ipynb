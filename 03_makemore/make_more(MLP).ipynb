{
 "cells": [
  {
   "cell_type": "markdown",
   "id": "06df74a3-366e-4f0d-b8ac-ca2695348189",
   "metadata": {},
   "source": [
    "Why Use Embeddings Instead of One-Hot Encoding?\n",
    "Dimensionality Reduction\n",
    "\n",
    "One-hot encoding creates a sparse vector with a size equal to the vocabulary (V).\n",
    "\n",
    "If V = 65 (like in your character-level model), then each one-hot vector is of size 65, mostly filled with zeros.\n",
    "\n",
    "Instead, an embedding layer maps each character to a smaller, dense vector (e.g., size n_embd = 32), reducing computational cost.\n",
    "\n",
    "Capturing Contextual Meaning \n",
    "\n",
    "In one-hot encoding, there's no notion of similarity between characters/words.\n",
    "\n",
    "In an embedding space, similar characters/words (e.g., \"c\" and \"k\" or \"dog\" and \"puppy\") get closer vector representations.\n",
    "\n",
    "Scalability for N-grams 🚀\n",
    "\n",
    "Previously, your model only considered one previous character (ix in xenc).\n",
    "\n",
    "Extending to n-grams means storing a V^n probability table, which blows up in size.\n",
    "\n",
    "Instead, embeddings allow us to compress the information into a fixed-size vector, avoiding this explosion."
   ]
  },
  {
   "cell_type": "markdown",
   "id": "02b61c0e-b213-4f8e-8dc8-3c0ff50a4c01",
   "metadata": {},
   "source": [
    "- Every index plucks out a row from indexing table(16999,30).So it reduces to 30 dimension\n",
    "- Suppose we have 3 index so it makes 90 neurons in total.\n",
    "- Now we have hidden layer(size hyperparamater)\n",
    "- Supoose we have 100 neurons in hidden layer,all of them will be fully connected to 90 char or neurons.\n",
    "- The output layer has 17000 neurons.\n",
    "- Softmax is applied and normalized.\n",
    "- we have label and that index is used to pluck out probability and minimize loss."
   ]
  },
  {
   "cell_type": "code",
   "execution_count": 1,
   "id": "0a923666-7eb1-4aa0-8b44-638707c163dc",
   "metadata": {},
   "outputs": [],
   "source": [
    "import torch\n",
    "import torch.nn.functional as F\n",
    "import matplotlib.pyplot as plt\n",
    "%matplotlib inline"
   ]
  },
  {
   "cell_type": "code",
   "execution_count": 2,
   "id": "ec0a88f3-3287-44cc-93cf-13c8fe1d7891",
   "metadata": {},
   "outputs": [
    {
     "data": {
      "text/plain": [
       "['emma', 'olivia', 'ava', 'isabella', 'sophia', 'charlotte', 'mia', 'amelia']"
      ]
     },
     "execution_count": 2,
     "metadata": {},
     "output_type": "execute_result"
    }
   ],
   "source": [
    "words = open('../names.txt', 'r').read().splitlines()\n",
    "words[:8]"
   ]
  },
  {
   "cell_type": "code",
   "execution_count": 3,
   "id": "706a2b99-29b8-453d-8b49-889d4b8ff5a6",
   "metadata": {},
   "outputs": [
    {
     "data": {
      "text/plain": [
       "32033"
      ]
     },
     "execution_count": 3,
     "metadata": {},
     "output_type": "execute_result"
    }
   ],
   "source": [
    "len(words)"
   ]
  },
  {
   "cell_type": "code",
   "execution_count": 4,
   "id": "f59e5f43-2847-4aef-a6f4-b03f4ee4ea11",
   "metadata": {},
   "outputs": [
    {
     "name": "stdout",
     "output_type": "stream",
     "text": [
      "{1: 'a', 2: 'b', 3: 'c', 4: 'd', 5: 'e', 6: 'f', 7: 'g', 8: 'h', 9: 'i', 10: 'j', 11: 'k', 12: 'l', 13: 'm', 14: 'n', 15: 'o', 16: 'p', 17: 'q', 18: 'r', 19: 's', 20: 't', 21: 'u', 22: 'v', 23: 'w', 24: 'x', 25: 'y', 26: 'z', 0: '.'}\n"
     ]
    }
   ],
   "source": [
    "chars = sorted(list(set(\"\".join(words))))\n",
    "stoi = {s:i+1 for i,s in enumerate(chars)}\n",
    "stoi['.'] = 0\n",
    "itos = {i:s for s,i in stoi.items()}\n",
    "print(itos)"
   ]
  },
  {
   "cell_type": "code",
   "execution_count": 5,
   "id": "6d570f3d-a911-4f89-a1c8-0e4035bfa175",
   "metadata": {},
   "outputs": [
    {
     "name": "stdout",
     "output_type": "stream",
     "text": [
      "emma\n",
      "... ---> e\n",
      "..e ---> m\n",
      ".em ---> m\n",
      "emm ---> a\n",
      "mma ---> .\n",
      "olivia\n",
      "... ---> o\n",
      "..o ---> l\n",
      ".ol ---> i\n",
      "oli ---> v\n",
      "liv ---> i\n",
      "ivi ---> a\n",
      "via ---> .\n",
      "ava\n",
      "... ---> a\n",
      "..a ---> v\n",
      ".av ---> a\n",
      "ava ---> .\n",
      "isabella\n",
      "... ---> i\n",
      "..i ---> s\n",
      ".is ---> a\n",
      "isa ---> b\n",
      "sab ---> e\n",
      "abe ---> l\n",
      "bel ---> l\n",
      "ell ---> a\n",
      "lla ---> .\n",
      "sophia\n",
      "... ---> s\n",
      "..s ---> o\n",
      ".so ---> p\n",
      "sop ---> h\n",
      "oph ---> i\n",
      "phi ---> a\n",
      "hia ---> .\n"
     ]
    }
   ],
   "source": [
    "# build the dataset\n",
    "\n",
    "block_size = 3 # context length: how many characters do we take to predict the next one?\n",
    "X, Y = [], []\n",
    "for w in words[:5]:\n",
    "  print(w)\n",
    "  context = [0] * block_size\n",
    "  for ch in w + '.':\n",
    "    ix = stoi[ch]\n",
    "    X.append(context)\n",
    "    Y.append(ix)\n",
    "    print(''.join(itos[i] for i in context), '--->', itos[ix])\n",
    "    context = context[1:] + [ix] # crop and append\n",
    "  \n",
    "X = torch.tensor(X)\n",
    "Y = torch.tensor(Y)"
   ]
  },
  {
   "cell_type": "code",
   "execution_count": 6,
   "id": "13ecdb6c-7c3e-4a30-bf79-b939fd4819f4",
   "metadata": {},
   "outputs": [
    {
     "data": {
      "text/plain": [
       "(torch.Size([32, 3]), torch.int64, torch.Size([32]), torch.int64)"
      ]
     },
     "execution_count": 6,
     "metadata": {},
     "output_type": "execute_result"
    }
   ],
   "source": [
    "X.shape, X.dtype, Y.shape, Y.dtype # each input to neural network is 3"
   ]
  },
  {
   "cell_type": "code",
   "execution_count": 7,
   "id": "3d747a97-f5c8-4030-a6a8-301d20303596",
   "metadata": {},
   "outputs": [
    {
     "data": {
      "text/plain": [
       "tensor([[ 0,  0,  0],\n",
       "        [ 0,  0,  5],\n",
       "        [ 0,  5, 13],\n",
       "        [ 5, 13, 13],\n",
       "        [13, 13,  1],\n",
       "        [ 0,  0,  0],\n",
       "        [ 0,  0, 15],\n",
       "        [ 0, 15, 12],\n",
       "        [15, 12,  9],\n",
       "        [12,  9, 22],\n",
       "        [ 9, 22,  9],\n",
       "        [22,  9,  1],\n",
       "        [ 0,  0,  0],\n",
       "        [ 0,  0,  1],\n",
       "        [ 0,  1, 22],\n",
       "        [ 1, 22,  1],\n",
       "        [ 0,  0,  0],\n",
       "        [ 0,  0,  9],\n",
       "        [ 0,  9, 19],\n",
       "        [ 9, 19,  1],\n",
       "        [19,  1,  2],\n",
       "        [ 1,  2,  5],\n",
       "        [ 2,  5, 12],\n",
       "        [ 5, 12, 12],\n",
       "        [12, 12,  1],\n",
       "        [ 0,  0,  0],\n",
       "        [ 0,  0, 19],\n",
       "        [ 0, 19, 15],\n",
       "        [19, 15, 16],\n",
       "        [15, 16,  8],\n",
       "        [16,  8,  9],\n",
       "        [ 8,  9,  1]])"
      ]
     },
     "execution_count": 7,
     "metadata": {},
     "output_type": "execute_result"
    }
   ],
   "source": [
    "X"
   ]
  },
  {
   "cell_type": "markdown",
   "id": "3a0f8e7a-0cce-4fc6-9ff8-1384847ada8c",
   "metadata": {},
   "source": [
    "### Implementing embedding look up table"
   ]
  },
  {
   "cell_type": "code",
   "execution_count": 24,
   "id": "d12fabf7-ad31-415a-9dde-0a514909da3a",
   "metadata": {},
   "outputs": [],
   "source": [
    "# We try to embbded the 27 characters to a two dimensional space"
   ]
  },
  {
   "cell_type": "code",
   "execution_count": 8,
   "id": "1c0cb94f-ea94-4529-a938-381807c4682b",
   "metadata": {},
   "outputs": [
    {
     "data": {
      "text/plain": [
       "torch.Size([27, 2])"
      ]
     },
     "execution_count": 8,
     "metadata": {},
     "output_type": "execute_result"
    }
   ],
   "source": [
    "C = torch.randn((27,2))\n",
    "C.shape"
   ]
  },
  {
   "cell_type": "code",
   "execution_count": 9,
   "id": "c58f90a0-9f78-492d-b212-a2a47b3125de",
   "metadata": {},
   "outputs": [
    {
     "data": {
      "text/plain": [
       "tensor([0.1121, 0.4590])"
      ]
     },
     "execution_count": 9,
     "metadata": {},
     "output_type": "execute_result"
    }
   ],
   "source": [
    "C[5]"
   ]
  },
  {
   "cell_type": "code",
   "execution_count": 10,
   "id": "da2311cd-7088-47d5-a3c4-b260c18b52af",
   "metadata": {},
   "outputs": [
    {
     "data": {
      "text/plain": [
       "tensor([0.1121, 0.4590])"
      ]
     },
     "execution_count": 10,
     "metadata": {},
     "output_type": "execute_result"
    }
   ],
   "source": [
    "F.one_hot(torch.tensor(5),num_classes=27).float() @ C # it just masks the other field except one i.e it plucks row index 4"
   ]
  },
  {
   "cell_type": "code",
   "execution_count": 11,
   "id": "37470357-f3a6-4507-a20c-d16caec5ca9c",
   "metadata": {},
   "outputs": [
    {
     "data": {
      "text/plain": [
       "tensor([[ 0.1121,  0.4590],\n",
       "        [-1.6131,  1.6213],\n",
       "        [-0.3135,  0.9303],\n",
       "        [-0.3135,  0.9303],\n",
       "        [-0.3135,  0.9303],\n",
       "        [-0.3135,  0.9303]])"
      ]
     },
     "execution_count": 11,
     "metadata": {},
     "output_type": "execute_result"
    }
   ],
   "source": [
    "C[torch.tensor([5,6,7,7,7,7])] # indexing with one-dimensional tensor of integer"
   ]
  },
  {
   "cell_type": "raw",
   "id": "ec2eb97a-f816-4677-95c3-8144101107cf",
   "metadata": {},
   "source": [
    "X.shape = (32, 3)\n",
    "Here X is range from 0-26.\n",
    "Each value in X is used to index into C, retrieving a vector of shape (2,) for each index.\n",
    "So the result has shape (32, 3, 2) — basically, for each of the 32 samples, each of the 3 elements (characters/tokens/etc) is embedded into a 2-dimensional vector."
   ]
  },
  {
   "cell_type": "code",
   "execution_count": 12,
   "id": "bb85e4e4-6d1b-4368-894b-864f0904e63f",
   "metadata": {},
   "outputs": [
    {
     "data": {
      "text/plain": [
       "tensor([[[ 0.4794, -0.3061],\n",
       "         [ 0.4794, -0.3061],\n",
       "         [ 0.4794, -0.3061]],\n",
       "\n",
       "        [[ 0.4794, -0.3061],\n",
       "         [ 0.4794, -0.3061],\n",
       "         [ 0.1121,  0.4590]],\n",
       "\n",
       "        [[ 0.4794, -0.3061],\n",
       "         [ 0.1121,  0.4590],\n",
       "         [ 0.5714,  0.1948]],\n",
       "\n",
       "        [[ 0.1121,  0.4590],\n",
       "         [ 0.5714,  0.1948],\n",
       "         [ 0.5714,  0.1948]],\n",
       "\n",
       "        [[ 0.5714,  0.1948],\n",
       "         [ 0.5714,  0.1948],\n",
       "         [-1.5317,  1.1566]],\n",
       "\n",
       "        [[ 0.4794, -0.3061],\n",
       "         [ 0.4794, -0.3061],\n",
       "         [ 0.4794, -0.3061]],\n",
       "\n",
       "        [[ 0.4794, -0.3061],\n",
       "         [ 0.4794, -0.3061],\n",
       "         [ 0.8091, -1.7270]],\n",
       "\n",
       "        [[ 0.4794, -0.3061],\n",
       "         [ 0.8091, -1.7270],\n",
       "         [ 1.7060,  0.4160]],\n",
       "\n",
       "        [[ 0.8091, -1.7270],\n",
       "         [ 1.7060,  0.4160],\n",
       "         [-0.7608,  0.4915]],\n",
       "\n",
       "        [[ 1.7060,  0.4160],\n",
       "         [-0.7608,  0.4915],\n",
       "         [-0.9848, -1.0710]],\n",
       "\n",
       "        [[-0.7608,  0.4915],\n",
       "         [-0.9848, -1.0710],\n",
       "         [-0.7608,  0.4915]],\n",
       "\n",
       "        [[-0.9848, -1.0710],\n",
       "         [-0.7608,  0.4915],\n",
       "         [-1.5317,  1.1566]],\n",
       "\n",
       "        [[ 0.4794, -0.3061],\n",
       "         [ 0.4794, -0.3061],\n",
       "         [ 0.4794, -0.3061]],\n",
       "\n",
       "        [[ 0.4794, -0.3061],\n",
       "         [ 0.4794, -0.3061],\n",
       "         [-1.5317,  1.1566]],\n",
       "\n",
       "        [[ 0.4794, -0.3061],\n",
       "         [-1.5317,  1.1566],\n",
       "         [-0.9848, -1.0710]],\n",
       "\n",
       "        [[-1.5317,  1.1566],\n",
       "         [-0.9848, -1.0710],\n",
       "         [-1.5317,  1.1566]],\n",
       "\n",
       "        [[ 0.4794, -0.3061],\n",
       "         [ 0.4794, -0.3061],\n",
       "         [ 0.4794, -0.3061]],\n",
       "\n",
       "        [[ 0.4794, -0.3061],\n",
       "         [ 0.4794, -0.3061],\n",
       "         [-0.7608,  0.4915]],\n",
       "\n",
       "        [[ 0.4794, -0.3061],\n",
       "         [-0.7608,  0.4915],\n",
       "         [-0.0704,  0.1096]],\n",
       "\n",
       "        [[-0.7608,  0.4915],\n",
       "         [-0.0704,  0.1096],\n",
       "         [-1.5317,  1.1566]],\n",
       "\n",
       "        [[-0.0704,  0.1096],\n",
       "         [-1.5317,  1.1566],\n",
       "         [-2.3400,  1.9569]],\n",
       "\n",
       "        [[-1.5317,  1.1566],\n",
       "         [-2.3400,  1.9569],\n",
       "         [ 0.1121,  0.4590]],\n",
       "\n",
       "        [[-2.3400,  1.9569],\n",
       "         [ 0.1121,  0.4590],\n",
       "         [ 1.7060,  0.4160]],\n",
       "\n",
       "        [[ 0.1121,  0.4590],\n",
       "         [ 1.7060,  0.4160],\n",
       "         [ 1.7060,  0.4160]],\n",
       "\n",
       "        [[ 1.7060,  0.4160],\n",
       "         [ 1.7060,  0.4160],\n",
       "         [-1.5317,  1.1566]],\n",
       "\n",
       "        [[ 0.4794, -0.3061],\n",
       "         [ 0.4794, -0.3061],\n",
       "         [ 0.4794, -0.3061]],\n",
       "\n",
       "        [[ 0.4794, -0.3061],\n",
       "         [ 0.4794, -0.3061],\n",
       "         [-0.0704,  0.1096]],\n",
       "\n",
       "        [[ 0.4794, -0.3061],\n",
       "         [-0.0704,  0.1096],\n",
       "         [ 0.8091, -1.7270]],\n",
       "\n",
       "        [[-0.0704,  0.1096],\n",
       "         [ 0.8091, -1.7270],\n",
       "         [-1.1004, -0.5188]],\n",
       "\n",
       "        [[ 0.8091, -1.7270],\n",
       "         [-1.1004, -0.5188],\n",
       "         [ 0.6333,  0.2162]],\n",
       "\n",
       "        [[-1.1004, -0.5188],\n",
       "         [ 0.6333,  0.2162],\n",
       "         [-0.7608,  0.4915]],\n",
       "\n",
       "        [[ 0.6333,  0.2162],\n",
       "         [-0.7608,  0.4915],\n",
       "         [-1.5317,  1.1566]]])"
      ]
     },
     "execution_count": 12,
     "metadata": {},
     "output_type": "execute_result"
    }
   ],
   "source": [
    "C[X]# for every X, we have retrived the embedding. #32,3,2"
   ]
  },
  {
   "cell_type": "markdown",
   "id": "9727614e-8e5c-4990-b275-82623a8dde2c",
   "metadata": {},
   "source": [
    "For every 3 elements in the columns of the X,it has trasnsformed each element into 2 dimensional integer."
   ]
  },
  {
   "cell_type": "code",
   "execution_count": 13,
   "id": "56cb3e0e-dca2-495c-801e-9f27a03d7065",
   "metadata": {},
   "outputs": [
    {
     "data": {
      "text/plain": [
       "tensor(5)"
      ]
     },
     "execution_count": 13,
     "metadata": {},
     "output_type": "execute_result"
    }
   ],
   "source": [
    "X[1,2]"
   ]
  },
  {
   "cell_type": "code",
   "execution_count": 14,
   "id": "267dabad-bfab-43ac-b641-2204e03e31f4",
   "metadata": {},
   "outputs": [
    {
     "data": {
      "text/plain": [
       "tensor([0.1121, 0.4590])"
      ]
     },
     "execution_count": 14,
     "metadata": {},
     "output_type": "execute_result"
    }
   ],
   "source": [
    "C[X][1,2] #== C[5] C[X][1,2] means from C[x] select 1 and then go inside 1 to select 2"
   ]
  },
  {
   "cell_type": "code",
   "execution_count": null,
   "id": "5a4ae018-03d3-4623-b472-5e533f7cd585",
   "metadata": {},
   "outputs": [],
   "source": []
  },
  {
   "cell_type": "code",
   "execution_count": 15,
   "id": "3fbd4369-a7af-4c2f-8879-357377c07bbd",
   "metadata": {},
   "outputs": [
    {
     "data": {
      "text/plain": [
       "tensor([0.1121, 0.4590])"
      ]
     },
     "execution_count": 15,
     "metadata": {},
     "output_type": "execute_result"
    }
   ],
   "source": [
    "C[5]"
   ]
  },
  {
   "cell_type": "code",
   "execution_count": 16,
   "id": "cc3c95c7-2c04-4d1a-9114-47e54b033b75",
   "metadata": {},
   "outputs": [
    {
     "data": {
      "text/plain": [
       "torch.Size([32, 3, 2])"
      ]
     },
     "execution_count": 16,
     "metadata": {},
     "output_type": "execute_result"
    }
   ],
   "source": [
    "emb = C[X]\n",
    "emb.shape"
   ]
  },
  {
   "cell_type": "markdown",
   "id": "3c8d14dd-c928-493a-9928-dd836a94a337",
   "metadata": {},
   "source": [
    "### Implementing the hidden layer"
   ]
  },
  {
   "cell_type": "code",
   "execution_count": 17,
   "id": "acde2cd7-c131-46ec-9d18-89f8a9f475ea",
   "metadata": {},
   "outputs": [],
   "source": [
    "w1 = torch.randn((6,100)) # no of inputs = 3*2 as we have 2-d embedding and we have 3 of them(100 nuerons initliaze)\n",
    "b1 = torch.randn(100)"
   ]
  },
  {
   "cell_type": "code",
   "execution_count": 18,
   "id": "a604e196-181c-4957-aa4e-0b6375b63046",
   "metadata": {},
   "outputs": [
    {
     "data": {
      "text/plain": [
       "torch.Size([6, 100])"
      ]
     },
     "execution_count": 18,
     "metadata": {},
     "output_type": "execute_result"
    }
   ],
   "source": [
    "w1.shape"
   ]
  },
  {
   "cell_type": "code",
   "execution_count": 53,
   "id": "3d4fb3d0-a639-4711-b316-1760d5f24df9",
   "metadata": {},
   "outputs": [],
   "source": [
    "#emb @ w1 + b1 # (32,3,2) @ (6,100)"
   ]
  },
  {
   "cell_type": "code",
   "execution_count": null,
   "id": "c8bb09f3-40d9-4306-a765-b66a4cb2d463",
   "metadata": {},
   "outputs": [],
   "source": []
  },
  {
   "cell_type": "markdown",
   "id": "633aa1fe-4119-409c-8bcf-326aa195a411",
   "metadata": {},
   "source": [
    "- emb[:,0,:] : It selects along all the samples, 0 selects only the first embeddings and : selects across all the first embedding"
   ]
  },
  {
   "cell_type": "code",
   "execution_count": 36,
   "id": "1f7ac0cb-ee09-481b-b74f-3de3a15b1838",
   "metadata": {},
   "outputs": [
    {
     "data": {
      "text/plain": [
       "torch.Size([32, 6])"
      ]
     },
     "execution_count": 36,
     "metadata": {},
     "output_type": "execute_result"
    }
   ],
   "source": [
    "torch.cat([emb[:,0,:],emb[:,1,:],emb[:,2,:]],1).shape # not generalized"
   ]
  },
  {
   "cell_type": "code",
   "execution_count": 37,
   "id": "d03c6c00-a7d2-4b89-9f93-8ca8faa48144",
   "metadata": {},
   "outputs": [
    {
     "data": {
      "text/plain": [
       "torch.Size([32, 6])"
      ]
     },
     "execution_count": 37,
     "metadata": {},
     "output_type": "execute_result"
    }
   ],
   "source": [
    "torch.cat(torch.unbind(emb,1),1).shape"
   ]
  },
  {
   "cell_type": "code",
   "execution_count": 38,
   "id": "ed55d94b-832b-4ea8-a2b9-684298c68cf9",
   "metadata": {},
   "outputs": [
    {
     "data": {
      "text/plain": [
       "torch.Size([18])"
      ]
     },
     "execution_count": 38,
     "metadata": {},
     "output_type": "execute_result"
    }
   ],
   "source": [
    "a = torch.arange(18)\n",
    "a.shape"
   ]
  },
  {
   "cell_type": "code",
   "execution_count": 39,
   "id": "6b3c635c-f1bd-44a8-b26f-74095f28e456",
   "metadata": {},
   "outputs": [
    {
     "data": {
      "text/plain": [
       "tensor([[ 0,  1],\n",
       "        [ 2,  3],\n",
       "        [ 4,  5],\n",
       "        [ 6,  7],\n",
       "        [ 8,  9],\n",
       "        [10, 11],\n",
       "        [12, 13],\n",
       "        [14, 15],\n",
       "        [16, 17]])"
      ]
     },
     "execution_count": 39,
     "metadata": {},
     "output_type": "execute_result"
    }
   ],
   "source": [
    "a.view(9,2) # as long as total number of elements multiplies to be same,it works"
   ]
  },
  {
   "cell_type": "code",
   "execution_count": 40,
   "id": "1edd2994-bf8a-4744-bc6e-d89f1b84a22f",
   "metadata": {},
   "outputs": [
    {
     "data": {
      "text/plain": [
       "<bound method Tensor.storage of tensor([ 0,  1,  2,  3,  4,  5,  6,  7,  8,  9, 10, 11, 12, 13, 14, 15, 16, 17])>"
      ]
     },
     "execution_count": 40,
     "metadata": {},
     "output_type": "execute_result"
    }
   ],
   "source": [
    "a.storage # tensor is always represented as 1d in memory"
   ]
  },
  {
   "cell_type": "code",
   "execution_count": 14,
   "id": "9f7b6b57-fcc3-42fe-8dcb-9ad9b77a56ac",
   "metadata": {},
   "outputs": [
    {
     "data": {
      "text/plain": [
       "torch.Size([32, 3, 2])"
      ]
     },
     "execution_count": 14,
     "metadata": {},
     "output_type": "execute_result"
    }
   ],
   "source": [
    "emb.shape"
   ]
  },
  {
   "cell_type": "code",
   "execution_count": 42,
   "id": "245ebbdf-8e6e-44a4-a71f-9b96a310f8e5",
   "metadata": {},
   "outputs": [
    {
     "data": {
      "text/plain": [
       "tensor([[ 0.9720, -2.4192,  0.9720, -2.4192,  0.9720, -2.4192],\n",
       "        [ 0.9720, -2.4192,  0.9720, -2.4192, -0.4730,  0.9017],\n",
       "        [ 0.9720, -2.4192, -0.4730,  0.9017,  1.5411, -1.0274],\n",
       "        [-0.4730,  0.9017,  1.5411, -1.0274,  1.5411, -1.0274],\n",
       "        [ 1.5411, -1.0274,  1.5411, -1.0274,  0.1552,  0.1962],\n",
       "        [ 0.9720, -2.4192,  0.9720, -2.4192,  0.9720, -2.4192],\n",
       "        [ 0.9720, -2.4192,  0.9720, -2.4192, -1.7019,  0.1018],\n",
       "        [ 0.9720, -2.4192, -1.7019,  0.1018,  0.7051, -1.1771],\n",
       "        [-1.7019,  0.1018,  0.7051, -1.1771,  1.4660,  0.9443],\n",
       "        [ 0.7051, -1.1771,  1.4660,  0.9443, -0.8060,  2.0918],\n",
       "        [ 1.4660,  0.9443, -0.8060,  2.0918,  1.4660,  0.9443],\n",
       "        [-0.8060,  2.0918,  1.4660,  0.9443,  0.1552,  0.1962],\n",
       "        [ 0.9720, -2.4192,  0.9720, -2.4192,  0.9720, -2.4192],\n",
       "        [ 0.9720, -2.4192,  0.9720, -2.4192,  0.1552,  0.1962],\n",
       "        [ 0.9720, -2.4192,  0.1552,  0.1962, -0.8060,  2.0918],\n",
       "        [ 0.1552,  0.1962, -0.8060,  2.0918,  0.1552,  0.1962],\n",
       "        [ 0.9720, -2.4192,  0.9720, -2.4192,  0.9720, -2.4192],\n",
       "        [ 0.9720, -2.4192,  0.9720, -2.4192,  1.4660,  0.9443],\n",
       "        [ 0.9720, -2.4192,  1.4660,  0.9443,  0.5987,  0.6880],\n",
       "        [ 1.4660,  0.9443,  0.5987,  0.6880,  0.1552,  0.1962],\n",
       "        [ 0.5987,  0.6880,  0.1552,  0.1962,  0.2100,  1.5289],\n",
       "        [ 0.1552,  0.1962,  0.2100,  1.5289, -0.4730,  0.9017],\n",
       "        [ 0.2100,  1.5289, -0.4730,  0.9017,  0.7051, -1.1771],\n",
       "        [-0.4730,  0.9017,  0.7051, -1.1771,  0.7051, -1.1771],\n",
       "        [ 0.7051, -1.1771,  0.7051, -1.1771,  0.1552,  0.1962],\n",
       "        [ 0.9720, -2.4192,  0.9720, -2.4192,  0.9720, -2.4192],\n",
       "        [ 0.9720, -2.4192,  0.9720, -2.4192,  0.5987,  0.6880],\n",
       "        [ 0.9720, -2.4192,  0.5987,  0.6880, -1.7019,  0.1018],\n",
       "        [ 0.5987,  0.6880, -1.7019,  0.1018,  1.7076,  0.3849],\n",
       "        [-1.7019,  0.1018,  1.7076,  0.3849,  0.9033,  0.0156],\n",
       "        [ 1.7076,  0.3849,  0.9033,  0.0156,  1.4660,  0.9443],\n",
       "        [ 0.9033,  0.0156,  1.4660,  0.9443,  0.1552,  0.1962]])"
      ]
     },
     "execution_count": 42,
     "metadata": {},
     "output_type": "execute_result"
    }
   ],
   "source": [
    "emb.view(32,6)"
   ]
  },
  {
   "cell_type": "code",
   "execution_count": 19,
   "id": "d2a55ce5-caca-4851-8140-33408342b342",
   "metadata": {},
   "outputs": [],
   "source": [
    "h = torch.tanh(emb.view(-1,6) @ w1 + b1)"
   ]
  },
  {
   "cell_type": "code",
   "execution_count": 20,
   "id": "d6f200b8-cd31-4563-9a8a-a16f9dc057df",
   "metadata": {},
   "outputs": [
    {
     "data": {
      "text/plain": [
       "torch.Size([32, 100])"
      ]
     },
     "execution_count": 20,
     "metadata": {},
     "output_type": "execute_result"
    }
   ],
   "source": [
    "h.shape"
   ]
  },
  {
   "cell_type": "code",
   "execution_count": 21,
   "id": "db4e5bb2-d08d-4123-855c-8fc90cfa4f89",
   "metadata": {},
   "outputs": [
    {
     "data": {
      "text/plain": [
       "tensor([[-0.9862, -0.6933, -0.9714,  ...,  0.9214, -0.9986,  0.6488],\n",
       "        [-0.9672, -0.6539, -0.9838,  ...,  0.5335, -0.9735,  0.9438],\n",
       "        [-0.9136, -0.6529, -0.6361,  ...,  0.8377, -0.9981, -0.2533],\n",
       "        ...,\n",
       "        [-0.9936, -0.7986,  0.7351,  ...,  0.7802, -0.9986,  0.9871],\n",
       "        [ 0.5678, -0.5599, -0.9843,  ..., -0.9272, -0.9348,  0.1073],\n",
       "        [ 0.9487, -0.9539,  0.1167,  ..., -0.9499, -0.9553,  0.9954]])"
      ]
     },
     "execution_count": 21,
     "metadata": {},
     "output_type": "execute_result"
    }
   ],
   "source": [
    "h"
   ]
  },
  {
   "cell_type": "markdown",
   "id": "af4d9b4d-8734-42a6-adc6-a8a30ad3cbd1",
   "metadata": {},
   "source": [
    "### Implementing the output layer"
   ]
  },
  {
   "cell_type": "code",
   "execution_count": 22,
   "id": "a4c473e7-6e8f-4d63-b1ac-ba9e491c91ed",
   "metadata": {},
   "outputs": [],
   "source": [
    "w2 = torch.randn((100,27))\n",
    "b2 = torch.randn(27)"
   ]
  },
  {
   "cell_type": "markdown",
   "id": "9ee684fd-a586-4c56-8de3-9c8de975596f",
   "metadata": {},
   "source": [
    "### Implementing negative log likelihood"
   ]
  },
  {
   "cell_type": "code",
   "execution_count": 23,
   "id": "cd2e3540-fe1f-43f5-8a64-10cf907cf1a2",
   "metadata": {},
   "outputs": [
    {
     "data": {
      "text/plain": [
       "torch.Size([32, 27])"
      ]
     },
     "execution_count": 23,
     "metadata": {},
     "output_type": "execute_result"
    }
   ],
   "source": [
    "logits = h @ w2\n",
    "logits.shape"
   ]
  },
  {
   "cell_type": "code",
   "execution_count": 24,
   "id": "aa5faf80-b224-42ef-bb76-b90a3fb42380",
   "metadata": {},
   "outputs": [
    {
     "data": {
      "text/plain": [
       "tensor([[9.1099e+01, 9.2621e+01, 5.7681e+02, 3.8498e-02, 1.4461e-02, 4.8323e+01,\n",
       "         1.6925e-01, 2.5649e+04, 1.5505e+00, 2.3333e-01, 1.4197e+02, 3.0724e-01,\n",
       "         2.4093e+02, 9.1286e+01, 1.8335e+00, 3.2034e-08, 3.2318e+00, 7.6553e+05,\n",
       "         2.4708e-03, 1.8331e+02, 4.6030e-01, 2.4202e-01, 1.4278e-03, 7.2995e-04,\n",
       "         1.8891e+00, 1.5313e+01, 1.8516e+01],\n",
       "        [1.2493e-01, 2.9464e+02, 1.3383e+00, 1.0004e+01, 9.6498e-05, 2.8401e+01,\n",
       "         1.4287e+01, 1.0869e+03, 1.9006e+01, 2.3558e+02, 6.7013e-02, 5.7793e-02,\n",
       "         1.0924e+04, 5.9791e+00, 1.8573e+00, 1.9024e-08, 8.4705e+02, 2.0524e+05,\n",
       "         5.3165e-04, 7.1336e-01, 1.3571e-02, 1.2659e+01, 2.3057e-02, 2.2430e-03,\n",
       "         1.6878e+00, 1.6543e+04, 9.8425e-02],\n",
       "        [1.0034e+00, 1.2936e-01, 4.9004e+00, 1.6094e+02, 3.2810e-02, 1.4387e+00,\n",
       "         2.8581e+00, 1.0776e+04, 2.8289e+00, 1.2053e+02, 3.0043e-03, 2.3919e-02,\n",
       "         3.2427e+01, 3.7090e-01, 1.9494e-03, 1.1844e-03, 1.2585e+00, 3.9359e+03,\n",
       "         7.9348e-02, 1.2225e+02, 2.3781e-01, 2.3681e+02, 2.4126e+01, 1.3618e-02,\n",
       "         5.1719e+00, 8.8493e+07, 8.3702e-04],\n",
       "        [1.6189e+01, 2.7243e+01, 2.8976e-02, 4.2723e+06, 4.1123e-04, 3.2671e-02,\n",
       "         2.1481e+00, 1.0393e+00, 3.0107e+05, 6.2101e+02, 1.8556e-03, 4.2634e+00,\n",
       "         1.1222e+01, 5.3304e+01, 5.4212e-01, 7.7465e-05, 3.6677e+02, 5.4292e+04,\n",
       "         1.0638e-04, 3.3304e+01, 1.1462e-02, 1.2093e+02, 2.2137e+00, 6.9518e-02,\n",
       "         7.6683e-01, 1.3850e+04, 1.5076e-01],\n",
       "        [1.2161e-04, 1.1970e-05, 9.2389e-03, 9.3947e-01, 5.8382e-06, 7.4498e-01,\n",
       "         4.8328e-01, 1.0724e-06, 1.8035e+03, 1.1111e+08, 3.2986e+02, 6.8217e-05,\n",
       "         2.8299e+02, 2.1405e-03, 7.0324e-03, 9.8477e-04, 8.4964e+04, 1.8038e-01,\n",
       "         4.9348e-01, 5.5674e-06, 6.9113e+01, 3.6733e+00, 1.6372e+00, 1.2939e-07,\n",
       "         4.9353e-02, 1.0336e+03, 3.4253e-09],\n",
       "        [9.1099e+01, 9.2621e+01, 5.7681e+02, 3.8498e-02, 1.4461e-02, 4.8323e+01,\n",
       "         1.6925e-01, 2.5649e+04, 1.5505e+00, 2.3333e-01, 1.4197e+02, 3.0724e-01,\n",
       "         2.4093e+02, 9.1286e+01, 1.8335e+00, 3.2034e-08, 3.2318e+00, 7.6553e+05,\n",
       "         2.4708e-03, 1.8331e+02, 4.6030e-01, 2.4202e-01, 1.4278e-03, 7.2995e-04,\n",
       "         1.8891e+00, 1.5313e+01, 1.8516e+01],\n",
       "        [1.3990e+08, 6.7248e-01, 7.3425e+06, 1.8150e-02, 2.2108e-01, 1.5263e+03,\n",
       "         5.8691e-03, 1.7849e+03, 3.6480e-03, 2.0911e-02, 1.0152e+02, 4.2428e+02,\n",
       "         1.1886e+01, 1.7972e+01, 5.8785e-02, 3.0095e-05, 2.3154e-04, 2.6881e+06,\n",
       "         1.8745e-03, 3.6262e+02, 3.9513e-01, 8.0713e-04, 4.4577e-03, 2.5920e-02,\n",
       "         5.7274e-03, 2.0195e-01, 1.4187e-01],\n",
       "        [2.1258e+01, 4.8580e+06, 3.1079e-01, 6.8533e-01, 7.0585e-01, 9.8925e+00,\n",
       "         7.6288e-01, 4.1345e+05, 7.2029e+02, 1.2851e+00, 1.6648e+00, 4.0531e-01,\n",
       "         7.2103e+02, 6.8865e-01, 4.9886e+05, 4.4444e-10, 3.1384e+00, 1.3914e+07,\n",
       "         3.0443e-06, 5.4652e+04, 7.1356e-01, 5.6502e+00, 2.1802e-06, 1.7644e+01,\n",
       "         8.4001e+04, 1.9110e-05, 5.2700e+09],\n",
       "        [5.0890e-07, 2.6687e-03, 3.5195e+02, 6.0428e-03, 8.2325e-07, 1.4336e+01,\n",
       "         3.0675e+00, 8.2796e+00, 1.6253e-02, 2.4645e-02, 6.1661e+00, 1.2205e-02,\n",
       "         1.9704e+07, 5.0715e+02, 6.5594e-04, 2.5661e-01, 3.5630e+00, 3.4182e+01,\n",
       "         1.0829e-01, 5.1784e-02, 4.9169e+00, 1.5503e+00, 3.8392e-02, 1.0781e-09,\n",
       "         4.6672e-05, 2.1500e+05, 4.0765e-07],\n",
       "        [1.0966e+00, 4.4981e-08, 7.6141e+03, 1.2138e-04, 2.2643e-05, 1.0161e+04,\n",
       "         2.3183e-02, 7.8990e+02, 1.8254e-06, 9.1340e+01, 8.5219e+03, 1.1342e-01,\n",
       "         1.2954e+05, 1.8193e-05, 6.6508e+00, 3.9192e-02, 5.9595e-02, 2.3267e-02,\n",
       "         1.2059e+05, 4.4463e-01, 8.7655e+03, 5.4282e-06, 1.2591e-02, 9.1728e-07,\n",
       "         2.7101e+01, 5.5057e+00, 1.0433e-03],\n",
       "        [4.0312e+06, 5.4257e-05, 5.5705e-01, 3.2811e-01, 6.8461e+00, 1.5636e+01,\n",
       "         1.7774e-03, 6.3479e-02, 1.2508e+02, 2.5426e+02, 5.3855e-03, 6.3429e-05,\n",
       "         3.0387e-03, 3.0820e-04, 8.8940e+02, 1.0210e-07, 8.9697e+02, 2.8192e+00,\n",
       "         6.5617e-01, 1.0918e-09, 9.3047e-06, 4.8205e+00, 6.5054e-02, 1.9857e+02,\n",
       "         2.9759e+05, 6.8680e-05, 4.5072e+03],\n",
       "        [2.4711e-02, 2.2324e-09, 9.8186e-01, 1.3921e-03, 2.2343e-02, 5.7204e+01,\n",
       "         3.0561e-04, 3.2877e-07, 1.2410e+01, 9.9045e+01, 4.0700e+00, 3.3502e-05,\n",
       "         2.8888e-03, 3.9306e-02, 1.5365e-03, 5.8595e-02, 2.3496e+02, 2.1989e-05,\n",
       "         2.4999e+02, 9.0767e-11, 8.7186e-04, 3.6022e-01, 1.7838e+00, 4.8779e-03,\n",
       "         1.2076e+01, 5.9621e-03, 5.8279e-04],\n",
       "        [9.1099e+01, 9.2621e+01, 5.7681e+02, 3.8498e-02, 1.4461e-02, 4.8323e+01,\n",
       "         1.6925e-01, 2.5649e+04, 1.5505e+00, 2.3333e-01, 1.4197e+02, 3.0724e-01,\n",
       "         2.4093e+02, 9.1286e+01, 1.8335e+00, 3.2034e-08, 3.2318e+00, 7.6553e+05,\n",
       "         2.4708e-03, 1.8331e+02, 4.6030e-01, 2.4202e-01, 1.4278e-03, 7.2995e-04,\n",
       "         1.8891e+00, 1.5313e+01, 1.8516e+01],\n",
       "        [2.2046e-03, 5.8982e-04, 5.1385e-02, 2.3361e-01, 3.1853e-07, 3.7445e+00,\n",
       "         1.5608e-01, 2.8800e-04, 3.8820e+02, 3.3839e+05, 9.0705e+02, 4.5378e-03,\n",
       "         6.7121e+01, 1.7217e-01, 1.3818e-01, 5.2867e-04, 6.1718e+04, 8.2870e-02,\n",
       "         1.3759e-01, 1.1319e-07, 1.0689e-01, 1.8155e-01, 3.4323e+00, 8.0483e-07,\n",
       "         7.4002e-02, 3.8293e+01, 1.0588e-07],\n",
       "        [9.2279e+04, 2.9531e-11, 5.4720e+00, 1.6206e-01, 2.7166e+03, 4.0361e+01,\n",
       "         2.3585e-04, 9.7453e-02, 9.8704e-02, 2.1185e-01, 1.1626e+00, 2.4860e-03,\n",
       "         5.1215e+00, 1.0817e-06, 5.4212e-03, 4.6714e+05, 7.4198e-02, 2.8061e-04,\n",
       "         1.2797e+07, 4.3051e-02, 5.8393e-02, 1.2518e-04, 1.6071e+04, 4.3572e-03,\n",
       "         1.8015e+02, 6.3396e+02, 7.5788e-08],\n",
       "        [2.1229e+04, 7.0545e-06, 5.4257e-04, 3.5918e-01, 1.1180e+01, 2.3151e-02,\n",
       "         4.2345e-05, 3.5895e-04, 7.7795e+03, 3.1729e+02, 2.2415e-01, 6.0528e-06,\n",
       "         6.2432e-03, 8.8604e-06, 2.0060e+00, 3.3835e-05, 5.5597e+05, 2.0415e-01,\n",
       "         4.4209e-01, 7.4326e-12, 3.6078e-05, 1.6862e+00, 2.7436e+00, 1.2039e+01,\n",
       "         2.4885e+03, 7.6244e-03, 1.1418e+00],\n",
       "        [9.1099e+01, 9.2621e+01, 5.7681e+02, 3.8498e-02, 1.4461e-02, 4.8323e+01,\n",
       "         1.6925e-01, 2.5649e+04, 1.5505e+00, 2.3333e-01, 1.4197e+02, 3.0724e-01,\n",
       "         2.4093e+02, 9.1286e+01, 1.8335e+00, 3.2034e-08, 3.2318e+00, 7.6553e+05,\n",
       "         2.4708e-03, 1.8331e+02, 4.6030e-01, 2.4202e-01, 1.4278e-03, 7.2995e-04,\n",
       "         1.8891e+00, 1.5313e+01, 1.8516e+01],\n",
       "        [1.1456e-01, 6.4603e-04, 1.4060e+00, 1.8141e-01, 3.2796e-07, 4.8951e+00,\n",
       "         2.1898e-01, 1.8265e+00, 3.4831e+01, 3.5313e+03, 2.9540e+01, 5.6305e-02,\n",
       "         2.0851e+02, 1.4281e+01, 3.6896e-02, 9.9644e-06, 1.5114e+04, 5.3927e+00,\n",
       "         5.8627e-03, 1.8906e-05, 1.3805e-01, 1.5172e-01, 6.8601e-01, 2.0420e-06,\n",
       "         4.9047e-02, 1.8446e+02, 1.9711e-05],\n",
       "        [7.9851e+01, 3.5394e-08, 1.3321e+01, 8.8565e-01, 1.1160e+01, 3.6883e+00,\n",
       "         2.3515e-05, 2.0836e+00, 2.2593e-02, 2.3014e+01, 3.7658e-02, 7.3985e-04,\n",
       "         1.2670e-01, 6.9858e-04, 6.3625e-03, 2.9387e-01, 5.3826e+01, 9.0068e-02,\n",
       "         6.9718e+00, 2.8336e-02, 9.7433e-04, 9.5205e+00, 5.8209e-01, 7.6587e-01,\n",
       "         3.5742e+04, 1.3477e+04, 3.5274e-04],\n",
       "        [6.6143e-01, 1.0839e-08, 3.3799e-05, 7.1907e+00, 1.9304e-02, 1.7182e-02,\n",
       "         1.1178e-01, 3.9328e-07, 9.0785e+03, 1.2828e+06, 8.2677e+02, 6.8812e-04,\n",
       "         1.2086e-04, 1.5560e-03, 5.3420e-02, 1.4836e-02, 9.5439e+05, 2.4316e-01,\n",
       "         7.4910e+02, 1.4873e-09, 5.3644e-02, 3.3084e-03, 1.9911e-01, 4.4508e-06,\n",
       "         1.1740e+00, 8.1699e-02, 2.2998e-04],\n",
       "        [1.1164e-03, 8.9687e-09, 9.2376e-05, 1.4571e-03, 1.2340e+00, 1.4395e+01,\n",
       "         1.5162e-02, 1.9329e-07, 3.7476e+02, 2.7427e+03, 6.3702e+02, 1.5597e-04,\n",
       "         9.3117e-02, 3.4569e-04, 3.7324e-02, 5.7386e+00, 1.4118e+06, 1.7111e-07,\n",
       "         9.7736e+05, 4.7101e-10, 2.2588e-04, 6.7816e+02, 7.2028e+01, 1.0998e-04,\n",
       "         1.6417e+02, 4.9676e+02, 5.4635e-08],\n",
       "        [7.8684e+04, 7.1774e-05, 6.8217e-03, 2.4328e+04, 2.3752e+05, 9.1045e-02,\n",
       "         4.8199e-04, 9.1961e-06, 2.2365e+05, 6.7068e+03, 1.6133e-04, 6.4864e-01,\n",
       "         2.6548e-09, 1.2443e-03, 1.7220e-04, 2.5415e+05, 3.2966e+00, 1.8093e-02,\n",
       "         7.0443e+02, 7.5974e-02, 2.7103e-08, 3.9880e+01, 3.3859e+02, 7.8111e+01,\n",
       "         1.3334e+02, 5.2813e+01, 2.7153e-08],\n",
       "        [7.4574e+08, 3.2981e+01, 2.1134e-06, 4.6726e+08, 2.4972e+04, 2.3477e-06,\n",
       "         1.8527e+00, 1.2967e-07, 1.0629e+07, 6.5056e+04, 2.4566e-07, 9.9646e+02,\n",
       "         1.5041e-05, 9.5373e+00, 2.7757e-04, 3.6104e-02, 3.9428e-02, 6.7337e+04,\n",
       "         2.2835e-04, 1.9200e+03, 1.5655e-02, 5.1755e+00, 1.4484e+00, 1.6976e+04,\n",
       "         4.0578e+00, 2.1217e+04, 5.9352e-02],\n",
       "        [1.8008e-03, 2.4367e+09, 3.5825e-01, 2.3597e+06, 5.8970e-05, 2.6396e-03,\n",
       "         4.2938e+02, 2.0402e+02, 1.2025e+06, 4.4954e+00, 8.5307e-03, 7.5301e+02,\n",
       "         1.9787e+01, 4.8208e+04, 5.5517e+01, 1.2905e-01, 1.9120e+03, 1.2471e+07,\n",
       "         2.2429e-05, 3.5180e+02, 1.0496e-02, 3.9685e+02, 7.6743e-03, 1.2229e-03,\n",
       "         1.2184e-01, 2.9928e+04, 7.0497e+00],\n",
       "        [4.5665e-10, 3.8847e-03, 2.5818e+00, 3.7102e-02, 1.0513e-11, 6.7517e-01,\n",
       "         9.1193e+00, 1.9755e-02, 3.2237e+01, 1.1513e+04, 4.6519e+00, 6.7135e-03,\n",
       "         4.2914e+05, 2.8890e+01, 2.9316e-07, 8.4945e-02, 2.7932e+04, 8.0067e-01,\n",
       "         6.1824e-04, 5.0281e-03, 3.7613e+03, 1.4459e-01, 2.3312e-01, 1.5236e-07,\n",
       "         1.2149e-02, 1.7891e+05, 1.4244e-09],\n",
       "        [9.1099e+01, 9.2621e+01, 5.7681e+02, 3.8498e-02, 1.4461e-02, 4.8323e+01,\n",
       "         1.6925e-01, 2.5649e+04, 1.5505e+00, 2.3333e-01, 1.4197e+02, 3.0724e-01,\n",
       "         2.4093e+02, 9.1286e+01, 1.8335e+00, 3.2034e-08, 3.2318e+00, 7.6553e+05,\n",
       "         2.4708e-03, 1.8331e+02, 4.6030e-01, 2.4202e-01, 1.4278e-03, 7.2995e-04,\n",
       "         1.8891e+00, 1.5313e+01, 1.8516e+01],\n",
       "        [4.9670e-01, 1.8494e-01, 5.5594e+00, 1.4148e-01, 2.3376e-05, 2.1451e+01,\n",
       "         4.4048e-01, 7.3093e+02, 4.9632e+00, 1.1754e+02, 7.7258e+00, 2.6158e-01,\n",
       "         5.8422e+02, 6.4510e+01, 7.0583e-01, 7.5888e-08, 1.3487e+02, 6.4582e+03,\n",
       "         4.2584e-03, 1.1832e-01, 4.5930e-02, 2.1960e-01, 5.9177e-03, 7.4627e-05,\n",
       "         4.8269e-01, 7.4606e+02, 2.1557e-01],\n",
       "        [2.7248e+09, 5.7599e-04, 5.8460e+06, 4.6715e-03, 9.0977e+01, 4.1955e+03,\n",
       "         2.1398e-04, 2.5812e+04, 8.4945e-05, 2.1562e-02, 3.4292e+01, 4.7192e+01,\n",
       "         5.5514e+00, 1.6470e+00, 2.4271e-02, 8.5399e-05, 1.0749e-03, 1.2106e+03,\n",
       "         5.0937e-03, 4.9720e+01, 1.8851e-01, 9.0122e-03, 4.1591e-03, 8.2325e-01,\n",
       "         6.1285e-01, 1.3613e+00, 7.0903e-02],\n",
       "        [1.7792e+04, 3.6603e-04, 1.0151e+03, 2.2509e-02, 2.3632e-03, 1.9753e+02,\n",
       "         6.3424e-05, 1.1590e+03, 1.7994e+03, 5.7306e+00, 2.6489e+03, 7.5618e+00,\n",
       "         1.7079e-01, 4.9364e-01, 2.9569e+02, 4.5475e-10, 8.6825e-01, 3.5497e+01,\n",
       "         1.2415e-03, 3.0467e-03, 2.5005e-02, 7.9738e-05, 3.9043e-02, 1.5838e-03,\n",
       "         5.0214e-02, 3.8263e-08, 7.4535e+02],\n",
       "        [1.8521e+04, 1.0411e-02, 8.5006e+02, 1.7466e-05, 2.0695e+02, 2.0082e+05,\n",
       "         3.0239e-02, 4.0148e+04, 6.7287e-05, 1.7154e-03, 7.6084e-02, 1.0473e-02,\n",
       "         8.8074e-02, 1.7040e-04, 8.0536e+00, 6.6182e-06, 6.7061e+01, 9.0726e+00,\n",
       "         3.5904e-02, 2.0262e+00, 1.0836e-04, 2.4676e+02, 1.3533e-04, 1.6329e+00,\n",
       "         2.8232e+07, 9.7991e-01, 5.9251e+01],\n",
       "        [1.0783e-01, 4.3124e-05, 6.0548e-01, 8.6037e+01, 3.6896e-06, 9.2394e-02,\n",
       "         3.7452e-02, 1.2393e-06, 2.4113e+05, 3.7483e+01, 5.1544e+00, 3.0601e-04,\n",
       "         2.8869e-02, 1.3918e+01, 1.0652e-03, 1.0401e-03, 2.8783e+01, 4.7389e+03,\n",
       "         5.0517e-03, 9.0241e-08, 1.6177e-01, 1.1077e-04, 5.5139e+01, 2.1484e-04,\n",
       "         7.7488e-02, 5.6304e-01, 9.2405e-04],\n",
       "        [3.1316e-04, 1.4623e-07, 3.5333e-03, 4.6466e-01, 4.3403e-03, 2.6425e-01,\n",
       "         3.5790e-03, 2.1759e-06, 8.9608e+01, 2.8744e+04, 2.7660e+02, 1.7135e-06,\n",
       "         5.6179e+01, 8.6300e-05, 6.6937e-02, 2.3548e-02, 3.8118e+06, 8.1812e-05,\n",
       "         2.6368e+02, 2.7089e-08, 3.5329e-02, 1.1843e+02, 2.9008e+01, 4.2435e-05,\n",
       "         1.9077e+04, 6.5607e+02, 1.1614e-07]])"
      ]
     },
     "execution_count": 24,
     "metadata": {},
     "output_type": "execute_result"
    }
   ],
   "source": [
    "counts = logits.exp()\n",
    "counts"
   ]
  },
  {
   "cell_type": "code",
   "execution_count": 25,
   "id": "5e54427a-2cea-4541-9514-810394cc8599",
   "metadata": {},
   "outputs": [],
   "source": [
    "prob = counts/counts.sum(1,keepdim=True)"
   ]
  },
  {
   "cell_type": "code",
   "execution_count": 26,
   "id": "0537c7db-25fe-492a-94e4-4bfb65865d22",
   "metadata": {},
   "outputs": [
    {
     "data": {
      "text/plain": [
       "torch.Size([32, 27])"
      ]
     },
     "execution_count": 26,
     "metadata": {},
     "output_type": "execute_result"
    }
   ],
   "source": [
    "prob.shape"
   ]
  },
  {
   "cell_type": "code",
   "execution_count": 27,
   "id": "45e7fb55-cf38-4dce-b8f3-fc0d81864761",
   "metadata": {},
   "outputs": [
    {
     "data": {
      "text/plain": [
       "tensor([1.1492e-04, 1.1684e-04, 7.2766e-04, 4.8566e-08, 1.8243e-08, 6.0960e-05,\n",
       "        2.1352e-07, 3.2357e-02, 1.9560e-06, 2.9435e-07, 1.7910e-04, 3.8760e-07,\n",
       "        3.0393e-04, 1.1516e-04, 2.3129e-06, 4.0412e-14, 4.0770e-06, 9.6574e-01,\n",
       "        3.1169e-09, 2.3125e-04, 5.8068e-07, 3.0532e-07, 1.8011e-09, 9.2085e-10,\n",
       "        2.3831e-06, 1.9318e-05, 2.3358e-05])"
      ]
     },
     "execution_count": 27,
     "metadata": {},
     "output_type": "execute_result"
    }
   ],
   "source": [
    "prob[0]"
   ]
  },
  {
   "cell_type": "code",
   "execution_count": 28,
   "id": "e46d83c2-9075-41a7-9c03-7a919f391cfb",
   "metadata": {},
   "outputs": [
    {
     "data": {
      "text/plain": [
       "(tensor([ 0,  1,  2,  3,  4,  5,  6,  7,  8,  9, 10, 11, 12, 13, 14, 15, 16, 17,\n",
       "         18, 19, 20, 21, 22, 23, 24, 25, 26, 27, 28, 29, 30, 31]),\n",
       " tensor([ 5, 13, 13,  1,  0, 15, 12,  9, 22,  9,  1,  0,  1, 22,  1,  0,  9, 19,\n",
       "          1,  2,  5, 12, 12,  1,  0, 19, 15, 16,  8,  9,  1,  0]))"
      ]
     },
     "execution_count": 28,
     "metadata": {},
     "output_type": "execute_result"
    }
   ],
   "source": [
    "torch.arange(32),Y"
   ]
  },
  {
   "cell_type": "code",
   "execution_count": 29,
   "id": "3a2bc2fc-68e7-481d-b2d3-676a0083d363",
   "metadata": {},
   "outputs": [
    {
     "data": {
      "text/plain": [
       "tensor([6.0960e-05, 2.5414e-05, 4.1905e-09, 5.8677e-06, 1.0936e-12, 4.0412e-14,\n",
       "        7.9277e-08, 2.4293e-10, 1.9274e-09, 3.1924e-04, 1.2514e-11, 3.6716e-05,\n",
       "        1.1684e-04, 8.5483e-06, 2.2077e-18, 3.6116e-02, 2.9435e-07, 9.8819e-10,\n",
       "        7.1610e-13, 1.5036e-11, 6.0123e-06, 3.2125e-15, 1.2290e-14, 9.9343e-01,\n",
       "        7.0110e-16, 2.3125e-04, 8.5465e-12, 3.9362e-13, 7.0006e-02, 6.0206e-11,\n",
       "        1.7523e-10, 8.1105e-11])"
      ]
     },
     "execution_count": 29,
     "metadata": {},
     "output_type": "execute_result"
    }
   ],
   "source": [
    "prob[torch.arange(32),Y]"
   ]
  },
  {
   "cell_type": "code",
   "execution_count": 30,
   "id": "c793be86-b08a-4c2b-a310-1b2ca301d12b",
   "metadata": {},
   "outputs": [
    {
     "data": {
      "text/plain": [
       "tensor(19.1225)"
      ]
     },
     "execution_count": 30,
     "metadata": {},
     "output_type": "execute_result"
    }
   ],
   "source": [
    "loss = - prob[torch.arange(32),Y].log().mean()\n",
    "loss"
   ]
  },
  {
   "cell_type": "markdown",
   "id": "6be6e90f-d8c3-4392-8bd6-a9c86444e7ac",
   "metadata": {},
   "source": [
    "prob[torch.arange(32), Y]: This indexing operation does the following:\n",
    "\n",
    "For the first row (sample 0), it selects the element from the 6th column (index 5) because Y[0] = 5. This is the predicted probability for the correct character (index 5) for the first sample.\n",
    "For the second row (sample 1), it selects the element from the 13th column (index 12) because Y[1] = 12. This is the predicted probability for the correct character (index 12) for the second sample.\n",
    "This continues for all 32 samples, selecting the predicted probability corresponding to the correct character for each sample."
   ]
  },
  {
   "cell_type": "code",
   "execution_count": 54,
   "id": "8655e9ec-062b-4bfe-b639-ad6fd76a5ed6",
   "metadata": {},
   "outputs": [
    {
     "data": {
      "text/plain": [
       "tensor([ 0,  1,  2,  3,  4,  5,  6,  7,  8,  9, 10, 11, 12, 13, 14, 15, 16, 17,\n",
       "        18, 19, 20, 21, 22, 23, 24, 25, 26, 27, 28, 29, 30, 31])"
      ]
     },
     "execution_count": 54,
     "metadata": {},
     "output_type": "execute_result"
    }
   ],
   "source": [
    "torch.arange(32)"
   ]
  },
  {
   "cell_type": "code",
   "execution_count": 55,
   "id": "edbb7c99-06f2-4984-beaf-b5eadfe7d961",
   "metadata": {},
   "outputs": [
    {
     "data": {
      "text/plain": [
       "tensor([ 5, 13, 13,  1,  0, 15, 12,  9, 22,  9,  1,  0,  1, 22,  1,  0,  9, 19,\n",
       "         1,  2,  5, 12, 12,  1,  0, 19, 15, 16,  8,  9,  1,  0])"
      ]
     },
     "execution_count": 55,
     "metadata": {},
     "output_type": "execute_result"
    }
   ],
   "source": [
    "Y"
   ]
  },
  {
   "cell_type": "markdown",
   "id": "97c3c04b-82c6-433b-b5b0-b31640faf1d8",
   "metadata": {},
   "source": [
    "### SUMMARY"
   ]
  },
  {
   "cell_type": "code",
   "execution_count": 31,
   "id": "421fca1f-d56b-4f3e-9ec4-75fd03897e33",
   "metadata": {},
   "outputs": [
    {
     "data": {
      "text/plain": [
       "(torch.Size([32, 3]), torch.Size([32]))"
      ]
     },
     "execution_count": 31,
     "metadata": {},
     "output_type": "execute_result"
    }
   ],
   "source": [
    "X.shape, Y.shape"
   ]
  },
  {
   "cell_type": "code",
   "execution_count": null,
   "id": "83ec8ecc-24a5-45ca-91d4-f4c4e8c0b811",
   "metadata": {},
   "outputs": [],
   "source": []
  },
  {
   "cell_type": "code",
   "execution_count": 32,
   "id": "926555c8-8610-43e8-a979-41f8c17a5777",
   "metadata": {},
   "outputs": [],
   "source": [
    "g = torch.Generator().manual_seed(2147483647) # for reproducibility\n",
    "C = torch.randn((27, 2), generator=g)\n",
    "W1 = torch.randn((6, 100), generator=g)\n",
    "b1 = torch.randn(100, generator=g)\n",
    "W2 = torch.randn((100, 27), generator=g)\n",
    "b2 = torch.randn(27, generator=g)\n",
    "parameters = [C, W1, b1, W2, b2]"
   ]
  },
  {
   "cell_type": "code",
   "execution_count": 33,
   "id": "4ab2aa45-b5a2-4910-b100-9477423044b6",
   "metadata": {},
   "outputs": [
    {
     "data": {
      "text/plain": [
       "3481"
      ]
     },
     "execution_count": 33,
     "metadata": {},
     "output_type": "execute_result"
    }
   ],
   "source": [
    "sum(p.nelement() for p in parameters) # number of parameters in total"
   ]
  },
  {
   "cell_type": "code",
   "execution_count": 34,
   "id": "47685101-b964-4c32-9b0f-f7cd00135171",
   "metadata": {},
   "outputs": [],
   "source": [
    "for p in parameters:\n",
    "    p.requires_grad = True"
   ]
  },
  {
   "cell_type": "code",
   "execution_count": 50,
   "id": "bb0e9ed6-f3ad-48b6-8362-2e2a1f3d4268",
   "metadata": {},
   "outputs": [
    {
     "name": "stdout",
     "output_type": "stream",
     "text": [
      "2.574934720993042\n",
      "2.5746254920959473\n",
      "2.574327230453491\n",
      "2.574038505554199\n",
      "2.573758602142334\n",
      "2.5734872817993164\n",
      "2.573223114013672\n",
      "2.5729668140411377\n",
      "2.572716236114502\n",
      "2.5724728107452393\n"
     ]
    }
   ],
   "source": [
    "for _ in range(10):\n",
    "    #forward pass\n",
    "    emb = C[X] # 32,3,2\n",
    "    h = torch.tanh(emb.view(-1,6) @ W1 + b1)\n",
    "    logits = h @ W2 + b2\n",
    "    loss = F.cross_entropy(logits,Y)\n",
    "    print(loss.item())\n",
    "    for p in parameters:\n",
    "        p.grad = None\n",
    "    loss.backward()\n",
    "    \n",
    "    #update \n",
    "    for p in parameters:\n",
    "        p.data -= 0.1 * p.grad\n",
    "    "
   ]
  },
  {
   "cell_type": "code",
   "execution_count": 48,
   "id": "65a4cd96-c717-44e8-ab78-7c185dfebd4e",
   "metadata": {},
   "outputs": [
    {
     "data": {
      "text/plain": [
       "torch.return_types.max(\n",
       "values=tensor([2.5649, 3.0488, 3.5840,  ..., 2.1961, 2.1656, 2.6220],\n",
       "       grad_fn=<MaxBackward0>),\n",
       "indices=tensor([13,  1,  1,  ...,  0,  0,  0]))"
      ]
     },
     "execution_count": 48,
     "metadata": {},
     "output_type": "execute_result"
    }
   ],
   "source": [
    "logits.max(1)"
   ]
  },
  {
   "cell_type": "code",
   "execution_count": 37,
   "id": "aee74114-2def-4ed5-adeb-2955e699cf92",
   "metadata": {},
   "outputs": [
    {
     "data": {
      "text/plain": [
       "tensor([ 5, 13, 13,  1,  0, 15, 12,  9, 22,  9,  1,  0,  1, 22,  1,  0,  9, 19,\n",
       "         1,  2,  5, 12, 12,  1,  0, 19, 15, 16,  8,  9,  1,  0])"
      ]
     },
     "execution_count": 37,
     "metadata": {},
     "output_type": "execute_result"
    }
   ],
   "source": [
    "Y"
   ]
  },
  {
   "cell_type": "markdown",
   "id": "97f4a4e2-832f-4fc1-811c-998b2b256a56",
   "metadata": {},
   "source": [
    "### Training the full dataset"
   ]
  },
  {
   "cell_type": "code",
   "execution_count": 38,
   "id": "a4822eda-a3fc-444c-8e6d-cc3cfbc373c3",
   "metadata": {},
   "outputs": [],
   "source": [
    "# build the dataset\n",
    "\n",
    "block_size = 3 # context length: how many characters do we take to predict the next one?\n",
    "X, Y = [], []\n",
    "for w in words:\n",
    "  context = [0] * block_size\n",
    "  for ch in w + '.':\n",
    "    ix = stoi[ch]\n",
    "    X.append(context)\n",
    "    Y.append(ix)\n",
    "    # print(''.join(itos[i] for i in context), '--->', itos[ix])\n",
    "    context = context[1:] + [ix] # crop and append\n",
    "  \n",
    "X = torch.tensor(X)\n",
    "Y = torch.tensor(Y)"
   ]
  },
  {
   "cell_type": "code",
   "execution_count": 39,
   "id": "67ded016-0a2c-426a-a345-73b2543c14da",
   "metadata": {},
   "outputs": [
    {
     "data": {
      "text/plain": [
       "(torch.Size([228146, 3]), torch.Size([228146]))"
      ]
     },
     "execution_count": 39,
     "metadata": {},
     "output_type": "execute_result"
    }
   ],
   "source": [
    "X.shape, Y.shape"
   ]
  },
  {
   "cell_type": "code",
   "execution_count": 63,
   "id": "fa66d3c5-e9a5-4b0c-9730-3dd382f8e70a",
   "metadata": {},
   "outputs": [],
   "source": [
    "g = torch.Generator().manual_seed(2147483647) # for reproducibility\n",
    "C = torch.randn((27, 2), generator=g)\n",
    "W1 = torch.randn((6, 100), generator=g)\n",
    "b1 = torch.randn(100, generator=g)\n",
    "W2 = torch.randn((100, 27), generator=g)\n",
    "b2 = torch.randn(27, generator=g)\n",
    "parameters = [C, W1, b1, W2, b2]"
   ]
  },
  {
   "cell_type": "code",
   "execution_count": 64,
   "id": "90d02195-8b04-43a8-b3cc-caeb0310a1eb",
   "metadata": {},
   "outputs": [],
   "source": [
    "for p in parameters:\n",
    "    p.requires_grad = True"
   ]
  },
  {
   "cell_type": "code",
   "execution_count": 1,
   "id": "c1b93548-5c9e-4c99-92f0-e442299ba503",
   "metadata": {},
   "outputs": [
    {
     "ename": "NameError",
     "evalue": "name 'torch' is not defined",
     "output_type": "error",
     "traceback": [
      "\u001b[0;31m---------------------------------------------------------------------------\u001b[0m",
      "\u001b[0;31mNameError\u001b[0m                                 Traceback (most recent call last)",
      "Cell \u001b[0;32mIn[1], line 3\u001b[0m\n\u001b[1;32m      1\u001b[0m \u001b[38;5;28;01mimport\u001b[39;00m \u001b[38;5;21;01mmatplotlib\u001b[39;00m\u001b[38;5;21;01m.\u001b[39;00m\u001b[38;5;21;01mpyplot\u001b[39;00m \u001b[38;5;28;01mas\u001b[39;00m \u001b[38;5;21;01mplt\u001b[39;00m\n\u001b[0;32m----> 3\u001b[0m lre \u001b[38;5;241m=\u001b[39m torch\u001b[38;5;241m.\u001b[39mlinspace(\u001b[38;5;241m-\u001b[39m\u001b[38;5;241m3\u001b[39m, \u001b[38;5;241m0\u001b[39m, \u001b[38;5;241m100\u001b[39m)\n\u001b[1;32m      4\u001b[0m lrs_log \u001b[38;5;241m=\u001b[39m \u001b[38;5;241m10\u001b[39m\u001b[38;5;241m*\u001b[39m\u001b[38;5;241m*\u001b[39mlre\n\u001b[1;32m      5\u001b[0m lrs_linear \u001b[38;5;241m=\u001b[39m torch\u001b[38;5;241m.\u001b[39mlinspace(\u001b[38;5;241m0.001\u001b[39m, \u001b[38;5;241m1\u001b[39m, \u001b[38;5;241m100\u001b[39m)\n",
      "\u001b[0;31mNameError\u001b[0m: name 'torch' is not defined"
     ]
    }
   ],
   "source": [
    "import matplotlib.pyplot as plt\n",
    "\n",
    "lre = torch.linspace(-3, 0, 100)\n",
    "lrs_log = 10**lre\n",
    "lrs_linear = torch.linspace(0.001, 1, 100)\n",
    "\n",
    "plt.plot(lrs_log, label=\"Log Scale\", marker=\"o\")\n",
    "plt.plot(lrs_linear, label=\"Linear Scale\", marker=\"x\")\n",
    "plt.xscale(\"log\")  # Log scale for better visualization\n",
    "plt.legend()\n",
    "plt.show()\n"
   ]
  },
  {
   "cell_type": "code",
   "execution_count": 69,
   "id": "297e3235-c302-45cc-99bd-437825c7b821",
   "metadata": {},
   "outputs": [],
   "source": [
    "lre = torch.linspace(-3, 0, 1000) # 1000 numbers between -3 and 0\n",
    "lrs = 10**lre"
   ]
  },
  {
   "cell_type": "code",
   "execution_count": 74,
   "id": "adf356db-e762-48ab-938e-151c4669d36f",
   "metadata": {},
   "outputs": [
    {
     "name": "stdout",
     "output_type": "stream",
     "text": [
      "2.3906760215759277\n"
     ]
    }
   ],
   "source": [
    "lri = []\n",
    "lossi =  []\n",
    "for i in range(10000):\n",
    "    #mini_batch construct\n",
    "    ix = torch.randint(0,X.shape[0],(32,))\n",
    "    #forward pass\n",
    "    emb = C[X[ix]] # 32,3,2\n",
    "    h = torch.tanh(emb.view(-1,6) @ W1 + b1)\n",
    "    logits = h @ W2 + b2\n",
    "    loss = F.cross_entropy(logits,Y[ix])\n",
    "    for p in parameters:\n",
    "        p.grad = None\n",
    "    loss.backward()\n",
    "    \n",
    "    #update \n",
    "    lr = 0.1\n",
    "    for p in parameters:\n",
    "        p.data -= 0.1 * p.grad\n",
    "\n",
    "    #track stats\n",
    "    # lri.append(lre[i])\n",
    "    # lossi.append(loss.item())\n",
    "print(loss.item())"
   ]
  },
  {
   "cell_type": "code",
   "execution_count": 67,
   "id": "c3e90df3-8a60-40e6-82de-1139328a8726",
   "metadata": {},
   "outputs": [
    {
     "data": {
      "text/plain": [
       "[<matplotlib.lines.Line2D at 0x12b906dd0>]"
      ]
     },
     "execution_count": 67,
     "metadata": {},
     "output_type": "execute_result"
    },
    {
     "data": {
      "image/png": "[encoded data removed]",
      "text/plain": [
       "<Figure size 640x480 with 1 Axes>"
      ]
     },
     "metadata": {},
     "output_type": "display_data"
    }
   ],
   "source": [
    "plt.plot(lri,lossi) # good learning rate is at somewhere between 0.0 and 0.2 ( exponent between -1.0 and -0.5)"
   ]
  },
  {
   "cell_type": "code",
   "execution_count": 70,
   "id": "b880e399-4c40-4d73-b0f8-f40e6ec0e133",
   "metadata": {},
   "outputs": [
    {
     "data": {
      "text/plain": [
       "[<matplotlib.lines.Line2D at 0x12ba16210>]"
      ]
     },
     "execution_count": 70,
     "metadata": {},
     "output_type": "execute_result"
    },
    {
     "data": {
      "image/png": "[encoded data removed]",
      "text/plain": [
       "<Figure size 640x480 with 1 Axes>"
      ]
     },
     "metadata": {},
     "output_type": "display_data"
    }
   ],
   "source": [
    "plt.plot(lri,lossi) # expoenent and loss"
   ]
  },
  {
   "cell_type": "markdown",
   "id": "075e5f97-b226-4d8f-b90b-40656a4fefeb",
   "metadata": {},
   "source": [
    "### Mini-batch training"
   ]
  },
  {
   "cell_type": "code",
   "execution_count": 73,
   "id": "55bf6091-d621-4cfc-a4e0-d1b9d8e53513",
   "metadata": {},
   "outputs": [
    {
     "data": {
      "text/plain": [
       "tensor([ 52959, 112402, 106000,  40704, 210582, 226638, 197345,   5678,  40863,\n",
       "         73639,  21716, 108822, 217478, 216134,  52632, 103535,  60607,  40490,\n",
       "        194164,  96591,  73987, 215476,  78785,  26145, 219755, 150090,  99120,\n",
       "        140520,    452, 186499, 205408,  92896])"
      ]
     },
     "execution_count": 73,
     "metadata": {},
     "output_type": "execute_result"
    }
   ],
   "source": [
    "torch.randint(0,X.shape[0],(32,))"
   ]
  },
  {
   "cell_type": "code",
   "execution_count": 77,
   "id": "dae2884c-b35b-4325-999c-274882dc6456",
   "metadata": {},
   "outputs": [
    {
     "data": {
      "text/plain": [
       "tensor(2.3916, grad_fn=<NllLossBackward0>)"
      ]
     },
     "execution_count": 77,
     "metadata": {},
     "output_type": "execute_result"
    }
   ],
   "source": [
    "emb = C[X] # 32,3,2\n",
    "h = torch.tanh(emb.view(-1,6) @ W1 + b1)\n",
    "logits = h @ W2 + b2\n",
    "loss = F.cross_entropy(logits,Y)\n",
    "loss"
   ]
  },
  {
   "cell_type": "markdown",
   "id": "4378799d-1433-42be-bd64-d081e2777fbf",
   "metadata": {},
   "source": [
    "### Spliting the dataset"
   ]
  },
  {
   "cell_type": "code",
   "execution_count": 75,
   "id": "fd268959-5ae7-4d89-9b3e-3532820269bd",
   "metadata": {},
   "outputs": [],
   "source": [
    "#training, validation ,testing"
   ]
  },
  {
   "cell_type": "code",
   "execution_count": 1,
   "id": "1eed7712-e8e4-4018-9b5a-9c87cd21c45b",
   "metadata": {},
   "outputs": [
    {
     "ename": "NameError",
     "evalue": "name 'words' is not defined",
     "output_type": "error",
     "traceback": [
      "\u001b[0;31m---------------------------------------------------------------------------\u001b[0m",
      "\u001b[0;31mNameError\u001b[0m                                 Traceback (most recent call last)",
      "Cell \u001b[0;32mIn[1], line 24\u001b[0m\n\u001b[1;32m     22\u001b[0m \u001b[38;5;28;01mimport\u001b[39;00m \u001b[38;5;21;01mrandom\u001b[39;00m\n\u001b[1;32m     23\u001b[0m random\u001b[38;5;241m.\u001b[39mseed(\u001b[38;5;241m42\u001b[39m)\n\u001b[0;32m---> 24\u001b[0m random\u001b[38;5;241m.\u001b[39mshuffle(words)\n\u001b[1;32m     25\u001b[0m n1 \u001b[38;5;241m=\u001b[39m \u001b[38;5;28mint\u001b[39m(\u001b[38;5;241m0.8\u001b[39m\u001b[38;5;241m*\u001b[39m\u001b[38;5;28mlen\u001b[39m(words))\n\u001b[1;32m     26\u001b[0m n2 \u001b[38;5;241m=\u001b[39m \u001b[38;5;28mint\u001b[39m(\u001b[38;5;241m0.9\u001b[39m\u001b[38;5;241m*\u001b[39m\u001b[38;5;28mlen\u001b[39m(words))\n",
      "\u001b[0;31mNameError\u001b[0m: name 'words' is not defined"
     ]
    }
   ],
   "source": [
    "# build the dataset\n",
    "block_size = 3 # context length: how many characters do we take to predict the next one?\n",
    "\n",
    "def build_dataset(words):  \n",
    "  X, Y = [], []\n",
    "  for w in words:\n",
    "\n",
    "    #print(w)\n",
    "    context = [0] * block_size\n",
    "    for ch in w + '.':\n",
    "      ix = stoi[ch]\n",
    "      X.append(context)\n",
    "      Y.append(ix)\n",
    "      #print(''.join(itos[i] for i in context), '--->', itos[ix])\n",
    "      context = context[1:] + [ix] # crop and append\n",
    "\n",
    "  X = torch.tensor(X)\n",
    "  Y = torch.tensor(Y)\n",
    "  print(X.shape, Y.shape)\n",
    "  return X, Y\n",
    "\n",
    "import random\n",
    "random.seed(42)\n",
    "random.shuffle(words)\n",
    "n1 = int(0.8*len(words))\n",
    "n2 = int(0.9*len(words))\n",
    "\n",
    "Xtr, Ytr = build_dataset(words[:n1])\n",
    "Xdev, Ydev = build_dataset(words[n1:n2])\n",
    "Xte, Yte = build_dataset(words[n2:])"
   ]
  },
  {
   "cell_type": "code",
   "execution_count": 79,
   "id": "afc56935-675d-4f48-bbd3-b4a2ffe04ca9",
   "metadata": {},
   "outputs": [
    {
     "data": {
      "text/plain": [
       "25626"
      ]
     },
     "execution_count": 79,
     "metadata": {},
     "output_type": "execute_result"
    }
   ],
   "source": [
    "n1"
   ]
  },
  {
   "cell_type": "code",
   "execution_count": 80,
   "id": "556b4b3a-695c-499d-b39f-ef9502423173",
   "metadata": {},
   "outputs": [
    {
     "data": {
      "text/plain": [
       "3203"
      ]
     },
     "execution_count": 80,
     "metadata": {},
     "output_type": "execute_result"
    }
   ],
   "source": [
    "n2-n1"
   ]
  },
  {
   "cell_type": "code",
   "execution_count": 81,
   "id": "cc9bb0c3-d3d3-4336-88cd-dc0cc227503c",
   "metadata": {},
   "outputs": [
    {
     "data": {
      "text/plain": [
       "3204"
      ]
     },
     "execution_count": 81,
     "metadata": {},
     "output_type": "execute_result"
    }
   ],
   "source": [
    "len(words) - n2"
   ]
  },
  {
   "cell_type": "code",
   "execution_count": 82,
   "id": "0872519a-504b-4624-b155-bbc2ea8f87da",
   "metadata": {},
   "outputs": [
    {
     "data": {
      "text/plain": [
       "(torch.Size([182625, 3]), torch.Size([182625]))"
      ]
     },
     "execution_count": 82,
     "metadata": {},
     "output_type": "execute_result"
    }
   ],
   "source": [
    "Xtr.shape, Ytr.shape"
   ]
  },
  {
   "cell_type": "code",
   "execution_count": 83,
   "id": "58e9d83d-c5a7-40cb-b6e5-c518f3000d07",
   "metadata": {},
   "outputs": [],
   "source": [
    "g = torch.Generator().manual_seed(2147483647) # for reproducibility\n",
    "C = torch.randn((27, 10), generator=g)\n",
    "W1 = torch.randn((30, 200), generator=g)\n",
    "b1 = torch.randn(200, generator=g)\n",
    "W2 = torch.randn((200, 27), generator=g)\n",
    "b2 = torch.randn(27, generator=g)\n",
    "parameters = [C, W1, b1, W2, b2]"
   ]
  },
  {
   "cell_type": "code",
   "execution_count": 84,
   "id": "29fc4e84-30c7-477b-b491-63a3feef12fa",
   "metadata": {},
   "outputs": [
    {
     "data": {
      "text/plain": [
       "11897"
      ]
     },
     "execution_count": 84,
     "metadata": {},
     "output_type": "execute_result"
    }
   ],
   "source": [
    "sum(p.nelement() for p in parameters)"
   ]
  },
  {
   "cell_type": "code",
   "execution_count": 85,
   "id": "731fa12b-9cd8-4570-b5ee-ba737ee1a189",
   "metadata": {},
   "outputs": [],
   "source": [
    "for p in parameters:\n",
    "    p.requires_grad = True"
   ]
  },
  {
   "cell_type": "code",
   "execution_count": 86,
   "id": "c4dc91ab-9d9f-44f7-b8fe-f3d2f0880e54",
   "metadata": {},
   "outputs": [
    {
     "data": {
      "text/plain": [
       "tensor([0.0010, 0.0010, 0.0010, 0.0010, 0.0010, 0.0010, 0.0010, 0.0010, 0.0011,\n",
       "        0.0011, 0.0011, 0.0011, 0.0011, 0.0011, 0.0011, 0.0011, 0.0011, 0.0011,\n",
       "        0.0011, 0.0011, 0.0011, 0.0012, 0.0012, 0.0012, 0.0012, 0.0012, 0.0012,\n",
       "        0.0012, 0.0012, 0.0012, 0.0012, 0.0012, 0.0012, 0.0013, 0.0013, 0.0013,\n",
       "        0.0013, 0.0013, 0.0013, 0.0013, 0.0013, 0.0013, 0.0013, 0.0013, 0.0014,\n",
       "        0.0014, 0.0014, 0.0014, 0.0014, 0.0014, 0.0014, 0.0014, 0.0014, 0.0014,\n",
       "        0.0015, 0.0015, 0.0015, 0.0015, 0.0015, 0.0015, 0.0015, 0.0015, 0.0015,\n",
       "        0.0015, 0.0016, 0.0016, 0.0016, 0.0016, 0.0016, 0.0016, 0.0016, 0.0016,\n",
       "        0.0016, 0.0017, 0.0017, 0.0017, 0.0017, 0.0017, 0.0017, 0.0017, 0.0017,\n",
       "        0.0018, 0.0018, 0.0018, 0.0018, 0.0018, 0.0018, 0.0018, 0.0018, 0.0019,\n",
       "        0.0019, 0.0019, 0.0019, 0.0019, 0.0019, 0.0019, 0.0019, 0.0020, 0.0020,\n",
       "        0.0020, 0.0020, 0.0020, 0.0020, 0.0020, 0.0021, 0.0021, 0.0021, 0.0021,\n",
       "        0.0021, 0.0021, 0.0021, 0.0022, 0.0022, 0.0022, 0.0022, 0.0022, 0.0022,\n",
       "        0.0022, 0.0023, 0.0023, 0.0023, 0.0023, 0.0023, 0.0023, 0.0024, 0.0024,\n",
       "        0.0024, 0.0024, 0.0024, 0.0024, 0.0025, 0.0025, 0.0025, 0.0025, 0.0025,\n",
       "        0.0025, 0.0026, 0.0026, 0.0026, 0.0026, 0.0026, 0.0027, 0.0027, 0.0027,\n",
       "        0.0027, 0.0027, 0.0027, 0.0028, 0.0028, 0.0028, 0.0028, 0.0028, 0.0029,\n",
       "        0.0029, 0.0029, 0.0029, 0.0029, 0.0030, 0.0030, 0.0030, 0.0030, 0.0030,\n",
       "        0.0031, 0.0031, 0.0031, 0.0031, 0.0032, 0.0032, 0.0032, 0.0032, 0.0032,\n",
       "        0.0033, 0.0033, 0.0033, 0.0033, 0.0034, 0.0034, 0.0034, 0.0034, 0.0034,\n",
       "        0.0035, 0.0035, 0.0035, 0.0035, 0.0036, 0.0036, 0.0036, 0.0036, 0.0037,\n",
       "        0.0037, 0.0037, 0.0037, 0.0038, 0.0038, 0.0038, 0.0039, 0.0039, 0.0039,\n",
       "        0.0039, 0.0040, 0.0040, 0.0040, 0.0040, 0.0041, 0.0041, 0.0041, 0.0042,\n",
       "        0.0042, 0.0042, 0.0042, 0.0043, 0.0043, 0.0043, 0.0044, 0.0044, 0.0044,\n",
       "        0.0045, 0.0045, 0.0045, 0.0045, 0.0046, 0.0046, 0.0046, 0.0047, 0.0047,\n",
       "        0.0047, 0.0048, 0.0048, 0.0048, 0.0049, 0.0049, 0.0049, 0.0050, 0.0050,\n",
       "        0.0050, 0.0051, 0.0051, 0.0051, 0.0052, 0.0052, 0.0053, 0.0053, 0.0053,\n",
       "        0.0054, 0.0054, 0.0054, 0.0055, 0.0055, 0.0056, 0.0056, 0.0056, 0.0057,\n",
       "        0.0057, 0.0058, 0.0058, 0.0058, 0.0059, 0.0059, 0.0060, 0.0060, 0.0060,\n",
       "        0.0061, 0.0061, 0.0062, 0.0062, 0.0062, 0.0063, 0.0063, 0.0064, 0.0064,\n",
       "        0.0065, 0.0065, 0.0066, 0.0066, 0.0067, 0.0067, 0.0067, 0.0068, 0.0068,\n",
       "        0.0069, 0.0069, 0.0070, 0.0070, 0.0071, 0.0071, 0.0072, 0.0072, 0.0073,\n",
       "        0.0073, 0.0074, 0.0074, 0.0075, 0.0075, 0.0076, 0.0076, 0.0077, 0.0077,\n",
       "        0.0078, 0.0079, 0.0079, 0.0080, 0.0080, 0.0081, 0.0081, 0.0082, 0.0082,\n",
       "        0.0083, 0.0084, 0.0084, 0.0085, 0.0085, 0.0086, 0.0086, 0.0087, 0.0088,\n",
       "        0.0088, 0.0089, 0.0090, 0.0090, 0.0091, 0.0091, 0.0092, 0.0093, 0.0093,\n",
       "        0.0094, 0.0095, 0.0095, 0.0096, 0.0097, 0.0097, 0.0098, 0.0099, 0.0099,\n",
       "        0.0100, 0.0101, 0.0101, 0.0102, 0.0103, 0.0104, 0.0104, 0.0105, 0.0106,\n",
       "        0.0106, 0.0107, 0.0108, 0.0109, 0.0109, 0.0110, 0.0111, 0.0112, 0.0112,\n",
       "        0.0113, 0.0114, 0.0115, 0.0116, 0.0116, 0.0117, 0.0118, 0.0119, 0.0120,\n",
       "        0.0121, 0.0121, 0.0122, 0.0123, 0.0124, 0.0125, 0.0126, 0.0127, 0.0127,\n",
       "        0.0128, 0.0129, 0.0130, 0.0131, 0.0132, 0.0133, 0.0134, 0.0135, 0.0136,\n",
       "        0.0137, 0.0137, 0.0138, 0.0139, 0.0140, 0.0141, 0.0142, 0.0143, 0.0144,\n",
       "        0.0145, 0.0146, 0.0147, 0.0148, 0.0149, 0.0150, 0.0151, 0.0152, 0.0154,\n",
       "        0.0155, 0.0156, 0.0157, 0.0158, 0.0159, 0.0160, 0.0161, 0.0162, 0.0163,\n",
       "        0.0165, 0.0166, 0.0167, 0.0168, 0.0169, 0.0170, 0.0171, 0.0173, 0.0174,\n",
       "        0.0175, 0.0176, 0.0178, 0.0179, 0.0180, 0.0181, 0.0182, 0.0184, 0.0185,\n",
       "        0.0186, 0.0188, 0.0189, 0.0190, 0.0192, 0.0193, 0.0194, 0.0196, 0.0197,\n",
       "        0.0198, 0.0200, 0.0201, 0.0202, 0.0204, 0.0205, 0.0207, 0.0208, 0.0210,\n",
       "        0.0211, 0.0212, 0.0214, 0.0215, 0.0217, 0.0218, 0.0220, 0.0221, 0.0223,\n",
       "        0.0225, 0.0226, 0.0228, 0.0229, 0.0231, 0.0232, 0.0234, 0.0236, 0.0237,\n",
       "        0.0239, 0.0241, 0.0242, 0.0244, 0.0246, 0.0247, 0.0249, 0.0251, 0.0253,\n",
       "        0.0254, 0.0256, 0.0258, 0.0260, 0.0261, 0.0263, 0.0265, 0.0267, 0.0269,\n",
       "        0.0271, 0.0273, 0.0274, 0.0276, 0.0278, 0.0280, 0.0282, 0.0284, 0.0286,\n",
       "        0.0288, 0.0290, 0.0292, 0.0294, 0.0296, 0.0298, 0.0300, 0.0302, 0.0304,\n",
       "        0.0307, 0.0309, 0.0311, 0.0313, 0.0315, 0.0317, 0.0320, 0.0322, 0.0324,\n",
       "        0.0326, 0.0328, 0.0331, 0.0333, 0.0335, 0.0338, 0.0340, 0.0342, 0.0345,\n",
       "        0.0347, 0.0350, 0.0352, 0.0354, 0.0357, 0.0359, 0.0362, 0.0364, 0.0367,\n",
       "        0.0369, 0.0372, 0.0375, 0.0377, 0.0380, 0.0382, 0.0385, 0.0388, 0.0390,\n",
       "        0.0393, 0.0396, 0.0399, 0.0401, 0.0404, 0.0407, 0.0410, 0.0413, 0.0416,\n",
       "        0.0418, 0.0421, 0.0424, 0.0427, 0.0430, 0.0433, 0.0436, 0.0439, 0.0442,\n",
       "        0.0445, 0.0448, 0.0451, 0.0455, 0.0458, 0.0461, 0.0464, 0.0467, 0.0471,\n",
       "        0.0474, 0.0477, 0.0480, 0.0484, 0.0487, 0.0491, 0.0494, 0.0497, 0.0501,\n",
       "        0.0504, 0.0508, 0.0511, 0.0515, 0.0518, 0.0522, 0.0526, 0.0529, 0.0533,\n",
       "        0.0537, 0.0540, 0.0544, 0.0548, 0.0552, 0.0556, 0.0559, 0.0563, 0.0567,\n",
       "        0.0571, 0.0575, 0.0579, 0.0583, 0.0587, 0.0591, 0.0595, 0.0599, 0.0604,\n",
       "        0.0608, 0.0612, 0.0616, 0.0621, 0.0625, 0.0629, 0.0634, 0.0638, 0.0642,\n",
       "        0.0647, 0.0651, 0.0656, 0.0660, 0.0665, 0.0670, 0.0674, 0.0679, 0.0684,\n",
       "        0.0688, 0.0693, 0.0698, 0.0703, 0.0708, 0.0713, 0.0718, 0.0723, 0.0728,\n",
       "        0.0733, 0.0738, 0.0743, 0.0748, 0.0753, 0.0758, 0.0764, 0.0769, 0.0774,\n",
       "        0.0780, 0.0785, 0.0790, 0.0796, 0.0802, 0.0807, 0.0813, 0.0818, 0.0824,\n",
       "        0.0830, 0.0835, 0.0841, 0.0847, 0.0853, 0.0859, 0.0865, 0.0871, 0.0877,\n",
       "        0.0883, 0.0889, 0.0895, 0.0901, 0.0908, 0.0914, 0.0920, 0.0927, 0.0933,\n",
       "        0.0940, 0.0946, 0.0953, 0.0959, 0.0966, 0.0973, 0.0979, 0.0986, 0.0993,\n",
       "        0.1000, 0.1007, 0.1014, 0.1021, 0.1028, 0.1035, 0.1042, 0.1050, 0.1057,\n",
       "        0.1064, 0.1072, 0.1079, 0.1087, 0.1094, 0.1102, 0.1109, 0.1117, 0.1125,\n",
       "        0.1133, 0.1140, 0.1148, 0.1156, 0.1164, 0.1172, 0.1181, 0.1189, 0.1197,\n",
       "        0.1205, 0.1214, 0.1222, 0.1231, 0.1239, 0.1248, 0.1256, 0.1265, 0.1274,\n",
       "        0.1283, 0.1292, 0.1301, 0.1310, 0.1319, 0.1328, 0.1337, 0.1346, 0.1356,\n",
       "        0.1365, 0.1374, 0.1384, 0.1394, 0.1403, 0.1413, 0.1423, 0.1433, 0.1443,\n",
       "        0.1453, 0.1463, 0.1473, 0.1483, 0.1493, 0.1504, 0.1514, 0.1525, 0.1535,\n",
       "        0.1546, 0.1557, 0.1567, 0.1578, 0.1589, 0.1600, 0.1611, 0.1623, 0.1634,\n",
       "        0.1645, 0.1657, 0.1668, 0.1680, 0.1691, 0.1703, 0.1715, 0.1727, 0.1739,\n",
       "        0.1751, 0.1763, 0.1775, 0.1788, 0.1800, 0.1812, 0.1825, 0.1838, 0.1850,\n",
       "        0.1863, 0.1876, 0.1889, 0.1902, 0.1916, 0.1929, 0.1942, 0.1956, 0.1969,\n",
       "        0.1983, 0.1997, 0.2010, 0.2024, 0.2038, 0.2053, 0.2067, 0.2081, 0.2096,\n",
       "        0.2110, 0.2125, 0.2140, 0.2154, 0.2169, 0.2184, 0.2200, 0.2215, 0.2230,\n",
       "        0.2246, 0.2261, 0.2277, 0.2293, 0.2309, 0.2325, 0.2341, 0.2357, 0.2373,\n",
       "        0.2390, 0.2406, 0.2423, 0.2440, 0.2457, 0.2474, 0.2491, 0.2508, 0.2526,\n",
       "        0.2543, 0.2561, 0.2579, 0.2597, 0.2615, 0.2633, 0.2651, 0.2669, 0.2688,\n",
       "        0.2707, 0.2725, 0.2744, 0.2763, 0.2783, 0.2802, 0.2821, 0.2841, 0.2861,\n",
       "        0.2880, 0.2900, 0.2921, 0.2941, 0.2961, 0.2982, 0.3002, 0.3023, 0.3044,\n",
       "        0.3065, 0.3087, 0.3108, 0.3130, 0.3151, 0.3173, 0.3195, 0.3217, 0.3240,\n",
       "        0.3262, 0.3285, 0.3308, 0.3331, 0.3354, 0.3377, 0.3400, 0.3424, 0.3448,\n",
       "        0.3472, 0.3496, 0.3520, 0.3544, 0.3569, 0.3594, 0.3619, 0.3644, 0.3669,\n",
       "        0.3695, 0.3720, 0.3746, 0.3772, 0.3798, 0.3825, 0.3851, 0.3878, 0.3905,\n",
       "        0.3932, 0.3959, 0.3987, 0.4014, 0.4042, 0.4070, 0.4098, 0.4127, 0.4155,\n",
       "        0.4184, 0.4213, 0.4243, 0.4272, 0.4302, 0.4331, 0.4362, 0.4392, 0.4422,\n",
       "        0.4453, 0.4484, 0.4515, 0.4546, 0.4578, 0.4610, 0.4642, 0.4674, 0.4706,\n",
       "        0.4739, 0.4772, 0.4805, 0.4838, 0.4872, 0.4906, 0.4940, 0.4974, 0.5008,\n",
       "        0.5043, 0.5078, 0.5113, 0.5149, 0.5185, 0.5221, 0.5257, 0.5293, 0.5330,\n",
       "        0.5367, 0.5404, 0.5442, 0.5479, 0.5517, 0.5556, 0.5594, 0.5633, 0.5672,\n",
       "        0.5712, 0.5751, 0.5791, 0.5831, 0.5872, 0.5913, 0.5954, 0.5995, 0.6036,\n",
       "        0.6078, 0.6120, 0.6163, 0.6206, 0.6249, 0.6292, 0.6336, 0.6380, 0.6424,\n",
       "        0.6469, 0.6513, 0.6559, 0.6604, 0.6650, 0.6696, 0.6743, 0.6789, 0.6837,\n",
       "        0.6884, 0.6932, 0.6980, 0.7028, 0.7077, 0.7126, 0.7176, 0.7225, 0.7275,\n",
       "        0.7326, 0.7377, 0.7428, 0.7480, 0.7531, 0.7584, 0.7636, 0.7689, 0.7743,\n",
       "        0.7796, 0.7850, 0.7905, 0.7960, 0.8015, 0.8071, 0.8127, 0.8183, 0.8240,\n",
       "        0.8297, 0.8355, 0.8412, 0.8471, 0.8530, 0.8589, 0.8648, 0.8708, 0.8769,\n",
       "        0.8830, 0.8891, 0.8953, 0.9015, 0.9077, 0.9140, 0.9204, 0.9268, 0.9332,\n",
       "        0.9397, 0.9462, 0.9528, 0.9594, 0.9660, 0.9727, 0.9795, 0.9863, 0.9931,\n",
       "        1.0000])"
      ]
     },
     "execution_count": 86,
     "metadata": {},
     "output_type": "execute_result"
    }
   ],
   "source": [
    "lre = torch.linspace(-3, 0, 1000)\n",
    "lrs = 10**lre\n",
    "lrs"
   ]
  },
  {
   "cell_type": "code",
   "execution_count": 87,
   "id": "98494a8b-4220-412b-b3f3-5af69d59c724",
   "metadata": {},
   "outputs": [],
   "source": [
    "lri = []\n",
    "lossi =  []\n",
    "stepi = []"
   ]
  },
  {
   "cell_type": "markdown",
   "id": "459e2771-7416-4b6b-9e0e-f016427d3b53",
   "metadata": {},
   "source": [
    "Xtr[ix]:\n",
    "\n",
    "Xtr is the training dataset.\n",
    "\n",
    "ix contains 32 random indices, so Xtr[ix] picks 32 rows.\n",
    "\n",
    "If Xtr has shape (N, 3) (i.e., each row has 3 integers), then Xtr[ix] has shape (32, 3).\n",
    "\n",
    "C[Xtr[ix]]:\n",
    "\n",
    "C is an embedding matrix (likely of shape (VocabSize, EmbeddingDim)).\n",
    "\n",
    "Xtr[ix] contains integer indices (tokens), so C[Xtr[ix]] retrieves the embeddings for each token.\n",
    "\n",
    "If C has shape (VocabSize, 10) (i.e., 10-dimensional embeddings), then:\n",
    "\n",
    "Xtr[ix] (shape (32, 3)) is used as an index to look up embeddings.\n",
    "\n",
    "The result emb = C[Xtr[ix]] has shape (32, 3, 10)."
   ]
  },
  {
   "cell_type": "code",
   "execution_count": 88,
   "id": "7120a458-8a3c-42be-8ffe-e9437c29088a",
   "metadata": {},
   "outputs": [
    {
     "name": "stdout",
     "output_type": "stream",
     "text": [
      "2.216202735900879\n"
     ]
    }
   ],
   "source": [
    "for i in range(200000):\n",
    "  \n",
    "  # minibatch construct\n",
    "  ix = torch.randint(0, Xtr.shape[0], (32,))\n",
    "  \n",
    "  # forward pass\n",
    "  emb = C[Xtr[ix]] # (32, 3, 10)\n",
    "  h = torch.tanh(emb.view(-1, 30) @ W1 + b1) # (32, 200)\n",
    "  logits = h @ W2 + b2 # (32, 27)\n",
    "  loss = F.cross_entropy(logits, Ytr[ix])\n",
    "  #print(loss.item())\n",
    "  \n",
    "  # backward pass\n",
    "  for p in parameters:\n",
    "    p.grad = None\n",
    "  loss.backward()\n",
    "  \n",
    "  # update\n",
    "  #lr = lrs[i]\n",
    "  lr = 0.1 if i < 100000 else 0.01\n",
    "  for p in parameters:\n",
    "    p.data += -lr * p.grad\n",
    "\n",
    "  # track stats\n",
    "  #lri.append(lre[i])\n",
    "  stepi.append(i)\n",
    "  lossi.append(loss.log10().item())\n",
    "\n",
    "print(loss.item())"
   ]
  },
  {
   "cell_type": "code",
   "execution_count": 89,
   "id": "8d01c9c4-cf12-4b75-b6d3-b4463930edfb",
   "metadata": {},
   "outputs": [
    {
     "data": {
      "text/plain": [
       "[<matplotlib.lines.Line2D at 0x12a90e210>]"
      ]
     },
     "execution_count": 89,
     "metadata": {},
     "output_type": "execute_result"
    },
    {
     "data": {
      "image/png": "[encoded data removed]",
      "text/plain": [
       "<Figure size 640x480 with 1 Axes>"
      ]
     },
     "metadata": {},
     "output_type": "display_data"
    }
   ],
   "source": [
    "plt.plot(stepi,lossi)"
   ]
  },
  {
   "cell_type": "code",
   "execution_count": 90,
   "id": "6ce76b85-d147-4205-b2e5-17b4700ed4a2",
   "metadata": {},
   "outputs": [
    {
     "data": {
      "text/plain": [
       "tensor(2.1608, grad_fn=<NllLossBackward0>)"
      ]
     },
     "execution_count": 90,
     "metadata": {},
     "output_type": "execute_result"
    }
   ],
   "source": [
    "emb = C[Xdev] # (32, 3, 2)\n",
    "h = torch.tanh(emb.view(-1, 30) @ W1 + b1) # (32, 100)\n",
    "logits = h @ W2 + b2 # (32, 27)\n",
    "loss = F.cross_entropy(logits, Ydev)\n",
    "loss"
   ]
  },
  {
   "cell_type": "code",
   "execution_count": 141,
   "id": "743d2dd1-fbb4-4ce6-90bf-a939c60a984b",
   "metadata": {},
   "outputs": [
    {
     "data": {
      "image/png": "[encoded data removed]",
      "text/plain": [
       "<Figure size 800x800 with 1 Axes>"
      ]
     },
     "metadata": {},
     "output_type": "display_data"
    }
   ],
   "source": [
    "# visualize dimensions 0 and 1 of the embedding matrix C for all characters\n",
    "plt.figure(figsize=(8,8))\n",
    "plt.scatter(C[:,0].data, C[:,1].data, s=200)\n",
    "for i in range(C.shape[0]):\n",
    "    plt.text(C[i,0].item(), C[i,1].item(), itos[i], ha=\"center\", va=\"center\", color='white')\n",
    "plt.grid('minor')"
   ]
  },
  {
   "cell_type": "code",
   "execution_count": 91,
   "id": "f846dfd6-dcd9-4533-a3e1-caf4b009a1aa",
   "metadata": {},
   "outputs": [
    {
     "name": "stdout",
     "output_type": "stream",
     "text": [
      "mora.\n",
      "mayah.\n",
      "see.\n",
      "medhayla.\n",
      "rethrestyn.\n",
      "leg.\n",
      "azeredielin.\n",
      "shi.\n",
      "jenre.\n",
      "elisso.\n",
      "nar.\n",
      "elynn.\n",
      "houraci.\n",
      "shurton.\n",
      "hiriel.\n",
      "kin.\n",
      "retlynn.\n",
      "nophirius.\n",
      "kavder.\n",
      "yarleyelsy.\n"
     ]
    }
   ],
   "source": [
    "# sample from the model\n",
    "g = torch.Generator().manual_seed(2147483647 + 10)\n",
    "\n",
    "for _ in range(20):\n",
    "    \n",
    "    out = []\n",
    "    context = [0] * block_size # initialize with all ...\n",
    "    while True:\n",
    "      emb = C[torch.tensor([context])] # (1,block_size,d)\n",
    "      h = torch.tanh(emb.view(1, -1) @ W1 + b1)\n",
    "      logits = h @ W2 + b2\n",
    "      probs = F.softmax(logits, dim=1)\n",
    "      ix = torch.multinomial(probs, num_samples=1, generator=g).item()\n",
    "      context = context[1:] + [ix]\n",
    "      out.append(ix)\n",
    "      if ix == 0:\n",
    "        break\n",
    "    \n",
    "    print(''.join(itos[i] for i in out))"
   ]
  },
  {
   "cell_type": "markdown",
   "id": "32838754-d36b-4a6f-8763-9e74ee6d4305",
   "metadata": {},
   "source": []
  },
  {
   "cell_type": "code",
   "execution_count": null,
   "id": "fdd08029-e79d-4e9d-8189-7e2e4f60e47f",
   "metadata": {},
   "outputs": [],
   "source": []
  },
  {
   "cell_type": "code",
   "execution_count": null,
   "id": "2b8137a7-146a-4e29-a37c-4c1fcc2e59f1",
   "metadata": {},
   "outputs": [],
   "source": []
  },
  {
   "cell_type": "code",
   "execution_count": null,
   "id": "942bfb2e-1db7-4381-97d6-5a688e6eda17",
   "metadata": {},
   "outputs": [],
   "source": []
  }
 ],
 "metadata": {
  "kernelspec": {
   "display_name": "Python 3 (ipykernel)",
   "language": "python",
   "name": "python3"
  },
  "language_info": {
   "codemirror_mode": {
    "name": "ipython",
    "version": 3
   },
   "file_extension": ".py",
   "mimetype": "text/x-python",
   "name": "python",
   "nbconvert_exporter": "python",
   "pygments_lexer": "ipython3",
   "version": "3.11.7"
  }
 },
 "nbformat": 4,
 "nbformat_minor": 5
}
